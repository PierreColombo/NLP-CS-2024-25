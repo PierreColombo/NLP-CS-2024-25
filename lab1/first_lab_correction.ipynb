{
 "cells": [
  {
   "cell_type": "markdown",
   "metadata": {
    "id": "bA6QfBg9Dz_U",
    "jp-MarkdownHeadingCollapsed": true,
    "tags": []
   },
   "source": [
    "<h1><center><strong><font color=\"chillipepper\">Lab Session 1: An Introduction to Textual Data</font></strong></center></h1>\n",
    "<h3><center><font color=\"green\"><strong>Correction</strong></font></center></h3>\n",
    "\n",
    "\n",
    "------------------------\n",
    "\n",
    "# Overview\n",
    "\n",
    "Before machine learning algorithms, NLP is all about data: data types, data distribution, data preparation, data representation.\n",
    "\n",
    "## Course takeaways\n",
    "\n",
    "- The Why of NLP\n",
    "- What is NLP ? the four challenges of NLP\n",
    "- NLP in two pipelines\n",
    "- Data exploration and preparation\n",
    "\n",
    "## Lab session Prerequisites\n",
    "\n",
    "- Python \n",
    "- Pandas \n",
    "\n",
    "For those not familiar with pandas https://pandas.pydata.org/pandas-docs/stable/getting_started/10min.html \n",
    "\n",
    "## Lab session in a nutshell \n",
    "\n",
    "- First step with a textual dataset \n",
    "- Basic Tokenization (Word Segmentation) of a dataset \n",
    "- Compute Vocabulary and Zipf's law\n",
    "- Introduction to Regex \n",
    "- A basic comparison of two datasets\n",
    "- Hands on some processing tools (POS, NER, parsing) \n",
    "- A glimpse of topic models \n",
    "\n",
    "## Resources: \n",
    "\n",
    "- NLTK: https://www.nltk.org/api/nltk.tokenize.html \n",
    "- PANDAS: https://pandas.pydata.org/pandas-docs/stable/getting_started/10min.html\n",
    "- SPACY: https://spacy.io/usage/spacy-101 \n",
    "\n",
    "## Databases: \n",
    "\n",
    "We will use the following databases:\n",
    "1. [BBC News Classification dataset](https://www.kaggle.com/c/learn-ai-bbc/overview): a corpus that we will download from our gitlab (so you don't have to register to kaggle) and extract manually\n",
    "2. [Amazon Review dataset](https://huggingface.co/datasets/amazon_reviews_multi): a multilingual corpus that we will retrieve from the [Datasets](https://huggingface.co/datasets) library\n",
    "\n",
    "## Tasks\n",
    "\n",
    "### 1. Basic preprocessing\n",
    "1.1 Open the database. Generate simple statistics about the articles. How many unique articles are there? What is the mean length of articles (considering characters)? \n",
    "\n",
    "1.2 Generate simple statistics about the annotators' data for each article. Do the annotations seem consistent? \n",
    "\n",
    "### 2. Word-level preprocessing\n",
    "2.1 Split the articles into list of words. How many different words are there in the vocabulary? \n",
    "\n",
    "2.2 Split the articles into list of words using three different tokenizers from nltk. What is the difference in terms of number of words? What do you think has changed?\n",
    "\n",
    "2.3 Check if Zipf's law applies. \n",
    "\n",
    "### 3. Domain specificity and regex\n",
    "3.1 Use regex to retrieve numbers (ints, floats, %, years, ...) using a regex. \n",
    "\n",
    "3.2 How many percent of characters are numbers (as defined above) in a given article? \n",
    "\n",
    "3.3 Is there any relationship between the percentage of numbers in an article and the content length? \n",
    "\n",
    "### 4. Dataset Comparison\n",
    "Merge datasets and compare some basic statistics\n",
    "\n",
    "### 5. Classic NLP pipeline\n",
    "5.0 Re-tokenize using spacy\n",
    "\n",
    "5.1 Lemmatize using spacy\n",
    "\n",
    "5.2 POS tagging using spacy, plot the trees\n",
    "\n",
    "5.3 NER using spacy, give the amount of each entity type for a given title, and compare it to the title length. \n",
    "\n",
    "### 6. Topic Modelling\n",
    "6.1 Use Gensim's LDA to compute a topic model. \n",
    "\n",
    "6.2 Use PyLDAvis to visualise the topic model. What are the different topic clusters?\n"
   ]
  },
  {
   "cell_type": "markdown",
   "metadata": {
    "id": "gQGgZ8Aa94sF"
   },
   "source": [
    "# <font color=\"chillipepper\">**Imports and Installation**</font>"
   ]
  },
  {
   "cell_type": "code",
   "execution_count": null,
   "metadata": {
    "colab": {
     "base_uri": "https://localhost:8080/"
    },
    "executionInfo": {
     "elapsed": 62971,
     "status": "ok",
     "timestamp": 1646122801123,
     "user": {
      "displayName": "Matthieu Futeral",
      "photoUrl": "https://lh3.googleusercontent.com/a/default-user=s64",
      "userId": "04828829530844275205"
     },
     "user_tz": -60
    },
    "id": "ANdD_ZBh07BF",
    "outputId": "26233ece-e6ec-4e7c-cbb1-6d03f6ebc452"
   },
   "outputs": [
    {
     "name": "stdout",
     "output_type": "stream",
     "text": [
      "Collecting https://github.com/pandas-profiling/pandas-profiling/archive/master.zip\n",
      "  Using cached https://github.com/pandas-profiling/pandas-profiling/archive/master.zip (17.9 MB)\n",
      "Collecting scipy<1.14,>=1.4.1\n",
      "  Downloading scipy-1.13.1-cp310-cp310-macosx_12_0_arm64.whl (30.3 MB)\n",
      "\u001b[K     |█████████████▍                  | 12.6 MB 45 kB/s eta 0:06:325"
     ]
    }
   ],
   "source": [
    "! pip install https://github.com/pandas-profiling/pandas-profiling/archive/master.zip\n",
    "! pip3 install datasets"
   ]
  },
  {
   "cell_type": "code",
   "execution_count": null,
   "metadata": {
    "id": "TnglHO7D1K9d"
   },
   "outputs": [],
   "source": [
    "import pandas as pd\n",
    "import numpy as np\n",
    "from pandas_profiling import ProfileReport\n",
    "\n",
    "from functools import reduce\n",
    "from operator import add\n",
    "from termcolor import colored\n"
   ]
  },
  {
   "cell_type": "markdown",
   "metadata": {
    "id": "RzAUg6JW99B9"
   },
   "source": [
    "# <font color=\"chillipepper\">**Data Basic Exploration**</font>"
   ]
  },
  {
   "cell_type": "markdown",
   "metadata": {
    "id": "bwI70GrNjuL2"
   },
   "source": [
    "We first start by opening the database and load it as a **Pandas dataframe**.\n",
    "\n",
    "Documentation:\n",
    "- https://pandas.pydata.org/docs/"
   ]
  },
  {
   "cell_type": "code",
   "execution_count": null,
   "metadata": {
    "colab": {
     "base_uri": "https://localhost:8080/",
     "height": 225
    },
    "executionInfo": {
     "elapsed": 291,
     "status": "ok",
     "timestamp": 1644881767915,
     "user": {
      "displayName": "Gael Guibon",
      "photoUrl": "https://lh3.googleusercontent.com/a-/AOh14GgXlHf357JM0sp3qvQgvu0DzlW-ufwS48UOIFekkA=s64",
      "userId": "16208742544136185697"
     },
     "user_tz": -60
    },
    "id": "-n__pav_1NX_",
    "outputId": "b0ca408f-46d5-4f49-8252-9ae0a89feff8"
   },
   "outputs": [],
   "source": [
    "df = pd.read_csv('./bbc-news-data.csv', sep='\\t')\n",
    "print(\"Shape:  {0}\".format(df.shape))\n",
    "df.head()"
   ]
  },
  {
   "cell_type": "markdown",
   "metadata": {
    "id": "4dHZg4LclzW9"
   },
   "source": [
    "Our dataframe have the following columns:"
   ]
  },
  {
   "cell_type": "code",
   "execution_count": null,
   "metadata": {
    "colab": {
     "base_uri": "https://localhost:8080/"
    },
    "executionInfo": {
     "elapsed": 328,
     "status": "ok",
     "timestamp": 1644881770177,
     "user": {
      "displayName": "Gael Guibon",
      "photoUrl": "https://lh3.googleusercontent.com/a-/AOh14GgXlHf357JM0sp3qvQgvu0DzlW-ufwS48UOIFekkA=s64",
      "userId": "16208742544136185697"
     },
     "user_tz": -60
    },
    "id": "OzQwqGu92Oe0",
    "outputId": "c40aed17-b5f0-4c25-c99a-a1b53dc236e7"
   },
   "outputs": [],
   "source": [
    "df.columns"
   ]
  },
  {
   "cell_type": "markdown",
   "metadata": {
    "id": "LzCIddCNJirR"
   },
   "source": [
    "### ![programming(3).png](data:image/png;base64,iVBORw0KGgoAAAANSUhEUgAAACAAAAAgCAYAAABzenr0AAAABHNCSVQICAgIfAhkiAAAAAlwSFlzAAAA3QAAAN0BcFOiBwAAABl0RVh0U29mdHdhcmUAd3d3Lmlua3NjYXBlLm9yZ5vuPBoAAAR7SURBVFiFtZdvaFVlHMc/z3PPuefuz825XWV3m5mWU1MLSVEyRoqKk2iLWBCT2uyFpTSIoCCHL0SDXkgUavhKCU3EpGmlorYSShtWig6M1M25gVPb3da2e6/3z3l6cf9u996d42pfOC/O8+/3+f2e5/f8EUopbKnplEHEtwpFDYj5gDf+AdyNfeo6guNoxa18Xv3QzrDCEmDTQS8OuQ1FPeC2R8sQgkNEze3s23B3YgCNB1y49GYQ7wH5Ng2PlR/UpwTDO9jfELQPsOVoKSrUghLLJmh4rJU2hLOWPXW91gCbDi1CipNAxf9iPKUeTLWeffXXcgNsOVqKGb40CcZTEFJfmh4JmaxqPOBChVom0ThABSrUQuMBV6JAS1a59Ob0OQ8J+MsYP0MUMDgwOL5JE5ZINy6XI95JLIstbpohMQWbDnqR8iZpq/1vB3xYalq6dPHXS5Ztzv4xl/K1UyBPJIr8mOZT7NtwNzYFDrmNCabawvmV6Jo2fqMBBd8GIJCMaH7cJpKmU0Z8k7GlaUVu1ixdAIBT19n6/mZ0Xefl6tWUTvfk7ugzR0Mo6mk6ZUgivlXY3OGmFblpqluDkLFQTvNM5f6DPvyBAFIKtn3wrjXEiSSEm4hvlYzt7faN/3LtBmfa2gGY7imho6sbgJbvz3Lu/AVriP40CEWNjB8slsp3OTGcGgPD/mTZdE8xnXEAgP7+QQzDoKDAYjklIIZ5VpI60cZVV28fu7/+gVeqnmP5wieTAB23YwArX1hO/Ws17Ny1l1udd6wH7Dfhu8Bi2wAAd+71sfvYOcpKitA1jalTHqOzqweAGeVePt61l47bNown9I9pWORPprrv+ei+50PXNc6cv8iIPzYlXx755lGHAimUJHaZeGSFwxH+vNExka4puYhocYA5Y+sK8gxerywHp4YyNNA1lFMDZ+r4UAqenjMr1UmBDEaQIxFkIIz0R3CMhHG3DUAgnAlgyIAG6jqIqgw4p8bzLy23dMI7u9La0cOHgSwABaJHIjhuOcJkyS2OaGjFrYT7hxi7GwYjaMduQDDzRAzNcBOa6SZUWsBgTz+uwQiFD4IU3s9660KOZPFeEwpX4Wex03DzV1+geDujUXcUTgcgOrq48/B6hlbGrg1tV28CUPGbj+qPrthwO65ZjnY63loUW1FRczvgz2g0wwHr8iB+lEdXlhP8qRbPkmJmmmEeJ8LiMi+Ly7x4187j5slahqvKrY1rQJHYAOlXsncO7QCxNWuHeCSUJx/zmZJksdIEgYejpyivvQ/tfqYvozRbu8CtjSsSLDEFwzvI01dnvQnHIyFO+3GcHT243YdCUiVyGC/rEr+ppN7fEEQ4a4GerB3HTMeE5BImFc4qft44lAkAsKeuF1OtnxSIAhFlnnyVK29cTi+e2MMkR3bkVJHw84S+gssNGWkis7VnT10vgfCLoHZiIztySgPm6q0scJRmMw7/9XGaKxKGUJQ52il0NHL1zd/HG94aIKFcz/M7UQc/BnUK5TCFohunOIFHfZK+0MbTvx9ltLez/h/sAAAAAElFTkSuQmCC) **TODO!** Print the number of different articles in the database.\n",
    "\n",
    "Tip: You may need the `.unique()` function of Pandas."
   ]
  },
  {
   "cell_type": "code",
   "execution_count": null,
   "metadata": {
    "colab": {
     "base_uri": "https://localhost:8080/"
    },
    "executionInfo": {
     "elapsed": 284,
     "status": "ok",
     "timestamp": 1644881771885,
     "user": {
      "displayName": "Gael Guibon",
      "photoUrl": "https://lh3.googleusercontent.com/a-/AOh14GgXlHf357JM0sp3qvQgvu0DzlW-ufwS48UOIFekkA=s64",
      "userId": "16208742544136185697"
     },
     "user_tz": -60
    },
    "id": "diWMqTsg2Txk",
    "outputId": "d4f42f51-fe74-4007-bfbd-6e5ef12b6cf2"
   },
   "outputs": [],
   "source": [
    "# Number of different articles in the database\n",
    "print(len(df.filename.unique()))"
   ]
  },
  {
   "cell_type": "markdown",
   "metadata": {
    "id": "ciUq0vH3k81U"
   },
   "source": [
    "### ![programming(3).png](data:image/png;base64,iVBORw0KGgoAAAANSUhEUgAAACAAAAAgCAYAAABzenr0AAAABHNCSVQICAgIfAhkiAAAAAlwSFlzAAAA3QAAAN0BcFOiBwAAABl0RVh0U29mdHdhcmUAd3d3Lmlua3NjYXBlLm9yZ5vuPBoAAAR7SURBVFiFtZdvaFVlHMc/z3PPuefuz825XWV3m5mWU1MLSVEyRoqKk2iLWBCT2uyFpTSIoCCHL0SDXkgUavhKCU3EpGmlorYSShtWig6M1M25gVPb3da2e6/3z3l6cf9u996d42pfOC/O8+/3+f2e5/f8EUopbKnplEHEtwpFDYj5gDf+AdyNfeo6guNoxa18Xv3QzrDCEmDTQS8OuQ1FPeC2R8sQgkNEze3s23B3YgCNB1y49GYQ7wH5Ng2PlR/UpwTDO9jfELQPsOVoKSrUghLLJmh4rJU2hLOWPXW91gCbDi1CipNAxf9iPKUeTLWeffXXcgNsOVqKGb40CcZTEFJfmh4JmaxqPOBChVom0ThABSrUQuMBV6JAS1a59Ob0OQ8J+MsYP0MUMDgwOL5JE5ZINy6XI95JLIstbpohMQWbDnqR8iZpq/1vB3xYalq6dPHXS5Ztzv4xl/K1UyBPJIr8mOZT7NtwNzYFDrmNCabawvmV6Jo2fqMBBd8GIJCMaH7cJpKmU0Z8k7GlaUVu1ixdAIBT19n6/mZ0Xefl6tWUTvfk7ugzR0Mo6mk6ZUgivlXY3OGmFblpqluDkLFQTvNM5f6DPvyBAFIKtn3wrjXEiSSEm4hvlYzt7faN/3LtBmfa2gGY7imho6sbgJbvz3Lu/AVriP40CEWNjB8slsp3OTGcGgPD/mTZdE8xnXEAgP7+QQzDoKDAYjklIIZ5VpI60cZVV28fu7/+gVeqnmP5wieTAB23YwArX1hO/Ws17Ny1l1udd6wH7Dfhu8Bi2wAAd+71sfvYOcpKitA1jalTHqOzqweAGeVePt61l47bNown9I9pWORPprrv+ei+50PXNc6cv8iIPzYlXx755lGHAimUJHaZeGSFwxH+vNExka4puYhocYA5Y+sK8gxerywHp4YyNNA1lFMDZ+r4UAqenjMr1UmBDEaQIxFkIIz0R3CMhHG3DUAgnAlgyIAG6jqIqgw4p8bzLy23dMI7u9La0cOHgSwABaJHIjhuOcJkyS2OaGjFrYT7hxi7GwYjaMduQDDzRAzNcBOa6SZUWsBgTz+uwQiFD4IU3s9660KOZPFeEwpX4Wex03DzV1+geDujUXcUTgcgOrq48/B6hlbGrg1tV28CUPGbj+qPrthwO65ZjnY63loUW1FRczvgz2g0wwHr8iB+lEdXlhP8qRbPkmJmmmEeJ8LiMi+Ly7x4187j5slahqvKrY1rQJHYAOlXsncO7QCxNWuHeCSUJx/zmZJksdIEgYejpyivvQ/tfqYvozRbu8CtjSsSLDEFwzvI01dnvQnHIyFO+3GcHT243YdCUiVyGC/rEr+ppN7fEEQ4a4GerB3HTMeE5BImFc4qft44lAkAsKeuF1OtnxSIAhFlnnyVK29cTi+e2MMkR3bkVJHw84S+gssNGWkis7VnT10vgfCLoHZiIztySgPm6q0scJRmMw7/9XGaKxKGUJQ52il0NHL1zd/HG94aIKFcz/M7UQc/BnUK5TCFohunOIFHfZK+0MbTvx9ltLez/h/sAAAAAElFTkSuQmCC) **TODO!** print the mean length (*i.e.* number of characters) of the `content` column\n",
    "\n",
    "Tip: You may need the `.mean()` function of Pandas."
   ]
  },
  {
   "cell_type": "code",
   "execution_count": null,
   "metadata": {
    "colab": {
     "base_uri": "https://localhost:8080/"
    },
    "executionInfo": {
     "elapsed": 256,
     "status": "ok",
     "timestamp": 1644881773870,
     "user": {
      "displayName": "Gael Guibon",
      "photoUrl": "https://lh3.googleusercontent.com/a-/AOh14GgXlHf357JM0sp3qvQgvu0DzlW-ufwS48UOIFekkA=s64",
      "userId": "16208742544136185697"
     },
     "user_tz": -60
    },
    "id": "Nf20Gok12cFh",
    "outputId": "2b029d6e-9854-40d6-9bd7-f209097fbddf"
   },
   "outputs": [],
   "source": [
    "# Mean length of content in characters\n",
    "df.content.drop_duplicates().apply(len).mean()"
   ]
  },
  {
   "cell_type": "markdown",
   "metadata": {
    "id": "pypfC-aJk9M4"
   },
   "source": [
    "### ![programming(3).png](data:image/png;base64,iVBORw0KGgoAAAANSUhEUgAAACAAAAAgCAYAAABzenr0AAAABHNCSVQICAgIfAhkiAAAAAlwSFlzAAAA3QAAAN0BcFOiBwAAABl0RVh0U29mdHdhcmUAd3d3Lmlua3NjYXBlLm9yZ5vuPBoAAAR7SURBVFiFtZdvaFVlHMc/z3PPuefuz825XWV3m5mWU1MLSVEyRoqKk2iLWBCT2uyFpTSIoCCHL0SDXkgUavhKCU3EpGmlorYSShtWig6M1M25gVPb3da2e6/3z3l6cf9u996d42pfOC/O8+/3+f2e5/f8EUopbKnplEHEtwpFDYj5gDf+AdyNfeo6guNoxa18Xv3QzrDCEmDTQS8OuQ1FPeC2R8sQgkNEze3s23B3YgCNB1y49GYQ7wH5Ng2PlR/UpwTDO9jfELQPsOVoKSrUghLLJmh4rJU2hLOWPXW91gCbDi1CipNAxf9iPKUeTLWeffXXcgNsOVqKGb40CcZTEFJfmh4JmaxqPOBChVom0ThABSrUQuMBV6JAS1a59Ob0OQ8J+MsYP0MUMDgwOL5JE5ZINy6XI95JLIstbpohMQWbDnqR8iZpq/1vB3xYalq6dPHXS5Ztzv4xl/K1UyBPJIr8mOZT7NtwNzYFDrmNCabawvmV6Jo2fqMBBd8GIJCMaH7cJpKmU0Z8k7GlaUVu1ixdAIBT19n6/mZ0Xefl6tWUTvfk7ugzR0Mo6mk6ZUgivlXY3OGmFblpqluDkLFQTvNM5f6DPvyBAFIKtn3wrjXEiSSEm4hvlYzt7faN/3LtBmfa2gGY7imho6sbgJbvz3Lu/AVriP40CEWNjB8slsp3OTGcGgPD/mTZdE8xnXEAgP7+QQzDoKDAYjklIIZ5VpI60cZVV28fu7/+gVeqnmP5wieTAB23YwArX1hO/Ws17Ny1l1udd6wH7Dfhu8Bi2wAAd+71sfvYOcpKitA1jalTHqOzqweAGeVePt61l47bNown9I9pWORPprrv+ei+50PXNc6cv8iIPzYlXx755lGHAimUJHaZeGSFwxH+vNExka4puYhocYA5Y+sK8gxerywHp4YyNNA1lFMDZ+r4UAqenjMr1UmBDEaQIxFkIIz0R3CMhHG3DUAgnAlgyIAG6jqIqgw4p8bzLy23dMI7u9La0cOHgSwABaJHIjhuOcJkyS2OaGjFrYT7hxi7GwYjaMduQDDzRAzNcBOa6SZUWsBgTz+uwQiFD4IU3s9660KOZPFeEwpX4Wex03DzV1+geDujUXcUTgcgOrq48/B6hlbGrg1tV28CUPGbj+qPrthwO65ZjnY63loUW1FRczvgz2g0wwHr8iB+lEdXlhP8qRbPkmJmmmEeJ8LiMi+Ly7x4187j5slahqvKrY1rQJHYAOlXsncO7QCxNWuHeCSUJx/zmZJksdIEgYejpyivvQ/tfqYvozRbu8CtjSsSLDEFwzvI01dnvQnHIyFO+3GcHT243YdCUiVyGC/rEr+ppN7fEEQ4a4GerB3HTMeE5BImFc4qft44lAkAsKeuF1OtnxSIAhFlnnyVK29cTi+e2MMkR3bkVJHw84S+gssNGWkis7VnT10vgfCLoHZiIztySgPm6q0scJRmMw7/9XGaKxKGUJQ52il0NHL1zd/HG94aIKFcz/M7UQc/BnUK5TCFohunOIFHfZK+0MbTvx9ltLez/h/sAAAAAElFTkSuQmCC) **TODO!** display the different article categories as a list"
   ]
  },
  {
   "cell_type": "code",
   "execution_count": null,
   "metadata": {
    "colab": {
     "base_uri": "https://localhost:8080/"
    },
    "executionInfo": {
     "elapsed": 332,
     "status": "ok",
     "timestamp": 1644881775908,
     "user": {
      "displayName": "Gael Guibon",
      "photoUrl": "https://lh3.googleusercontent.com/a-/AOh14GgXlHf357JM0sp3qvQgvu0DzlW-ufwS48UOIFekkA=s64",
      "userId": "16208742544136185697"
     },
     "user_tz": -60
    },
    "id": "cAQFcGwa4MrE",
    "outputId": "42eeadd0-5e7d-4fb6-8fdd-ca5038d9991d"
   },
   "outputs": [],
   "source": [
    "# display the different article categories\n",
    "df.category.drop_duplicates().tolist()"
   ]
  },
  {
   "cell_type": "markdown",
   "metadata": {
    "id": "qSSid9oEk-X5"
   },
   "source": [
    "### ![programming(3).png](data:image/png;base64,iVBORw0KGgoAAAANSUhEUgAAACAAAAAgCAYAAABzenr0AAAABHNCSVQICAgIfAhkiAAAAAlwSFlzAAAA3QAAAN0BcFOiBwAAABl0RVh0U29mdHdhcmUAd3d3Lmlua3NjYXBlLm9yZ5vuPBoAAAR7SURBVFiFtZdvaFVlHMc/z3PPuefuz825XWV3m5mWU1MLSVEyRoqKk2iLWBCT2uyFpTSIoCCHL0SDXkgUavhKCU3EpGmlorYSShtWig6M1M25gVPb3da2e6/3z3l6cf9u996d42pfOC/O8+/3+f2e5/f8EUopbKnplEHEtwpFDYj5gDf+AdyNfeo6guNoxa18Xv3QzrDCEmDTQS8OuQ1FPeC2R8sQgkNEze3s23B3YgCNB1y49GYQ7wH5Ng2PlR/UpwTDO9jfELQPsOVoKSrUghLLJmh4rJU2hLOWPXW91gCbDi1CipNAxf9iPKUeTLWeffXXcgNsOVqKGb40CcZTEFJfmh4JmaxqPOBChVom0ThABSrUQuMBV6JAS1a59Ob0OQ8J+MsYP0MUMDgwOL5JE5ZINy6XI95JLIstbpohMQWbDnqR8iZpq/1vB3xYalq6dPHXS5Ztzv4xl/K1UyBPJIr8mOZT7NtwNzYFDrmNCabawvmV6Jo2fqMBBd8GIJCMaH7cJpKmU0Z8k7GlaUVu1ixdAIBT19n6/mZ0Xefl6tWUTvfk7ugzR0Mo6mk6ZUgivlXY3OGmFblpqluDkLFQTvNM5f6DPvyBAFIKtn3wrjXEiSSEm4hvlYzt7faN/3LtBmfa2gGY7imho6sbgJbvz3Lu/AVriP40CEWNjB8slsp3OTGcGgPD/mTZdE8xnXEAgP7+QQzDoKDAYjklIIZ5VpI60cZVV28fu7/+gVeqnmP5wieTAB23YwArX1hO/Ws17Ny1l1udd6wH7Dfhu8Bi2wAAd+71sfvYOcpKitA1jalTHqOzqweAGeVePt61l47bNown9I9pWORPprrv+ei+50PXNc6cv8iIPzYlXx755lGHAimUJHaZeGSFwxH+vNExka4puYhocYA5Y+sK8gxerywHp4YyNNA1lFMDZ+r4UAqenjMr1UmBDEaQIxFkIIz0R3CMhHG3DUAgnAlgyIAG6jqIqgw4p8bzLy23dMI7u9La0cOHgSwABaJHIjhuOcJkyS2OaGjFrYT7hxi7GwYjaMduQDDzRAzNcBOa6SZUWsBgTz+uwQiFD4IU3s9660KOZPFeEwpX4Wex03DzV1+geDujUXcUTgcgOrq48/B6hlbGrg1tV28CUPGbj+qPrthwO65ZjnY63loUW1FRczvgz2g0wwHr8iB+lEdXlhP8qRbPkmJmmmEeJ8LiMi+Ly7x4187j5slahqvKrY1rQJHYAOlXsncO7QCxNWuHeCSUJx/zmZJksdIEgYejpyivvQ/tfqYvozRbu8CtjSsSLDEFwzvI01dnvQnHIyFO+3GcHT243YdCUiVyGC/rEr+ppN7fEEQ4a4GerB3HTMeE5BImFc4qft44lAkAsKeuF1OtnxSIAhFlnnyVK29cTi+e2MMkR3bkVJHw84S+gssNGWkis7VnT10vgfCLoHZiIztySgPm6q0scJRmMw7/9XGaKxKGUJQ52il0NHL1zd/HG94aIKFcz/M7UQc/BnUK5TCFohunOIFHfZK+0MbTvx9ltLez/h/sAAAAAElFTkSuQmCC) **TODO!** Display the repartition of the content lengths (characters) as an histogram.\n",
    "\n",
    "Tip: See the `.hist()` function of Pandas."
   ]
  },
  {
   "cell_type": "code",
   "execution_count": null,
   "metadata": {
    "colab": {
     "base_uri": "https://localhost:8080/",
     "height": 282
    },
    "executionInfo": {
     "elapsed": 7,
     "status": "ok",
     "timestamp": 1644876703692,
     "user": {
      "displayName": "Gael Guibon",
      "photoUrl": "https://lh3.googleusercontent.com/a-/AOh14GgXlHf357JM0sp3qvQgvu0DzlW-ufwS48UOIFekkA=s64",
      "userId": "16208742544136185697"
     },
     "user_tz": -60
    },
    "id": "EW1sIEb72n_L",
    "outputId": "c681d6e1-5b20-45df-d5b7-289aa803d061"
   },
   "outputs": [],
   "source": [
    "# Repartition of the content lengths (characters)\n",
    "%matplotlib inline\n",
    "df.content.drop_duplicates().apply(len).hist(bins=40)"
   ]
  },
  {
   "cell_type": "markdown",
   "metadata": {
    "id": "UhSPf4VOlBLL"
   },
   "source": [
    "### ![programming(3).png](data:image/png;base64,iVBORw0KGgoAAAANSUhEUgAAACAAAAAgCAYAAABzenr0AAAABHNCSVQICAgIfAhkiAAAAAlwSFlzAAAA3QAAAN0BcFOiBwAAABl0RVh0U29mdHdhcmUAd3d3Lmlua3NjYXBlLm9yZ5vuPBoAAAR7SURBVFiFtZdvaFVlHMc/z3PPuefuz825XWV3m5mWU1MLSVEyRoqKk2iLWBCT2uyFpTSIoCCHL0SDXkgUavhKCU3EpGmlorYSShtWig6M1M25gVPb3da2e6/3z3l6cf9u996d42pfOC/O8+/3+f2e5/f8EUopbKnplEHEtwpFDYj5gDf+AdyNfeo6guNoxa18Xv3QzrDCEmDTQS8OuQ1FPeC2R8sQgkNEze3s23B3YgCNB1y49GYQ7wH5Ng2PlR/UpwTDO9jfELQPsOVoKSrUghLLJmh4rJU2hLOWPXW91gCbDi1CipNAxf9iPKUeTLWeffXXcgNsOVqKGb40CcZTEFJfmh4JmaxqPOBChVom0ThABSrUQuMBV6JAS1a59Ob0OQ8J+MsYP0MUMDgwOL5JE5ZINy6XI95JLIstbpohMQWbDnqR8iZpq/1vB3xYalq6dPHXS5Ztzv4xl/K1UyBPJIr8mOZT7NtwNzYFDrmNCabawvmV6Jo2fqMBBd8GIJCMaH7cJpKmU0Z8k7GlaUVu1ixdAIBT19n6/mZ0Xefl6tWUTvfk7ugzR0Mo6mk6ZUgivlXY3OGmFblpqluDkLFQTvNM5f6DPvyBAFIKtn3wrjXEiSSEm4hvlYzt7faN/3LtBmfa2gGY7imho6sbgJbvz3Lu/AVriP40CEWNjB8slsp3OTGcGgPD/mTZdE8xnXEAgP7+QQzDoKDAYjklIIZ5VpI60cZVV28fu7/+gVeqnmP5wieTAB23YwArX1hO/Ws17Ny1l1udd6wH7Dfhu8Bi2wAAd+71sfvYOcpKitA1jalTHqOzqweAGeVePt61l47bNown9I9pWORPprrv+ei+50PXNc6cv8iIPzYlXx755lGHAimUJHaZeGSFwxH+vNExka4puYhocYA5Y+sK8gxerywHp4YyNNA1lFMDZ+r4UAqenjMr1UmBDEaQIxFkIIz0R3CMhHG3DUAgnAlgyIAG6jqIqgw4p8bzLy23dMI7u9La0cOHgSwABaJHIjhuOcJkyS2OaGjFrYT7hxi7GwYjaMduQDDzRAzNcBOa6SZUWsBgTz+uwQiFD4IU3s9660KOZPFeEwpX4Wex03DzV1+geDujUXcUTgcgOrq48/B6hlbGrg1tV28CUPGbj+qPrthwO65ZjnY63loUW1FRczvgz2g0wwHr8iB+lEdXlhP8qRbPkmJmmmEeJ8LiMi+Ly7x4187j5slahqvKrY1rQJHYAOlXsncO7QCxNWuHeCSUJx/zmZJksdIEgYejpyivvQ/tfqYvozRbu8CtjSsSLDEFwzvI01dnvQnHIyFO+3GcHT243YdCUiVyGC/rEr+ppN7fEEQ4a4GerB3HTMeE5BImFc4qft44lAkAsKeuF1OtnxSIAhFlnnyVK29cTi+e2MMkR3bkVJHw84S+gssNGWkis7VnT10vgfCLoHZiIztySgPm6q0scJRmMw7/9XGaKxKGUJQ52il0NHL1zd/HG94aIKFcz/M7UQc/BnUK5TCFohunOIFHfZK+0MbTvx9ltLez/h/sAAAAAElFTkSuQmCC) **TODO!** display the number of articles per `category`.\n",
    "\n",
    "Tip: You may need the `.groupby()` function of Pandas."
   ]
  },
  {
   "cell_type": "code",
   "execution_count": null,
   "metadata": {
    "colab": {
     "base_uri": "https://localhost:8080/"
    },
    "executionInfo": {
     "elapsed": 247,
     "status": "ok",
     "timestamp": 1644881935224,
     "user": {
      "displayName": "Gael Guibon",
      "photoUrl": "https://lh3.googleusercontent.com/a-/AOh14GgXlHf357JM0sp3qvQgvu0DzlW-ufwS48UOIFekkA=s64",
      "userId": "16208742544136185697"
     },
     "user_tz": -60
    },
    "id": "fhGFQerc3FBI",
    "outputId": "63c17274-bb11-4d80-a7f5-1c5d4b2f4656"
   },
   "outputs": [],
   "source": [
    "# We check the number of article per category\n",
    "df.drop_duplicates().groupby(df.category).size()"
   ]
  },
  {
   "cell_type": "markdown",
   "metadata": {
    "id": "9cW6bX00lB1l"
   },
   "source": [
    "### ![programming(3).png](data:image/png;base64,iVBORw0KGgoAAAANSUhEUgAAACAAAAAgCAYAAABzenr0AAAABHNCSVQICAgIfAhkiAAAAAlwSFlzAAAA3QAAAN0BcFOiBwAAABl0RVh0U29mdHdhcmUAd3d3Lmlua3NjYXBlLm9yZ5vuPBoAAAR7SURBVFiFtZdvaFVlHMc/z3PPuefuz825XWV3m5mWU1MLSVEyRoqKk2iLWBCT2uyFpTSIoCCHL0SDXkgUavhKCU3EpGmlorYSShtWig6M1M25gVPb3da2e6/3z3l6cf9u996d42pfOC/O8+/3+f2e5/f8EUopbKnplEHEtwpFDYj5gDf+AdyNfeo6guNoxa18Xv3QzrDCEmDTQS8OuQ1FPeC2R8sQgkNEze3s23B3YgCNB1y49GYQ7wH5Ng2PlR/UpwTDO9jfELQPsOVoKSrUghLLJmh4rJU2hLOWPXW91gCbDi1CipNAxf9iPKUeTLWeffXXcgNsOVqKGb40CcZTEFJfmh4JmaxqPOBChVom0ThABSrUQuMBV6JAS1a59Ob0OQ8J+MsYP0MUMDgwOL5JE5ZINy6XI95JLIstbpohMQWbDnqR8iZpq/1vB3xYalq6dPHXS5Ztzv4xl/K1UyBPJIr8mOZT7NtwNzYFDrmNCabawvmV6Jo2fqMBBd8GIJCMaH7cJpKmU0Z8k7GlaUVu1ixdAIBT19n6/mZ0Xefl6tWUTvfk7ugzR0Mo6mk6ZUgivlXY3OGmFblpqluDkLFQTvNM5f6DPvyBAFIKtn3wrjXEiSSEm4hvlYzt7faN/3LtBmfa2gGY7imho6sbgJbvz3Lu/AVriP40CEWNjB8slsp3OTGcGgPD/mTZdE8xnXEAgP7+QQzDoKDAYjklIIZ5VpI60cZVV28fu7/+gVeqnmP5wieTAB23YwArX1hO/Ws17Ny1l1udd6wH7Dfhu8Bi2wAAd+71sfvYOcpKitA1jalTHqOzqweAGeVePt61l47bNown9I9pWORPprrv+ei+50PXNc6cv8iIPzYlXx755lGHAimUJHaZeGSFwxH+vNExka4puYhocYA5Y+sK8gxerywHp4YyNNA1lFMDZ+r4UAqenjMr1UmBDEaQIxFkIIz0R3CMhHG3DUAgnAlgyIAG6jqIqgw4p8bzLy23dMI7u9La0cOHgSwABaJHIjhuOcJkyS2OaGjFrYT7hxi7GwYjaMduQDDzRAzNcBOa6SZUWsBgTz+uwQiFD4IU3s9660KOZPFeEwpX4Wex03DzV1+geDujUXcUTgcgOrq48/B6hlbGrg1tV28CUPGbj+qPrthwO65ZjnY63loUW1FRczvgz2g0wwHr8iB+lEdXlhP8qRbPkmJmmmEeJ8LiMi+Ly7x4187j5slahqvKrY1rQJHYAOlXsncO7QCxNWuHeCSUJx/zmZJksdIEgYejpyivvQ/tfqYvozRbu8CtjSsSLDEFwzvI01dnvQnHIyFO+3GcHT243YdCUiVyGC/rEr+ppN7fEEQ4a4GerB3HTMeE5BImFc4qft44lAkAsKeuF1OtnxSIAhFlnnyVK29cTi+e2MMkR3bkVJHw84S+gssNGWkis7VnT10vgfCLoHZiIztySgPm6q0scJRmMw7/9XGaKxKGUJQ52il0NHL1zd/HG94aIKFcz/M7UQc/BnUK5TCFohunOIFHfZK+0MbTvx9ltLez/h/sAAAAAElFTkSuQmCC) **TODO!** Display the histogram of the number of articles per category"
   ]
  },
  {
   "cell_type": "code",
   "execution_count": null,
   "metadata": {
    "colab": {
     "base_uri": "https://localhost:8080/",
     "height": 282
    },
    "executionInfo": {
     "elapsed": 481,
     "status": "ok",
     "timestamp": 1644876704168,
     "user": {
      "displayName": "Gael Guibon",
      "photoUrl": "https://lh3.googleusercontent.com/a-/AOh14GgXlHf357JM0sp3qvQgvu0DzlW-ufwS48UOIFekkA=s64",
      "userId": "16208742544136185697"
     },
     "user_tz": -60
    },
    "id": "D-_TQ3Sh5XKh",
    "outputId": "03d62cc0-9295-4419-c739-a5b8d2439983"
   },
   "outputs": [],
   "source": [
    "# And plot a histogram\n",
    "df.drop_duplicates().groupby(df.category).size().hist()"
   ]
  },
  {
   "cell_type": "markdown",
   "metadata": {
    "id": "MSiDEsRSnoNQ"
   },
   "source": [
    "### ![programming(3).png](data:image/png;base64,iVBORw0KGgoAAAANSUhEUgAAACAAAAAgCAYAAABzenr0AAAABHNCSVQICAgIfAhkiAAAAAlwSFlzAAAA3QAAAN0BcFOiBwAAABl0RVh0U29mdHdhcmUAd3d3Lmlua3NjYXBlLm9yZ5vuPBoAAAR7SURBVFiFtZdvaFVlHMc/z3PPuefuz825XWV3m5mWU1MLSVEyRoqKk2iLWBCT2uyFpTSIoCCHL0SDXkgUavhKCU3EpGmlorYSShtWig6M1M25gVPb3da2e6/3z3l6cf9u996d42pfOC/O8+/3+f2e5/f8EUopbKnplEHEtwpFDYj5gDf+AdyNfeo6guNoxa18Xv3QzrDCEmDTQS8OuQ1FPeC2R8sQgkNEze3s23B3YgCNB1y49GYQ7wH5Ng2PlR/UpwTDO9jfELQPsOVoKSrUghLLJmh4rJU2hLOWPXW91gCbDi1CipNAxf9iPKUeTLWeffXXcgNsOVqKGb40CcZTEFJfmh4JmaxqPOBChVom0ThABSrUQuMBV6JAS1a59Ob0OQ8J+MsYP0MUMDgwOL5JE5ZINy6XI95JLIstbpohMQWbDnqR8iZpq/1vB3xYalq6dPHXS5Ztzv4xl/K1UyBPJIr8mOZT7NtwNzYFDrmNCabawvmV6Jo2fqMBBd8GIJCMaH7cJpKmU0Z8k7GlaUVu1ixdAIBT19n6/mZ0Xefl6tWUTvfk7ugzR0Mo6mk6ZUgivlXY3OGmFblpqluDkLFQTvNM5f6DPvyBAFIKtn3wrjXEiSSEm4hvlYzt7faN/3LtBmfa2gGY7imho6sbgJbvz3Lu/AVriP40CEWNjB8slsp3OTGcGgPD/mTZdE8xnXEAgP7+QQzDoKDAYjklIIZ5VpI60cZVV28fu7/+gVeqnmP5wieTAB23YwArX1hO/Ws17Ny1l1udd6wH7Dfhu8Bi2wAAd+71sfvYOcpKitA1jalTHqOzqweAGeVePt61l47bNown9I9pWORPprrv+ei+50PXNc6cv8iIPzYlXx755lGHAimUJHaZeGSFwxH+vNExka4puYhocYA5Y+sK8gxerywHp4YyNNA1lFMDZ+r4UAqenjMr1UmBDEaQIxFkIIz0R3CMhHG3DUAgnAlgyIAG6jqIqgw4p8bzLy23dMI7u9La0cOHgSwABaJHIjhuOcJkyS2OaGjFrYT7hxi7GwYjaMduQDDzRAzNcBOa6SZUWsBgTz+uwQiFD4IU3s9660KOZPFeEwpX4Wex03DzV1+geDujUXcUTgcgOrq48/B6hlbGrg1tV28CUPGbj+qPrthwO65ZjnY63loUW1FRczvgz2g0wwHr8iB+lEdXlhP8qRbPkmJmmmEeJ8LiMi+Ly7x4187j5slahqvKrY1rQJHYAOlXsncO7QCxNWuHeCSUJx/zmZJksdIEgYejpyivvQ/tfqYvozRbu8CtjSsSLDEFwzvI01dnvQnHIyFO+3GcHT243YdCUiVyGC/rEr+ppN7fEEQ4a4GerB3HTMeE5BImFc4qft44lAkAsKeuF1OtnxSIAhFlnnyVK29cTi+e2MMkR3bkVJHw84S+gssNGWkis7VnT10vgfCLoHZiIztySgPm6q0scJRmMw7/9XGaKxKGUJQ52il0NHL1zd/HG94aIKFcz/M7UQc/BnUK5TCFohunOIFHfZK+0MbTvx9ltLez/h/sAAAAAElFTkSuQmCC) **TODO!** Let's add some basic information about the text: number of \"words\". Put them into new `title_len` and `content_len` columns. \n",
    "\n",
    "Tip: just split the text according to the spaces"
   ]
  },
  {
   "cell_type": "code",
   "execution_count": null,
   "metadata": {
    "id": "s6yYuoVs6WJB"
   },
   "outputs": [],
   "source": [
    "# let's add some basic information about the text: number of \"words\" (here we only split by a space, a really naive approach)\n",
    "df['title_len'] = df.title.apply(lambda x: len(x.split(' ')) )\n",
    "df['content_len'] = df.content.apply(lambda x: len(x.split(' ')) )"
   ]
  },
  {
   "cell_type": "markdown",
   "metadata": {
    "id": "H5mbKo1YovRR"
   },
   "source": [
    "Here you can see how to display a `ProfileReport()` from PandasProfiling.\n",
    "\n",
    "Play with it and explore the interactive report."
   ]
  },
  {
   "cell_type": "code",
   "execution_count": null,
   "metadata": {
    "id": "KVfzyMYu3hxO"
   },
   "outputs": [],
   "source": [
    "# Let's create an automatic and interactive report of the BBC News dataset\n",
    "profile = ProfileReport(df, title=\"BBC News\", html={\"style\": {\"full_width\": True}})"
   ]
  },
  {
   "cell_type": "code",
   "execution_count": null,
   "metadata": {
    "colab": {
     "base_uri": "https://localhost:8080/",
     "height": 917,
     "referenced_widgets": [
      "f12a89fad8ca4abbb6c8373eb6fff194",
      "443116099660425e9fa88e37da20bef9",
      "c3c6f49684e5424d8cb6aa9529890dec",
      "e2d9a3f7c4f946889abc286512dcc917",
      "946c6752cc98472891313b4ecbd6c571",
      "8f4750c71cff4c358539fd52c9a44a58",
      "c0bf79cd0859414dbde8fdd2b7444b70",
      "7806c110ce1342af9d11564b0cba6bf9",
      "bc50e1268d85420fa9f38a158c29d9a5",
      "83c311a2025a473c9c556ab1e07f4938",
      "5e54152314f74b09a8c519c354809099",
      "6a2709b4af494b16b3ec1a8288783e00",
      "a6e787a011494392acc70f27c2c73c80",
      "0f34bafeb5074e68acfcf4fc330ab7df",
      "075fa95ca22f497fa46b741138811840",
      "68eca806a75e46ac816b1ffcee2ceec3",
      "a622b3591aa74726ab8797edfa4ee687",
      "81c0745910774ff38978fc5f9003af80",
      "0936393bf1184914a7d1929bf120f8d6",
      "0ed39fa6e024474daf161e182511c6e6",
      "f5af225d7add4578af67e932774d2cc9",
      "f7c4bba33db64d56a5ae287e393c4e5d",
      "75b706b1f5ad41dfb4fd3a048a8550cb",
      "7a2f7c0bcfcb4b03b07c0bc2c1cca139",
      "c31125494b054bafb6e76e53446f1b7f",
      "67dad5ee422043f78c7441874341e05e",
      "c0aa37733b974b5389ed9e959710d2e0",
      "f3cafee7bf564222ba3e811068cb0a1f",
      "0a44b6c5698741ee8a07a5bc28b22bb3",
      "fa64ee0be3b84df1a0daf41fd305cae8",
      "dc1d055757e3429c8712af12e551da82",
      "a7dfafcdf31a4ad1a55c79e66bfd06cf",
      "56ee6eb9dddd4b5ba4685af261494a3f"
     ]
    },
    "executionInfo": {
     "elapsed": 10184,
     "status": "ok",
     "timestamp": 1644876714337,
     "user": {
      "displayName": "Gael Guibon",
      "photoUrl": "https://lh3.googleusercontent.com/a-/AOh14GgXlHf357JM0sp3qvQgvu0DzlW-ufwS48UOIFekkA=s64",
      "userId": "16208742544136185697"
     },
     "user_tz": -60
    },
    "id": "KyXkd7MK5zpU",
    "outputId": "13cd30e1-9aa4-4017-f9e6-3b8538d254c4"
   },
   "outputs": [],
   "source": [
    "profile.to_notebook_iframe()"
   ]
  },
  {
   "cell_type": "markdown",
   "metadata": {
    "id": "U1VFhfa1pUm_"
   },
   "source": [
    "### ![programming(3).png](data:image/png;base64,iVBORw0KGgoAAAANSUhEUgAAACAAAAAgCAYAAABzenr0AAAABHNCSVQICAgIfAhkiAAAAAlwSFlzAAAA3QAAAN0BcFOiBwAAABl0RVh0U29mdHdhcmUAd3d3Lmlua3NjYXBlLm9yZ5vuPBoAAAR7SURBVFiFtZdvaFVlHMc/z3PPuefuz825XWV3m5mWU1MLSVEyRoqKk2iLWBCT2uyFpTSIoCCHL0SDXkgUavhKCU3EpGmlorYSShtWig6M1M25gVPb3da2e6/3z3l6cf9u996d42pfOC/O8+/3+f2e5/f8EUopbKnplEHEtwpFDYj5gDf+AdyNfeo6guNoxa18Xv3QzrDCEmDTQS8OuQ1FPeC2R8sQgkNEze3s23B3YgCNB1y49GYQ7wH5Ng2PlR/UpwTDO9jfELQPsOVoKSrUghLLJmh4rJU2hLOWPXW91gCbDi1CipNAxf9iPKUeTLWeffXXcgNsOVqKGb40CcZTEFJfmh4JmaxqPOBChVom0ThABSrUQuMBV6JAS1a59Ob0OQ8J+MsYP0MUMDgwOL5JE5ZINy6XI95JLIstbpohMQWbDnqR8iZpq/1vB3xYalq6dPHXS5Ztzv4xl/K1UyBPJIr8mOZT7NtwNzYFDrmNCabawvmV6Jo2fqMBBd8GIJCMaH7cJpKmU0Z8k7GlaUVu1ixdAIBT19n6/mZ0Xefl6tWUTvfk7ugzR0Mo6mk6ZUgivlXY3OGmFblpqluDkLFQTvNM5f6DPvyBAFIKtn3wrjXEiSSEm4hvlYzt7faN/3LtBmfa2gGY7imho6sbgJbvz3Lu/AVriP40CEWNjB8slsp3OTGcGgPD/mTZdE8xnXEAgP7+QQzDoKDAYjklIIZ5VpI60cZVV28fu7/+gVeqnmP5wieTAB23YwArX1hO/Ws17Ny1l1udd6wH7Dfhu8Bi2wAAd+71sfvYOcpKitA1jalTHqOzqweAGeVePt61l47bNown9I9pWORPprrv+ei+50PXNc6cv8iIPzYlXx755lGHAimUJHaZeGSFwxH+vNExka4puYhocYA5Y+sK8gxerywHp4YyNNA1lFMDZ+r4UAqenjMr1UmBDEaQIxFkIIz0R3CMhHG3DUAgnAlgyIAG6jqIqgw4p8bzLy23dMI7u9La0cOHgSwABaJHIjhuOcJkyS2OaGjFrYT7hxi7GwYjaMduQDDzRAzNcBOa6SZUWsBgTz+uwQiFD4IU3s9660KOZPFeEwpX4Wex03DzV1+geDujUXcUTgcgOrq48/B6hlbGrg1tV28CUPGbj+qPrthwO65ZjnY63loUW1FRczvgz2g0wwHr8iB+lEdXlhP8qRbPkmJmmmEeJ8LiMi+Ly7x4187j5slahqvKrY1rQJHYAOlXsncO7QCxNWuHeCSUJx/zmZJksdIEgYejpyivvQ/tfqYvozRbu8CtjSsSLDEFwzvI01dnvQnHIyFO+3GcHT243YdCUiVyGC/rEr+ppN7fEEQ4a4GerB3HTMeE5BImFc4qft44lAkAsKeuF1OtnxSIAhFlnnyVK29cTi+e2MMkR3bkVJHw84S+gssNGWkis7VnT10vgfCLoHZiIztySgPm6q0scJRmMw7/9XGaKxKGUJQ52il0NHL1zd/HG94aIKFcz/M7UQc/BnUK5TCFohunOIFHfZK+0MbTvx9ltLez/h/sAAAAAElFTkSuQmCC) **TODO!** print the standard deviation for each article's title length `title_len` and content length `content_len`.\n",
    "\n",
    "Tip: you may need the `.std()` function from Pandas"
   ]
  },
  {
   "cell_type": "code",
   "execution_count": null,
   "metadata": {
    "colab": {
     "base_uri": "https://localhost:8080/",
     "height": 455
    },
    "executionInfo": {
     "elapsed": 27,
     "status": "ok",
     "timestamp": 1644876714338,
     "user": {
      "displayName": "Gael Guibon",
      "photoUrl": "https://lh3.googleusercontent.com/a-/AOh14GgXlHf357JM0sp3qvQgvu0DzlW-ufwS48UOIFekkA=s64",
      "userId": "16208742544136185697"
     },
     "user_tz": -60
    },
    "id": "buAuleA871DK",
    "outputId": "58f32713-683e-4f69-c6a7-a60fb80e5897"
   },
   "outputs": [],
   "source": [
    "eval_cols = [\"title_len\", 'content_len']\n",
    "df.groupby(df.filename)[eval_cols].std()"
   ]
  },
  {
   "cell_type": "markdown",
   "metadata": {
    "id": "XSUCsLhKp7Hw"
   },
   "source": [
    "### ![programming(3).png](data:image/png;base64,iVBORw0KGgoAAAANSUhEUgAAACAAAAAgCAYAAABzenr0AAAABHNCSVQICAgIfAhkiAAAAAlwSFlzAAAA3QAAAN0BcFOiBwAAABl0RVh0U29mdHdhcmUAd3d3Lmlua3NjYXBlLm9yZ5vuPBoAAAR7SURBVFiFtZdvaFVlHMc/z3PPuefuz825XWV3m5mWU1MLSVEyRoqKk2iLWBCT2uyFpTSIoCCHL0SDXkgUavhKCU3EpGmlorYSShtWig6M1M25gVPb3da2e6/3z3l6cf9u996d42pfOC/O8+/3+f2e5/f8EUopbKnplEHEtwpFDYj5gDf+AdyNfeo6guNoxa18Xv3QzrDCEmDTQS8OuQ1FPeC2R8sQgkNEze3s23B3YgCNB1y49GYQ7wH5Ng2PlR/UpwTDO9jfELQPsOVoKSrUghLLJmh4rJU2hLOWPXW91gCbDi1CipNAxf9iPKUeTLWeffXXcgNsOVqKGb40CcZTEFJfmh4JmaxqPOBChVom0ThABSrUQuMBV6JAS1a59Ob0OQ8J+MsYP0MUMDgwOL5JE5ZINy6XI95JLIstbpohMQWbDnqR8iZpq/1vB3xYalq6dPHXS5Ztzv4xl/K1UyBPJIr8mOZT7NtwNzYFDrmNCabawvmV6Jo2fqMBBd8GIJCMaH7cJpKmU0Z8k7GlaUVu1ixdAIBT19n6/mZ0Xefl6tWUTvfk7ugzR0Mo6mk6ZUgivlXY3OGmFblpqluDkLFQTvNM5f6DPvyBAFIKtn3wrjXEiSSEm4hvlYzt7faN/3LtBmfa2gGY7imho6sbgJbvz3Lu/AVriP40CEWNjB8slsp3OTGcGgPD/mTZdE8xnXEAgP7+QQzDoKDAYjklIIZ5VpI60cZVV28fu7/+gVeqnmP5wieTAB23YwArX1hO/Ws17Ny1l1udd6wH7Dfhu8Bi2wAAd+71sfvYOcpKitA1jalTHqOzqweAGeVePt61l47bNown9I9pWORPprrv+ei+50PXNc6cv8iIPzYlXx755lGHAimUJHaZeGSFwxH+vNExka4puYhocYA5Y+sK8gxerywHp4YyNNA1lFMDZ+r4UAqenjMr1UmBDEaQIxFkIIz0R3CMhHG3DUAgnAlgyIAG6jqIqgw4p8bzLy23dMI7u9La0cOHgSwABaJHIjhuOcJkyS2OaGjFrYT7hxi7GwYjaMduQDDzRAzNcBOa6SZUWsBgTz+uwQiFD4IU3s9660KOZPFeEwpX4Wex03DzV1+geDujUXcUTgcgOrq48/B6hlbGrg1tV28CUPGbj+qPrthwO65ZjnY63loUW1FRczvgz2g0wwHr8iB+lEdXlhP8qRbPkmJmmmEeJ8LiMi+Ly7x4187j5slahqvKrY1rQJHYAOlXsncO7QCxNWuHeCSUJx/zmZJksdIEgYejpyivvQ/tfqYvozRbu8CtjSsSLDEFwzvI01dnvQnHIyFO+3GcHT243YdCUiVyGC/rEr+ppN7fEEQ4a4GerB3HTMeE5BImFc4qft44lAkAsKeuF1OtnxSIAhFlnnyVK29cTi+e2MMkR3bkVJHw84S+gssNGWkis7VnT10vgfCLoHZiIztySgPm6q0scJRmMw7/9XGaKxKGUJQ52il0NHL1zd/HG94aIKFcz/M7UQc/BnUK5TCFohunOIFHfZK+0MbTvx9ltLez/h/sAAAAAElFTkSuQmCC) **TODO!** Complete the following code with your solution from previous TODO. This will display the plots for standard deviation distribution of `title_len` and `content_len`."
   ]
  },
  {
   "cell_type": "code",
   "execution_count": null,
   "metadata": {
    "colab": {
     "base_uri": "https://localhost:8080/",
     "height": 545
    },
    "executionInfo": {
     "elapsed": 357,
     "status": "ok",
     "timestamp": 1644876714679,
     "user": {
      "displayName": "Gael Guibon",
      "photoUrl": "https://lh3.googleusercontent.com/a-/AOh14GgXlHf357JM0sp3qvQgvu0DzlW-ufwS48UOIFekkA=s64",
      "userId": "16208742544136185697"
     },
     "user_tz": -60
    },
    "id": "DUVkR8yX7Vhr",
    "outputId": "7f8b3291-90d5-417f-a8e5-9d9505a16b9e"
   },
   "outputs": [],
   "source": [
    "import matplotlib.pyplot as plt\n",
    "\n",
    "for col in eval_cols:\n",
    "  plt.figure()\n",
    "  plt.title(\"std of : {0}\".format(col))\n",
    "  df.groupby(df.filename)[col].std().hist()\n",
    "  plt.plot()"
   ]
  },
  {
   "cell_type": "markdown",
   "metadata": {
    "id": "KcXyIq9I9tqz"
   },
   "source": [
    "# <font color=\"chillipepper\">**Word-level Preprocessing**</font>"
   ]
  },
  {
   "cell_type": "markdown",
   "metadata": {
    "id": "20jYqPjeAiG-"
   },
   "source": [
    "### ![programming(3).png](data:image/png;base64,iVBORw0KGgoAAAANSUhEUgAAACAAAAAgCAYAAABzenr0AAAABHNCSVQICAgIfAhkiAAAAAlwSFlzAAAA3QAAAN0BcFOiBwAAABl0RVh0U29mdHdhcmUAd3d3Lmlua3NjYXBlLm9yZ5vuPBoAAAR7SURBVFiFtZdvaFVlHMc/z3PPuefuz825XWV3m5mWU1MLSVEyRoqKk2iLWBCT2uyFpTSIoCCHL0SDXkgUavhKCU3EpGmlorYSShtWig6M1M25gVPb3da2e6/3z3l6cf9u996d42pfOC/O8+/3+f2e5/f8EUopbKnplEHEtwpFDYj5gDf+AdyNfeo6guNoxa18Xv3QzrDCEmDTQS8OuQ1FPeC2R8sQgkNEze3s23B3YgCNB1y49GYQ7wH5Ng2PlR/UpwTDO9jfELQPsOVoKSrUghLLJmh4rJU2hLOWPXW91gCbDi1CipNAxf9iPKUeTLWeffXXcgNsOVqKGb40CcZTEFJfmh4JmaxqPOBChVom0ThABSrUQuMBV6JAS1a59Ob0OQ8J+MsYP0MUMDgwOL5JE5ZINy6XI95JLIstbpohMQWbDnqR8iZpq/1vB3xYalq6dPHXS5Ztzv4xl/K1UyBPJIr8mOZT7NtwNzYFDrmNCabawvmV6Jo2fqMBBd8GIJCMaH7cJpKmU0Z8k7GlaUVu1ixdAIBT19n6/mZ0Xefl6tWUTvfk7ugzR0Mo6mk6ZUgivlXY3OGmFblpqluDkLFQTvNM5f6DPvyBAFIKtn3wrjXEiSSEm4hvlYzt7faN/3LtBmfa2gGY7imho6sbgJbvz3Lu/AVriP40CEWNjB8slsp3OTGcGgPD/mTZdE8xnXEAgP7+QQzDoKDAYjklIIZ5VpI60cZVV28fu7/+gVeqnmP5wieTAB23YwArX1hO/Ws17Ny1l1udd6wH7Dfhu8Bi2wAAd+71sfvYOcpKitA1jalTHqOzqweAGeVePt61l47bNown9I9pWORPprrv+ei+50PXNc6cv8iIPzYlXx755lGHAimUJHaZeGSFwxH+vNExka4puYhocYA5Y+sK8gxerywHp4YyNNA1lFMDZ+r4UAqenjMr1UmBDEaQIxFkIIz0R3CMhHG3DUAgnAlgyIAG6jqIqgw4p8bzLy23dMI7u9La0cOHgSwABaJHIjhuOcJkyS2OaGjFrYT7hxi7GwYjaMduQDDzRAzNcBOa6SZUWsBgTz+uwQiFD4IU3s9660KOZPFeEwpX4Wex03DzV1+geDujUXcUTgcgOrq48/B6hlbGrg1tV28CUPGbj+qPrthwO65ZjnY63loUW1FRczvgz2g0wwHr8iB+lEdXlhP8qRbPkmJmmmEeJ8LiMi+Ly7x4187j5slahqvKrY1rQJHYAOlXsncO7QCxNWuHeCSUJx/zmZJksdIEgYejpyivvQ/tfqYvozRbu8CtjSsSLDEFwzvI01dnvQnHIyFO+3GcHT243YdCUiVyGC/rEr+ppN7fEEQ4a4GerB3HTMeE5BImFc4qft44lAkAsKeuF1OtnxSIAhFlnnyVK29cTi+e2MMkR3bkVJHw84S+gssNGWkis7VnT10vgfCLoHZiIztySgPm6q0scJRmMw7/9XGaKxKGUJQ52il0NHL1zd/HG94aIKFcz/M7UQc/BnUK5TCFohunOIFHfZK+0MbTvx9ltLez/h/sAAAAAElFTkSuQmCC) **TODO!** Split the abstracts into list of words. How many different words are there in the vocabulary?"
   ]
  },
  {
   "cell_type": "code",
   "execution_count": null,
   "metadata": {
    "colab": {
     "base_uri": "https://localhost:8080/"
    },
    "executionInfo": {
     "elapsed": 633,
     "status": "ok",
     "timestamp": 1644884798197,
     "user": {
      "displayName": "Gael Guibon",
      "photoUrl": "https://lh3.googleusercontent.com/a-/AOh14GgXlHf357JM0sp3qvQgvu0DzlW-ufwS48UOIFekkA=s64",
      "userId": "16208742544136185697"
     },
     "user_tz": -60
    },
    "id": "MNhVYlns9aVo",
    "outputId": "7db39f65-826f-40d9-c031-dc80f887c7e5"
   },
   "outputs": [],
   "source": [
    "# List of words with separator = \" \"\n",
    "arr = df.content.drop_duplicates().apply(lambda x: x.split(' ')).array\n",
    "\n",
    "# Now we flatten the list of lists into a single level list. Multiple ways:\n",
    "# I personaly do prefer the list comprehension for efficiency reasons\n",
    "arr = [ x for X in arr for x in X]\n",
    "# But some prefer the reduce one\n",
    "# arr = reduce(add, arr) # Concatenates all lists contained in arr\n",
    "# Which is equivalent to :\n",
    "# arr2 = []\n",
    "# for a in arr:\n",
    "#   arr2 = arr2 + a\n",
    "# arr = arr2\n",
    "print(arr[:5])\n",
    "print('%s \"words\" in the contents' % (len(set(arr)) ) )\n",
    "# the set object transforms a list to the set of unique elements in the list\n"
   ]
  },
  {
   "cell_type": "code",
   "execution_count": null,
   "metadata": {
    "colab": {
     "base_uri": "https://localhost:8080/"
    },
    "executionInfo": {
     "elapsed": 312,
     "status": "ok",
     "timestamp": 1644884802758,
     "user": {
      "displayName": "Gael Guibon",
      "photoUrl": "https://lh3.googleusercontent.com/a-/AOh14GgXlHf357JM0sp3qvQgvu0DzlW-ufwS48UOIFekkA=s64",
      "userId": "16208742544136185697"
     },
     "user_tz": -60
    },
    "id": "Le9fbWnNZKmk",
    "outputId": "1707047b-cd58-492e-bf1d-85e8339a33f8"
   },
   "outputs": [],
   "source": [
    "arr = df.title.drop_duplicates().apply(lambda x: x.split(' ')).array\n",
    "arr = [ x for X in arr for x in X]\n",
    "print(arr[:5])\n",
    "print( '%s \"words\" in the titles' % (len(set(arr))) )"
   ]
  },
  {
   "cell_type": "markdown",
   "metadata": {
    "id": "Gd7R6f5YMEkZ"
   },
   "source": [
    "### ![programming(3).png](data:image/png;base64,iVBORw0KGgoAAAANSUhEUgAAACAAAAAgCAYAAABzenr0AAAABHNCSVQICAgIfAhkiAAAAAlwSFlzAAAA3QAAAN0BcFOiBwAAABl0RVh0U29mdHdhcmUAd3d3Lmlua3NjYXBlLm9yZ5vuPBoAAAR7SURBVFiFtZdvaFVlHMc/z3PPuefuz825XWV3m5mWU1MLSVEyRoqKk2iLWBCT2uyFpTSIoCCHL0SDXkgUavhKCU3EpGmlorYSShtWig6M1M25gVPb3da2e6/3z3l6cf9u996d42pfOC/O8+/3+f2e5/f8EUopbKnplEHEtwpFDYj5gDf+AdyNfeo6guNoxa18Xv3QzrDCEmDTQS8OuQ1FPeC2R8sQgkNEze3s23B3YgCNB1y49GYQ7wH5Ng2PlR/UpwTDO9jfELQPsOVoKSrUghLLJmh4rJU2hLOWPXW91gCbDi1CipNAxf9iPKUeTLWeffXXcgNsOVqKGb40CcZTEFJfmh4JmaxqPOBChVom0ThABSrUQuMBV6JAS1a59Ob0OQ8J+MsYP0MUMDgwOL5JE5ZINy6XI95JLIstbpohMQWbDnqR8iZpq/1vB3xYalq6dPHXS5Ztzv4xl/K1UyBPJIr8mOZT7NtwNzYFDrmNCabawvmV6Jo2fqMBBd8GIJCMaH7cJpKmU0Z8k7GlaUVu1ixdAIBT19n6/mZ0Xefl6tWUTvfk7ugzR0Mo6mk6ZUgivlXY3OGmFblpqluDkLFQTvNM5f6DPvyBAFIKtn3wrjXEiSSEm4hvlYzt7faN/3LtBmfa2gGY7imho6sbgJbvz3Lu/AVriP40CEWNjB8slsp3OTGcGgPD/mTZdE8xnXEAgP7+QQzDoKDAYjklIIZ5VpI60cZVV28fu7/+gVeqnmP5wieTAB23YwArX1hO/Ws17Ny1l1udd6wH7Dfhu8Bi2wAAd+71sfvYOcpKitA1jalTHqOzqweAGeVePt61l47bNown9I9pWORPprrv+ei+50PXNc6cv8iIPzYlXx755lGHAimUJHaZeGSFwxH+vNExka4puYhocYA5Y+sK8gxerywHp4YyNNA1lFMDZ+r4UAqenjMr1UmBDEaQIxFkIIz0R3CMhHG3DUAgnAlgyIAG6jqIqgw4p8bzLy23dMI7u9La0cOHgSwABaJHIjhuOcJkyS2OaGjFrYT7hxi7GwYjaMduQDDzRAzNcBOa6SZUWsBgTz+uwQiFD4IU3s9660KOZPFeEwpX4Wex03DzV1+geDujUXcUTgcgOrq48/B6hlbGrg1tV28CUPGbj+qPrthwO65ZjnY63loUW1FRczvgz2g0wwHr8iB+lEdXlhP8qRbPkmJmmmEeJ8LiMi+Ly7x4187j5slahqvKrY1rQJHYAOlXsncO7QCxNWuHeCSUJx/zmZJksdIEgYejpyivvQ/tfqYvozRbu8CtjSsSLDEFwzvI01dnvQnHIyFO+3GcHT243YdCUiVyGC/rEr+ppN7fEEQ4a4GerB3HTMeE5BImFc4qft44lAkAsKeuF1OtnxSIAhFlnnyVK29cTi+e2MMkR3bkVJHw84S+gssNGWkis7VnT10vgfCLoHZiIztySgPm6q0scJRmMw7/9XGaKxKGUJQ52il0NHL1zd/HG94aIKFcz/M7UQc/BnUK5TCFohunOIFHfZK+0MbTvx9ltLez/h/sAAAAAElFTkSuQmCC) **TODO!** Split the abstracts into list of words using three different tokenizers from nltk. What is the difference in terms of number of words? What do you think has changed?"
   ]
  },
  {
   "cell_type": "code",
   "execution_count": null,
   "metadata": {
    "colab": {
     "base_uri": "https://localhost:8080/",
     "referenced_widgets": [
      "ae42294356224fdb8703232992edf2cb",
      "1b03e1ae1ae24e638ea68cffbd02387a",
      "a269ba70a5944305a7636009ee041005",
      "6616fba1da6946c4977a94e115c81cf3",
      "282381a8417c497bae69ec64431b3289",
      "2cfd09a8c9354fe8bbba89f08f3479f5",
      "65ffa229985e44b69031956adc25b241",
      "fa7fb7cfc3394d5eb960cafb24b7babb",
      "989e623968884420b05466517fdd7fd4",
      "79be690d75fb46beb4733ff35591a9f8",
      "dfcb89d019be4f71aadad2c307645473"
     ]
    },
    "executionInfo": {
     "elapsed": 7892,
     "status": "ok",
     "timestamp": 1644876738190,
     "user": {
      "displayName": "Gael Guibon",
      "photoUrl": "https://lh3.googleusercontent.com/a-/AOh14GgXlHf357JM0sp3qvQgvu0DzlW-ufwS48UOIFekkA=s64",
      "userId": "16208742544136185697"
     },
     "user_tz": -60
    },
    "id": "FYy3tFN4ZXem",
    "outputId": "c8e9b4aa-2599-4b90-ea2d-ab07fccbd2a9"
   },
   "outputs": [],
   "source": [
    "from nltk.tokenize import TreebankWordTokenizer\n",
    "from nltk.tokenize import ToktokTokenizer\n",
    "from nltk.tokenize import TweetTokenizer\n",
    "from tqdm.notebook import tqdm\n",
    "\n",
    "tokenizers = [TreebankWordTokenizer(), ToktokTokenizer(), TweetTokenizer()]\n",
    "import pdb # python debugger\n",
    "for tok in tqdm(tokenizers):\n",
    "  print('Using tokenizer: %s' % (tok))\n",
    "  arr = df.content.drop_duplicates().apply(lambda x: tok.tokenize(x)).array\n",
    "  # We flatten the list. We could use this : arr = reduce(add, arr)   but it would take too much time.\n",
    "  arr = [ x for X in arr for x in X]\n",
    "  # the set object transforms a list to the set of unique elements in the list :\n",
    "  print('The 30 first tokens: %s' % (arr[:30]) )\n",
    "  print(\"Vocabulary size: {0} with {1} tokenizer\".format(len(set(arr)), tok))\n",
    "  print('='*5)  "
   ]
  },
  {
   "cell_type": "markdown",
   "metadata": {
    "id": "WX6DAbW7fQdD"
   },
   "source": [
    "If you look at the first 30 tokens, the `TweetTokenizer` is the only one to separate \"bn\" from \"1.13\" in \"1.13bn\"."
   ]
  },
  {
   "cell_type": "markdown",
   "metadata": {
    "id": "jkthxY5s5dvA"
   },
   "source": [
    "### ![programming(3).png](data:image/png;base64,iVBORw0KGgoAAAANSUhEUgAAACAAAAAgCAYAAABzenr0AAAABHNCSVQICAgIfAhkiAAAAAlwSFlzAAAA3QAAAN0BcFOiBwAAABl0RVh0U29mdHdhcmUAd3d3Lmlua3NjYXBlLm9yZ5vuPBoAAAR7SURBVFiFtZdvaFVlHMc/z3PPuefuz825XWV3m5mWU1MLSVEyRoqKk2iLWBCT2uyFpTSIoCCHL0SDXkgUavhKCU3EpGmlorYSShtWig6M1M25gVPb3da2e6/3z3l6cf9u996d42pfOC/O8+/3+f2e5/f8EUopbKnplEHEtwpFDYj5gDf+AdyNfeo6guNoxa18Xv3QzrDCEmDTQS8OuQ1FPeC2R8sQgkNEze3s23B3YgCNB1y49GYQ7wH5Ng2PlR/UpwTDO9jfELQPsOVoKSrUghLLJmh4rJU2hLOWPXW91gCbDi1CipNAxf9iPKUeTLWeffXXcgNsOVqKGb40CcZTEFJfmh4JmaxqPOBChVom0ThABSrUQuMBV6JAS1a59Ob0OQ8J+MsYP0MUMDgwOL5JE5ZINy6XI95JLIstbpohMQWbDnqR8iZpq/1vB3xYalq6dPHXS5Ztzv4xl/K1UyBPJIr8mOZT7NtwNzYFDrmNCabawvmV6Jo2fqMBBd8GIJCMaH7cJpKmU0Z8k7GlaUVu1ixdAIBT19n6/mZ0Xefl6tWUTvfk7ugzR0Mo6mk6ZUgivlXY3OGmFblpqluDkLFQTvNM5f6DPvyBAFIKtn3wrjXEiSSEm4hvlYzt7faN/3LtBmfa2gGY7imho6sbgJbvz3Lu/AVriP40CEWNjB8slsp3OTGcGgPD/mTZdE8xnXEAgP7+QQzDoKDAYjklIIZ5VpI60cZVV28fu7/+gVeqnmP5wieTAB23YwArX1hO/Ws17Ny1l1udd6wH7Dfhu8Bi2wAAd+71sfvYOcpKitA1jalTHqOzqweAGeVePt61l47bNown9I9pWORPprrv+ei+50PXNc6cv8iIPzYlXx755lGHAimUJHaZeGSFwxH+vNExka4puYhocYA5Y+sK8gxerywHp4YyNNA1lFMDZ+r4UAqenjMr1UmBDEaQIxFkIIz0R3CMhHG3DUAgnAlgyIAG6jqIqgw4p8bzLy23dMI7u9La0cOHgSwABaJHIjhuOcJkyS2OaGjFrYT7hxi7GwYjaMduQDDzRAzNcBOa6SZUWsBgTz+uwQiFD4IU3s9660KOZPFeEwpX4Wex03DzV1+geDujUXcUTgcgOrq48/B6hlbGrg1tV28CUPGbj+qPrthwO65ZjnY63loUW1FRczvgz2g0wwHr8iB+lEdXlhP8qRbPkmJmmmEeJ8LiMi+Ly7x4187j5slahqvKrY1rQJHYAOlXsncO7QCxNWuHeCSUJx/zmZJksdIEgYejpyivvQ/tfqYvozRbu8CtjSsSLDEFwzvI01dnvQnHIyFO+3GcHT243YdCUiVyGC/rEr+ppN7fEEQ4a4GerB3HTMeE5BImFc4qft44lAkAsKeuF1OtnxSIAhFlnnyVK29cTi+e2MMkR3bkVJHw84S+gssNGWkis7VnT10vgfCLoHZiIztySgPm6q0scJRmMw7/9XGaKxKGUJQ52il0NHL1zd/HG94aIKFcz/M7UQc/BnUK5TCFohunOIFHfZK+0MbTvx9ltLez/h/sAAAAAElFTkSuQmCC) **TODO!** Check if Zipf's law applies.\n",
    "\n",
    "Complete the following code."
   ]
  },
  {
   "cell_type": "markdown",
   "metadata": {
    "id": "P3nsk4-AU6cx"
   },
   "source": [
    "![image.png](data:image/png;base64,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)"
   ]
  },
  {
   "cell_type": "code",
   "execution_count": null,
   "metadata": {
    "colab": {
     "base_uri": "https://localhost:8080/",
     "height": 967,
     "referenced_widgets": [
      "9e3336fae4dc45c6b6c0ca8f7d5f67eb",
      "e45fbc18868047b7aa1acdd9d27dadc3",
      "9edd039cea554faba11fe74ae8e47ebf",
      "9f2a1a324ebc4696af4cfb0624a9bb9f",
      "5b4cba52d9c04dc2a6587cdd1a1d2bff",
      "c56128ce3e54470c84c7cccde600de0e",
      "42a60adcab3e4358a84a1a93ca5f9f1c",
      "70fabc1a9cf947bbac79e50e85c37fdf",
      "cba5155c15bb477fbf0fda1affc33ebe",
      "6f185848b2b241859cab1f14d2b100dc",
      "78d2d26df8f340cfb6f93cace88dd7b3"
     ]
    },
    "executionInfo": {
     "elapsed": 13171,
     "status": "ok",
     "timestamp": 1644876751322,
     "user": {
      "displayName": "Gael Guibon",
      "photoUrl": "https://lh3.googleusercontent.com/a-/AOh14GgXlHf357JM0sp3qvQgvu0DzlW-ufwS48UOIFekkA=s64",
      "userId": "16208742544136185697"
     },
     "user_tz": -60
    },
    "id": "0wgF3uPjbFmg",
    "outputId": "2b48fcce-0dd9-4ad9-a0d4-0409ec33fa43"
   },
   "outputs": [],
   "source": [
    "from collections import Counter\n",
    "import matplotlib.pyplot as plt\n",
    "\n",
    "for tok in tqdm(tokenizers):\n",
    "  arr = df.content.drop_duplicates().apply(lambda x: tok.tokenize(x)).array\n",
    "  # We flatten the list. We could use this : arr = reduce(add, arr)   but it would take too much time.\n",
    "  arr = [ x for X in arr for x in X]\n",
    "  # We use reduce to concatenate all the lists in arr, but we don't use \"set\" \n",
    "  # so that we can count occurencies with a Counter object \n",
    "  c = Counter(arr)\n",
    "  print(c)\n",
    "  # Formating the counter object to a proper dataset\n",
    "  d = pd.DataFrame(c, index=['occurrences']).transpose().reset_index()\n",
    "  d.columns=['word', 'occurences']\n",
    "  # Computing frequencies instead of occurences\n",
    "  nb_total = d.occurences.sum()\n",
    "  d['freq'] = d.occurences.apply(lambda x: x/nb_total)\n",
    "  # Sorting by frequency, most frequent word at the top of the df\n",
    "  d = d.sort_values('freq', ascending=False)\n",
    "  plt.figure()\n",
    "  plt.grid()\n",
    "  plt.xscale('log')  # Using log scale\n",
    "  plt.yscale('log')  # Using log scale\n",
    "  plt.xlabel('log(rank)')\n",
    "  plt.ylabel('log(frequency)')\n",
    "  plt.title(\"Tokenizer : {0}\".format(tok))\n",
    "  x = list(range(d.shape[0]))\n",
    "  plt.plot(x, d.freq)\n",
    "  plt.show()"
   ]
  },
  {
   "cell_type": "markdown",
   "metadata": {
    "id": "omVMvmwuBvDk"
   },
   "source": [
    "# <font color=\"chillipepper\">**Domain specificity and regex**</font>\n"
   ]
  },
  {
   "cell_type": "markdown",
   "metadata": {
    "id": "jQ6pLbSlBxpM"
   },
   "source": [
    "### ![programming(3).png](data:image/png;base64,iVBORw0KGgoAAAANSUhEUgAAACAAAAAgCAYAAABzenr0AAAABHNCSVQICAgIfAhkiAAAAAlwSFlzAAAA3QAAAN0BcFOiBwAAABl0RVh0U29mdHdhcmUAd3d3Lmlua3NjYXBlLm9yZ5vuPBoAAAR7SURBVFiFtZdvaFVlHMc/z3PPuefuz825XWV3m5mWU1MLSVEyRoqKk2iLWBCT2uyFpTSIoCCHL0SDXkgUavhKCU3EpGmlorYSShtWig6M1M25gVPb3da2e6/3z3l6cf9u996d42pfOC/O8+/3+f2e5/f8EUopbKnplEHEtwpFDYj5gDf+AdyNfeo6guNoxa18Xv3QzrDCEmDTQS8OuQ1FPeC2R8sQgkNEze3s23B3YgCNB1y49GYQ7wH5Ng2PlR/UpwTDO9jfELQPsOVoKSrUghLLJmh4rJU2hLOWPXW91gCbDi1CipNAxf9iPKUeTLWeffXXcgNsOVqKGb40CcZTEFJfmh4JmaxqPOBChVom0ThABSrUQuMBV6JAS1a59Ob0OQ8J+MsYP0MUMDgwOL5JE5ZINy6XI95JLIstbpohMQWbDnqR8iZpq/1vB3xYalq6dPHXS5Ztzv4xl/K1UyBPJIr8mOZT7NtwNzYFDrmNCabawvmV6Jo2fqMBBd8GIJCMaH7cJpKmU0Z8k7GlaUVu1ixdAIBT19n6/mZ0Xefl6tWUTvfk7ugzR0Mo6mk6ZUgivlXY3OGmFblpqluDkLFQTvNM5f6DPvyBAFIKtn3wrjXEiSSEm4hvlYzt7faN/3LtBmfa2gGY7imho6sbgJbvz3Lu/AVriP40CEWNjB8slsp3OTGcGgPD/mTZdE8xnXEAgP7+QQzDoKDAYjklIIZ5VpI60cZVV28fu7/+gVeqnmP5wieTAB23YwArX1hO/Ws17Ny1l1udd6wH7Dfhu8Bi2wAAd+71sfvYOcpKitA1jalTHqOzqweAGeVePt61l47bNown9I9pWORPprrv+ei+50PXNc6cv8iIPzYlXx755lGHAimUJHaZeGSFwxH+vNExka4puYhocYA5Y+sK8gxerywHp4YyNNA1lFMDZ+r4UAqenjMr1UmBDEaQIxFkIIz0R3CMhHG3DUAgnAlgyIAG6jqIqgw4p8bzLy23dMI7u9La0cOHgSwABaJHIjhuOcJkyS2OaGjFrYT7hxi7GwYjaMduQDDzRAzNcBOa6SZUWsBgTz+uwQiFD4IU3s9660KOZPFeEwpX4Wex03DzV1+geDujUXcUTgcgOrq48/B6hlbGrg1tV28CUPGbj+qPrthwO65ZjnY63loUW1FRczvgz2g0wwHr8iB+lEdXlhP8qRbPkmJmmmEeJ8LiMi+Ly7x4187j5slahqvKrY1rQJHYAOlXsncO7QCxNWuHeCSUJx/zmZJksdIEgYejpyivvQ/tfqYvozRbu8CtjSsSLDEFwzvI01dnvQnHIyFO+3GcHT243YdCUiVyGC/rEr+ppN7fEEQ4a4GerB3HTMeE5BImFc4qft44lAkAsKeuF1OtnxSIAhFlnnyVK29cTi+e2MMkR3bkVJHw84S+gssNGWkis7VnT10vgfCLoHZiIztySgPm6q0scJRmMw7/9XGaKxKGUJQ52il0NHL1zd/HG94aIKFcz/M7UQc/BnUK5TCFohunOIFHfZK+0MbTvx9ltLez/h/sAAAAAElFTkSuQmCC) **TODO!** Use regex to retrieve numbers (ints, floats, %, years, ...) in article contents.\n",
    "\n",
    "\n",
    "*Regex cheasheet* : see python's re module documentation https://docs.python.org/3/library/re.html  \n",
    "\n",
    "*Other ressources* : \n",
    "\n",
    "- A good website to write and test regular expressions : \n",
    "https://regex101.com/\n",
    "- A good game to learn regex : https://alf.nu/RegexGolf \n"
   ]
  },
  {
   "cell_type": "code",
   "execution_count": null,
   "metadata": {
    "colab": {
     "base_uri": "https://localhost:8080/"
    },
    "executionInfo": {
     "elapsed": 46,
     "status": "ok",
     "timestamp": 1644876751322,
     "user": {
      "displayName": "Gael Guibon",
      "photoUrl": "https://lh3.googleusercontent.com/a-/AOh14GgXlHf357JM0sp3qvQgvu0DzlW-ufwS48UOIFekkA=s64",
      "userId": "16208742544136185697"
     },
     "user_tz": -60
    },
    "id": "kQrKy-iIBvEV",
    "outputId": "bf7c008d-bdb6-45d2-dcca-7c8bad3c909c"
   },
   "outputs": [],
   "source": [
    "# See an example of a full article content:\n",
    "print(df.content.iloc[0])"
   ]
  },
  {
   "cell_type": "code",
   "execution_count": null,
   "metadata": {
    "colab": {
     "base_uri": "https://localhost:8080/",
     "height": 310
    },
    "executionInfo": {
     "elapsed": 382,
     "status": "ok",
     "timestamp": 1644876751664,
     "user": {
      "displayName": "Gael Guibon",
      "photoUrl": "https://lh3.googleusercontent.com/a-/AOh14GgXlHf357JM0sp3qvQgvu0DzlW-ufwS48UOIFekkA=s64",
      "userId": "16208742544136185697"
     },
     "user_tz": -60
    },
    "id": "K5LP929Xd7IA",
    "outputId": "fc9c2a22-51b3-4f09-f199-ee079c811ed9"
   },
   "outputs": [],
   "source": [
    "import re\n",
    "# Regular expression that matches any sequence of numbers:\n",
    "int_prog = re.compile('[0-9]+')\n",
    "float_prog = re.compile('[0-9]+\\.?[0-9]*')\n",
    "percent_prog = re.compile('[0-9]+\\.?[0-9]*%')\n",
    "year_prog = re.compile('[12][089][0-9][0-9]') # a year between 1800 and 2099. # 1[89][0-9][0-9]|20[0-9][0-9]\n",
    "df1 = df.drop_duplicates('content')  # Don't forget to compute over unique elements if it applies\n",
    "# Calculating number of matches for every abstract\n",
    "progs = [int_prog, float_prog, percent_prog, year_prog]\n",
    "nb_types = ['ints', 'floats', 'percents', 'years']\n",
    "for prog, nb_type in zip(progs, nb_types):\n",
    "  df1[nb_type] = df1['content'].apply(lambda x: len(prog.split(x))-1).array\n",
    "df1[nb_types].head()"
   ]
  },
  {
   "cell_type": "markdown",
   "metadata": {
    "id": "_T4QHwK_hMIP"
   },
   "source": [
    "### ![programming(3).png](data:image/png;base64,iVBORw0KGgoAAAANSUhEUgAAACAAAAAgCAYAAABzenr0AAAABHNCSVQICAgIfAhkiAAAAAlwSFlzAAAA3QAAAN0BcFOiBwAAABl0RVh0U29mdHdhcmUAd3d3Lmlua3NjYXBlLm9yZ5vuPBoAAAR7SURBVFiFtZdvaFVlHMc/z3PPuefuz825XWV3m5mWU1MLSVEyRoqKk2iLWBCT2uyFpTSIoCCHL0SDXkgUavhKCU3EpGmlorYSShtWig6M1M25gVPb3da2e6/3z3l6cf9u996d42pfOC/O8+/3+f2e5/f8EUopbKnplEHEtwpFDYj5gDf+AdyNfeo6guNoxa18Xv3QzrDCEmDTQS8OuQ1FPeC2R8sQgkNEze3s23B3YgCNB1y49GYQ7wH5Ng2PlR/UpwTDO9jfELQPsOVoKSrUghLLJmh4rJU2hLOWPXW91gCbDi1CipNAxf9iPKUeTLWeffXXcgNsOVqKGb40CcZTEFJfmh4JmaxqPOBChVom0ThABSrUQuMBV6JAS1a59Ob0OQ8J+MsYP0MUMDgwOL5JE5ZINy6XI95JLIstbpohMQWbDnqR8iZpq/1vB3xYalq6dPHXS5Ztzv4xl/K1UyBPJIr8mOZT7NtwNzYFDrmNCabawvmV6Jo2fqMBBd8GIJCMaH7cJpKmU0Z8k7GlaUVu1ixdAIBT19n6/mZ0Xefl6tWUTvfk7ugzR0Mo6mk6ZUgivlXY3OGmFblpqluDkLFQTvNM5f6DPvyBAFIKtn3wrjXEiSSEm4hvlYzt7faN/3LtBmfa2gGY7imho6sbgJbvz3Lu/AVriP40CEWNjB8slsp3OTGcGgPD/mTZdE8xnXEAgP7+QQzDoKDAYjklIIZ5VpI60cZVV28fu7/+gVeqnmP5wieTAB23YwArX1hO/Ws17Ny1l1udd6wH7Dfhu8Bi2wAAd+71sfvYOcpKitA1jalTHqOzqweAGeVePt61l47bNown9I9pWORPprrv+ei+50PXNc6cv8iIPzYlXx755lGHAimUJHaZeGSFwxH+vNExka4puYhocYA5Y+sK8gxerywHp4YyNNA1lFMDZ+r4UAqenjMr1UmBDEaQIxFkIIz0R3CMhHG3DUAgnAlgyIAG6jqIqgw4p8bzLy23dMI7u9La0cOHgSwABaJHIjhuOcJkyS2OaGjFrYT7hxi7GwYjaMduQDDzRAzNcBOa6SZUWsBgTz+uwQiFD4IU3s9660KOZPFeEwpX4Wex03DzV1+geDujUXcUTgcgOrq48/B6hlbGrg1tV28CUPGbj+qPrthwO65ZjnY63loUW1FRczvgz2g0wwHr8iB+lEdXlhP8qRbPkmJmmmEeJ8LiMi+Ly7x4187j5slahqvKrY1rQJHYAOlXsncO7QCxNWuHeCSUJx/zmZJksdIEgYejpyivvQ/tfqYvozRbu8CtjSsSLDEFwzvI01dnvQnHIyFO+3GcHT243YdCUiVyGC/rEr+ppN7fEEQ4a4GerB3HTMeE5BImFc4qft44lAkAsKeuF1OtnxSIAhFlnnyVK29cTi+e2MMkR3bkVJHw84S+gssNGWkis7VnT10vgfCLoHZiIztySgPm6q0scJRmMw7/9XGaKxKGUJQ52il0NHL1zd/HG94aIKFcz/M7UQc/BnUK5TCFohunOIFHfZK+0MbTvx9ltLez/h/sAAAAAElFTkSuQmCC) **TODO!** How many percent of characters are numbers (as defined above) in a given article?\n"
   ]
  },
  {
   "cell_type": "code",
   "execution_count": null,
   "metadata": {
    "colab": {
     "base_uri": "https://localhost:8080/",
     "height": 310
    },
    "executionInfo": {
     "elapsed": 467,
     "status": "ok",
     "timestamp": 1644876752118,
     "user": {
      "displayName": "Gael Guibon",
      "photoUrl": "https://lh3.googleusercontent.com/a-/AOh14GgXlHf357JM0sp3qvQgvu0DzlW-ufwS48UOIFekkA=s64",
      "userId": "16208742544136185697"
     },
     "user_tz": -60
    },
    "id": "TDj0sf7ZhRks",
    "outputId": "23fba748-508c-4563-a3f5-9846c6078052"
   },
   "outputs": [],
   "source": [
    "nb_percent_types = [''.join([t, '%']) for t in nb_types]\n",
    "# Don't forget to compute over unique abstracts\n",
    "df1 = df.drop_duplicates('content')\n",
    "\n",
    "for prog, nb_type in zip(progs, nb_percent_types):\n",
    "  df1[nb_type] = df1['content'].apply(lambda x: 100 *(1 - len(''.join(prog.split(x)))/len(x))).array\n",
    "df1[nb_percent_types+['content']].head()"
   ]
  },
  {
   "cell_type": "code",
   "execution_count": null,
   "metadata": {
    "colab": {
     "base_uri": "https://localhost:8080/",
     "height": 368
    },
    "executionInfo": {
     "elapsed": 810,
     "status": "ok",
     "timestamp": 1644876752921,
     "user": {
      "displayName": "Gael Guibon",
      "photoUrl": "https://lh3.googleusercontent.com/a-/AOh14GgXlHf357JM0sp3qvQgvu0DzlW-ufwS48UOIFekkA=s64",
      "userId": "16208742544136185697"
     },
     "user_tz": -60
    },
    "id": "TzORFCAVhiZk",
    "outputId": "4fd1ff64-a35a-45c1-fd21-53687eb0840e"
   },
   "outputs": [],
   "source": [
    "df1[nb_percent_types].hist()"
   ]
  },
  {
   "cell_type": "markdown",
   "metadata": {
    "id": "eFRXQuR0k_Z8"
   },
   "source": [
    "Compute these histograms for each category."
   ]
  },
  {
   "cell_type": "code",
   "execution_count": null,
   "metadata": {
    "colab": {
     "base_uri": "https://localhost:8080/",
     "height": 1000
    },
    "executionInfo": {
     "elapsed": 2263,
     "status": "ok",
     "timestamp": 1644876755178,
     "user": {
      "displayName": "Gael Guibon",
      "photoUrl": "https://lh3.googleusercontent.com/a-/AOh14GgXlHf357JM0sp3qvQgvu0DzlW-ufwS48UOIFekkA=s64",
      "userId": "16208742544136185697"
     },
     "user_tz": -60
    },
    "id": "54kYY8bPkvQK",
    "outputId": "134ab1fd-a4ce-411b-e887-dd2ec4fb725a"
   },
   "outputs": [],
   "source": [
    "categories = list(df.category.drop_duplicates().values)\n",
    "for category in categories:\n",
    "  # filter by category\n",
    "  is_category = df['category']==category\n",
    "  df1 = df[is_category]\n",
    "  \n",
    "  nb_percent_types = [''.join([t, '%']) for t in nb_types]\n",
    "\n",
    "  for prog, nb_type in zip(progs, nb_percent_types):\n",
    "    df1[nb_type] = df1['content'].apply(lambda x: 100 *(1 - len(''.join(prog.split(x)))/len(x))).array\n",
    "  # df1[nb_percent_types+['content']].head()\n",
    "\n",
    "  # df1[nb_percent_types].hist()\n",
    "  ax = df1[nb_percent_types].plot(kind='hist',subplots=False,sharex=True,sharey=True,title='%s' % (category))\n"
   ]
  },
  {
   "cell_type": "markdown",
   "metadata": {
    "id": "_y-_GUBvB3Ts"
   },
   "source": [
    "### ![programming(3).png](data:image/png;base64,iVBORw0KGgoAAAANSUhEUgAAACAAAAAgCAYAAABzenr0AAAABHNCSVQICAgIfAhkiAAAAAlwSFlzAAAA3QAAAN0BcFOiBwAAABl0RVh0U29mdHdhcmUAd3d3Lmlua3NjYXBlLm9yZ5vuPBoAAAR7SURBVFiFtZdvaFVlHMc/z3PPuefuz825XWV3m5mWU1MLSVEyRoqKk2iLWBCT2uyFpTSIoCCHL0SDXkgUavhKCU3EpGmlorYSShtWig6M1M25gVPb3da2e6/3z3l6cf9u996d42pfOC/O8+/3+f2e5/f8EUopbKnplEHEtwpFDYj5gDf+AdyNfeo6guNoxa18Xv3QzrDCEmDTQS8OuQ1FPeC2R8sQgkNEze3s23B3YgCNB1y49GYQ7wH5Ng2PlR/UpwTDO9jfELQPsOVoKSrUghLLJmh4rJU2hLOWPXW91gCbDi1CipNAxf9iPKUeTLWeffXXcgNsOVqKGb40CcZTEFJfmh4JmaxqPOBChVom0ThABSrUQuMBV6JAS1a59Ob0OQ8J+MsYP0MUMDgwOL5JE5ZINy6XI95JLIstbpohMQWbDnqR8iZpq/1vB3xYalq6dPHXS5Ztzv4xl/K1UyBPJIr8mOZT7NtwNzYFDrmNCabawvmV6Jo2fqMBBd8GIJCMaH7cJpKmU0Z8k7GlaUVu1ixdAIBT19n6/mZ0Xefl6tWUTvfk7ugzR0Mo6mk6ZUgivlXY3OGmFblpqluDkLFQTvNM5f6DPvyBAFIKtn3wrjXEiSSEm4hvlYzt7faN/3LtBmfa2gGY7imho6sbgJbvz3Lu/AVriP40CEWNjB8slsp3OTGcGgPD/mTZdE8xnXEAgP7+QQzDoKDAYjklIIZ5VpI60cZVV28fu7/+gVeqnmP5wieTAB23YwArX1hO/Ws17Ny1l1udd6wH7Dfhu8Bi2wAAd+71sfvYOcpKitA1jalTHqOzqweAGeVePt61l47bNown9I9pWORPprrv+ei+50PXNc6cv8iIPzYlXx755lGHAimUJHaZeGSFwxH+vNExka4puYhocYA5Y+sK8gxerywHp4YyNNA1lFMDZ+r4UAqenjMr1UmBDEaQIxFkIIz0R3CMhHG3DUAgnAlgyIAG6jqIqgw4p8bzLy23dMI7u9La0cOHgSwABaJHIjhuOcJkyS2OaGjFrYT7hxi7GwYjaMduQDDzRAzNcBOa6SZUWsBgTz+uwQiFD4IU3s9660KOZPFeEwpX4Wex03DzV1+geDujUXcUTgcgOrq48/B6hlbGrg1tV28CUPGbj+qPrthwO65ZjnY63loUW1FRczvgz2g0wwHr8iB+lEdXlhP8qRbPkmJmmmEeJ8LiMi+Ly7x4187j5slahqvKrY1rQJHYAOlXsncO7QCxNWuHeCSUJx/zmZJksdIEgYejpyivvQ/tfqYvozRbu8CtjSsSLDEFwzvI01dnvQnHIyFO+3GcHT243YdCUiVyGC/rEr+ppN7fEEQ4a4GerB3HTMeE5BImFc4qft44lAkAsKeuF1OtnxSIAhFlnnyVK29cTi+e2MMkR3bkVJHw84S+gssNGWkis7VnT10vgfCLoHZiIztySgPm6q0scJRmMw7/9XGaKxKGUJQ52il0NHL1zd/HG94aIKFcz/M7UQc/BnUK5TCFohunOIFHfZK+0MbTvx9ltLez/h/sAAAAAElFTkSuQmCC) **TODO!** Is there any relationship between the percentage of numbers in an article and the content length?"
   ]
  },
  {
   "cell_type": "markdown",
   "metadata": {
    "id": "5lx9TA2biS6-"
   },
   "source": [
    "Here is a way to apply custom explorations. Of course, you could also add a dedicated column and simply run again pandas profiling for a `ProfileReport(df)`"
   ]
  },
  {
   "cell_type": "code",
   "execution_count": null,
   "metadata": {
    "colab": {
     "base_uri": "https://localhost:8080/",
     "height": 1000
    },
    "executionInfo": {
     "elapsed": 4580,
     "status": "ok",
     "timestamp": 1644876759751,
     "user": {
      "displayName": "Gael Guibon",
      "photoUrl": "https://lh3.googleusercontent.com/a-/AOh14GgXlHf357JM0sp3qvQgvu0DzlW-ufwS48UOIFekkA=s64",
      "userId": "16208742544136185697"
     },
     "user_tz": -60
    },
    "id": "T8w-JRdSGkpV",
    "outputId": "72a8a382-b02b-4d1d-a9ce-260467fcbdd1"
   },
   "outputs": [],
   "source": [
    "import seaborn as sns\n",
    "import numpy as np\n",
    "from scipy.stats import pearsonr, spearmanr\n",
    "from warnings import filterwarnings\n",
    "filterwarnings('ignore')\n",
    "\n",
    "# Plotting the percentages against the corresponding log(citations)\n",
    "df1['log_content_len'] = np.log(df1['content_len'].array)\n",
    "for nb_type in nb_percent_types:\n",
    "  # We will plot percents and years differently, as their scarcity creates a\n",
    "  # matplotlib overflow when plotting a kde plot\n",
    "  if nb_type in ['percents%', 'years%']:\n",
    "    sns.jointplot(data=df1, x='log_content_len', y=nb_type)\n",
    "    #pass\n",
    "  else:\n",
    "    sns.jointplot(data=df1, kind='kde', x='log_content_len', y=nb_type)#annotate(pearsonr)#\n",
    "    plt.show()\n",
    "  "
   ]
  },
  {
   "cell_type": "markdown",
   "metadata": {
    "id": "tS-Acps5pELT"
   },
   "source": [
    "# <font color=\"chillipepper\">**Multiple Dataset Comparison**</font>"
   ]
  },
  {
   "cell_type": "markdown",
   "metadata": {
    "id": "slAOARppQRZE"
   },
   "source": [
    "Let's download the second dataset."
   ]
  },
  {
   "cell_type": "markdown",
   "metadata": {
    "id": "fQCv1h7sQXWj"
   },
   "source": [
    "Now we transform the Hugging Face's `Dataset` object into a Pandas dataframe and retrieve the desired languages to reduce the size.\n",
    "\n",
    "### ![programming(3).png](data:image/png;base64,iVBORw0KGgoAAAANSUhEUgAAACAAAAAgCAYAAABzenr0AAAABHNCSVQICAgIfAhkiAAAAAlwSFlzAAAA3QAAAN0BcFOiBwAAABl0RVh0U29mdHdhcmUAd3d3Lmlua3NjYXBlLm9yZ5vuPBoAAAR7SURBVFiFtZdvaFVlHMc/z3PPuefuz825XWV3m5mWU1MLSVEyRoqKk2iLWBCT2uyFpTSIoCCHL0SDXkgUavhKCU3EpGmlorYSShtWig6M1M25gVPb3da2e6/3z3l6cf9u996d42pfOC/O8+/3+f2e5/f8EUopbKnplEHEtwpFDYj5gDf+AdyNfeo6guNoxa18Xv3QzrDCEmDTQS8OuQ1FPeC2R8sQgkNEze3s23B3YgCNB1y49GYQ7wH5Ng2PlR/UpwTDO9jfELQPsOVoKSrUghLLJmh4rJU2hLOWPXW91gCbDi1CipNAxf9iPKUeTLWeffXXcgNsOVqKGb40CcZTEFJfmh4JmaxqPOBChVom0ThABSrUQuMBV6JAS1a59Ob0OQ8J+MsYP0MUMDgwOL5JE5ZINy6XI95JLIstbpohMQWbDnqR8iZpq/1vB3xYalq6dPHXS5Ztzv4xl/K1UyBPJIr8mOZT7NtwNzYFDrmNCabawvmV6Jo2fqMBBd8GIJCMaH7cJpKmU0Z8k7GlaUVu1ixdAIBT19n6/mZ0Xefl6tWUTvfk7ugzR0Mo6mk6ZUgivlXY3OGmFblpqluDkLFQTvNM5f6DPvyBAFIKtn3wrjXEiSSEm4hvlYzt7faN/3LtBmfa2gGY7imho6sbgJbvz3Lu/AVriP40CEWNjB8slsp3OTGcGgPD/mTZdE8xnXEAgP7+QQzDoKDAYjklIIZ5VpI60cZVV28fu7/+gVeqnmP5wieTAB23YwArX1hO/Ws17Ny1l1udd6wH7Dfhu8Bi2wAAd+71sfvYOcpKitA1jalTHqOzqweAGeVePt61l47bNown9I9pWORPprrv+ei+50PXNc6cv8iIPzYlXx755lGHAimUJHaZeGSFwxH+vNExka4puYhocYA5Y+sK8gxerywHp4YyNNA1lFMDZ+r4UAqenjMr1UmBDEaQIxFkIIz0R3CMhHG3DUAgnAlgyIAG6jqIqgw4p8bzLy23dMI7u9La0cOHgSwABaJHIjhuOcJkyS2OaGjFrYT7hxi7GwYjaMduQDDzRAzNcBOa6SZUWsBgTz+uwQiFD4IU3s9660KOZPFeEwpX4Wex03DzV1+geDujUXcUTgcgOrq48/B6hlbGrg1tV28CUPGbj+qPrthwO65ZjnY63loUW1FRczvgz2g0wwHr8iB+lEdXlhP8qRbPkmJmmmEeJ8LiMi+Ly7x4187j5slahqvKrY1rQJHYAOlXsncO7QCxNWuHeCSUJx/zmZJksdIEgYejpyivvQ/tfqYvozRbu8CtjSsSLDEFwzvI01dnvQnHIyFO+3GcHT243YdCUiVyGC/rEr+ppN7fEEQ4a4GerB3HTMeE5BImFc4qft44lAkAsKeuF1OtnxSIAhFlnnyVK29cTi+e2MMkR3bkVJHw84S+gssNGWkis7VnT10vgfCLoHZiIztySgPm6q0scJRmMw7/9XGaKxKGUJQ52il0NHL1zd/HG94aIKFcz/M7UQc/BnUK5TCFohunOIFHfZK+0MbTvx9ltLez/h/sAAAAAElFTkSuQmCC) **TODO!** select only the english reviews."
   ]
  },
  {
   "cell_type": "code",
   "execution_count": null,
   "metadata": {
    "colab": {
     "base_uri": "https://localhost:8080/",
     "height": 424
    },
    "executionInfo": {
     "elapsed": 5692,
     "status": "ok",
     "timestamp": 1644876768845,
     "user": {
      "displayName": "Gael Guibon",
      "photoUrl": "https://lh3.googleusercontent.com/a-/AOh14GgXlHf357JM0sp3qvQgvu0DzlW-ufwS48UOIFekkA=s64",
      "userId": "16208742544136185697"
     },
     "user_tz": -60
    },
    "id": "OSHXgzxtzIRj",
    "outputId": "e2e3f9e5-02d9-4f0b-c4c4-7ddb32ebcd99"
   },
   "outputs": [],
   "source": [
    "amazon_df = pd.read_csv('amazon/train.csv',index_col=0)\n",
    "is_fr_or_en = (amazon_df['language']=='fr') | (amazon_df['language']=='en') \n",
    "amazon_df = amazon_df[is_fr_or_en]\n",
    "amazon_df"
   ]
  },
  {
   "cell_type": "markdown",
   "metadata": {
    "id": "e7jjZE3J-hHJ"
   },
   "source": [
    "## Compare BBC News and Amazon Reviews datasets (English only)"
   ]
  },
  {
   "cell_type": "code",
   "execution_count": null,
   "metadata": {
    "id": "HiMHcaIL-qL_"
   },
   "outputs": [],
   "source": [
    "amazon_df_en = amazon_df[ amazon_df['language']=='en' ]"
   ]
  },
  {
   "cell_type": "code",
   "execution_count": null,
   "metadata": {
    "id": "b4Cog5R5E02d"
   },
   "outputs": [],
   "source": [
    "# let's save some RAM\n",
    "del amazon_df"
   ]
  },
  {
   "cell_type": "markdown",
   "metadata": {
    "id": "EqMJPnErREY9"
   },
   "source": [
    "### ![programming(3).png](data:image/png;base64,iVBORw0KGgoAAAANSUhEUgAAACAAAAAgCAYAAABzenr0AAAABHNCSVQICAgIfAhkiAAAAAlwSFlzAAAA3QAAAN0BcFOiBwAAABl0RVh0U29mdHdhcmUAd3d3Lmlua3NjYXBlLm9yZ5vuPBoAAAR7SURBVFiFtZdvaFVlHMc/z3PPuefuz825XWV3m5mWU1MLSVEyRoqKk2iLWBCT2uyFpTSIoCCHL0SDXkgUavhKCU3EpGmlorYSShtWig6M1M25gVPb3da2e6/3z3l6cf9u996d42pfOC/O8+/3+f2e5/f8EUopbKnplEHEtwpFDYj5gDf+AdyNfeo6guNoxa18Xv3QzrDCEmDTQS8OuQ1FPeC2R8sQgkNEze3s23B3YgCNB1y49GYQ7wH5Ng2PlR/UpwTDO9jfELQPsOVoKSrUghLLJmh4rJU2hLOWPXW91gCbDi1CipNAxf9iPKUeTLWeffXXcgNsOVqKGb40CcZTEFJfmh4JmaxqPOBChVom0ThABSrUQuMBV6JAS1a59Ob0OQ8J+MsYP0MUMDgwOL5JE5ZINy6XI95JLIstbpohMQWbDnqR8iZpq/1vB3xYalq6dPHXS5Ztzv4xl/K1UyBPJIr8mOZT7NtwNzYFDrmNCabawvmV6Jo2fqMBBd8GIJCMaH7cJpKmU0Z8k7GlaUVu1ixdAIBT19n6/mZ0Xefl6tWUTvfk7ugzR0Mo6mk6ZUgivlXY3OGmFblpqluDkLFQTvNM5f6DPvyBAFIKtn3wrjXEiSSEm4hvlYzt7faN/3LtBmfa2gGY7imho6sbgJbvz3Lu/AVriP40CEWNjB8slsp3OTGcGgPD/mTZdE8xnXEAgP7+QQzDoKDAYjklIIZ5VpI60cZVV28fu7/+gVeqnmP5wieTAB23YwArX1hO/Ws17Ny1l1udd6wH7Dfhu8Bi2wAAd+71sfvYOcpKitA1jalTHqOzqweAGeVePt61l47bNown9I9pWORPprrv+ei+50PXNc6cv8iIPzYlXx755lGHAimUJHaZeGSFwxH+vNExka4puYhocYA5Y+sK8gxerywHp4YyNNA1lFMDZ+r4UAqenjMr1UmBDEaQIxFkIIz0R3CMhHG3DUAgnAlgyIAG6jqIqgw4p8bzLy23dMI7u9La0cOHgSwABaJHIjhuOcJkyS2OaGjFrYT7hxi7GwYjaMduQDDzRAzNcBOa6SZUWsBgTz+uwQiFD4IU3s9660KOZPFeEwpX4Wex03DzV1+geDujUXcUTgcgOrq48/B6hlbGrg1tV28CUPGbj+qPrthwO65ZjnY63loUW1FRczvgz2g0wwHr8iB+lEdXlhP8qRbPkmJmmmEeJ8LiMi+Ly7x4187j5slahqvKrY1rQJHYAOlXsncO7QCxNWuHeCSUJx/zmZJksdIEgYejpyivvQ/tfqYvozRbu8CtjSsSLDEFwzvI01dnvQnHIyFO+3GcHT243YdCUiVyGC/rEr+ppN7fEEQ4a4GerB3HTMeE5BImFc4qft44lAkAsKeuF1OtnxSIAhFlnnyVK29cTi+e2MMkR3bkVJHw84S+gssNGWkis7VnT10vgfCLoHZiIztySgPm6q0scJRmMw7/9XGaKxKGUJQ52il0NHL1zd/HG94aIKFcz/M7UQc/BnUK5TCFohunOIFHfZK+0MbTvx9ltLez/h/sAAAAAElFTkSuQmCC) **TODO!** Compare the number of article per category in BBCNews and Amazon"
   ]
  },
  {
   "cell_type": "code",
   "execution_count": null,
   "metadata": {
    "colab": {
     "base_uri": "https://localhost:8080/"
    },
    "executionInfo": {
     "elapsed": 558,
     "status": "ok",
     "timestamp": 1644876769399,
     "user": {
      "displayName": "Gael Guibon",
      "photoUrl": "https://lh3.googleusercontent.com/a-/AOh14GgXlHf357JM0sp3qvQgvu0DzlW-ufwS48UOIFekkA=s64",
      "userId": "16208742544136185697"
     },
     "user_tz": -60
    },
    "id": "3cf9tCbaAcG-",
    "outputId": "e4297c3e-b89f-4a7a-b4cd-c8de19126f6e"
   },
   "outputs": [],
   "source": [
    "# number of article per category\n",
    "print( dict(df.drop_duplicates().groupby(df.category).size()) )\n",
    "print( dict(amazon_df_en.drop_duplicates().groupby(amazon_df_en.product_category).size()) )"
   ]
  },
  {
   "cell_type": "markdown",
   "metadata": {
    "id": "__HihHX-RMmU"
   },
   "source": [
    "### ![programming(3).png](data:image/png;base64,iVBORw0KGgoAAAANSUhEUgAAACAAAAAgCAYAAABzenr0AAAABHNCSVQICAgIfAhkiAAAAAlwSFlzAAAA3QAAAN0BcFOiBwAAABl0RVh0U29mdHdhcmUAd3d3Lmlua3NjYXBlLm9yZ5vuPBoAAAR7SURBVFiFtZdvaFVlHMc/z3PPuefuz825XWV3m5mWU1MLSVEyRoqKk2iLWBCT2uyFpTSIoCCHL0SDXkgUavhKCU3EpGmlorYSShtWig6M1M25gVPb3da2e6/3z3l6cf9u996d42pfOC/O8+/3+f2e5/f8EUopbKnplEHEtwpFDYj5gDf+AdyNfeo6guNoxa18Xv3QzrDCEmDTQS8OuQ1FPeC2R8sQgkNEze3s23B3YgCNB1y49GYQ7wH5Ng2PlR/UpwTDO9jfELQPsOVoKSrUghLLJmh4rJU2hLOWPXW91gCbDi1CipNAxf9iPKUeTLWeffXXcgNsOVqKGb40CcZTEFJfmh4JmaxqPOBChVom0ThABSrUQuMBV6JAS1a59Ob0OQ8J+MsYP0MUMDgwOL5JE5ZINy6XI95JLIstbpohMQWbDnqR8iZpq/1vB3xYalq6dPHXS5Ztzv4xl/K1UyBPJIr8mOZT7NtwNzYFDrmNCabawvmV6Jo2fqMBBd8GIJCMaH7cJpKmU0Z8k7GlaUVu1ixdAIBT19n6/mZ0Xefl6tWUTvfk7ugzR0Mo6mk6ZUgivlXY3OGmFblpqluDkLFQTvNM5f6DPvyBAFIKtn3wrjXEiSSEm4hvlYzt7faN/3LtBmfa2gGY7imho6sbgJbvz3Lu/AVriP40CEWNjB8slsp3OTGcGgPD/mTZdE8xnXEAgP7+QQzDoKDAYjklIIZ5VpI60cZVV28fu7/+gVeqnmP5wieTAB23YwArX1hO/Ws17Ny1l1udd6wH7Dfhu8Bi2wAAd+71sfvYOcpKitA1jalTHqOzqweAGeVePt61l47bNown9I9pWORPprrv+ei+50PXNc6cv8iIPzYlXx755lGHAimUJHaZeGSFwxH+vNExka4puYhocYA5Y+sK8gxerywHp4YyNNA1lFMDZ+r4UAqenjMr1UmBDEaQIxFkIIz0R3CMhHG3DUAgnAlgyIAG6jqIqgw4p8bzLy23dMI7u9La0cOHgSwABaJHIjhuOcJkyS2OaGjFrYT7hxi7GwYjaMduQDDzRAzNcBOa6SZUWsBgTz+uwQiFD4IU3s9660KOZPFeEwpX4Wex03DzV1+geDujUXcUTgcgOrq48/B6hlbGrg1tV28CUPGbj+qPrthwO65ZjnY63loUW1FRczvgz2g0wwHr8iB+lEdXlhP8qRbPkmJmmmEeJ8LiMi+Ly7x4187j5slahqvKrY1rQJHYAOlXsncO7QCxNWuHeCSUJx/zmZJksdIEgYejpyivvQ/tfqYvozRbu8CtjSsSLDEFwzvI01dnvQnHIyFO+3GcHT243YdCUiVyGC/rEr+ppN7fEEQ4a4GerB3HTMeE5BImFc4qft44lAkAsKeuF1OtnxSIAhFlnnyVK29cTi+e2MMkR3bkVJHw84S+gssNGWkis7VnT10vgfCLoHZiIztySgPm6q0scJRmMw7/9XGaKxKGUJQ52il0NHL1zd/HG94aIKFcz/M7UQc/BnUK5TCFohunOIFHfZK+0MbTvx9ltLez/h/sAAAAAElFTkSuQmCC) **TODO!** Compare the mean number of character per article content and title for both BBC News and Amazon"
   ]
  },
  {
   "cell_type": "code",
   "execution_count": null,
   "metadata": {
    "colab": {
     "base_uri": "https://localhost:8080/"
    },
    "executionInfo": {
     "elapsed": 416,
     "status": "ok",
     "timestamp": 1644876769813,
     "user": {
      "displayName": "Gael Guibon",
      "photoUrl": "https://lh3.googleusercontent.com/a-/AOh14GgXlHf357JM0sp3qvQgvu0DzlW-ufwS48UOIFekkA=s64",
      "userId": "16208742544136185697"
     },
     "user_tz": -60
    },
    "id": "h4ilBekOBCIr",
    "outputId": "8c78e115-38cd-41c8-9b0c-0969aaf3f8f1"
   },
   "outputs": [],
   "source": [
    "# mean content length (characters)\n",
    "print('Mean number of character per element')\n",
    "print( colored('BBCNews', 'blue'), df.content.drop_duplicates().apply(len).mean())\n",
    "print( colored('Amazon ', 'yellow'),  amazon_df_en.review_body.drop_duplicates().apply(len).mean())"
   ]
  },
  {
   "cell_type": "code",
   "execution_count": null,
   "metadata": {
    "colab": {
     "base_uri": "https://localhost:8080/"
    },
    "executionInfo": {
     "elapsed": 6,
     "status": "ok",
     "timestamp": 1644876769813,
     "user": {
      "displayName": "Gael Guibon",
      "photoUrl": "https://lh3.googleusercontent.com/a-/AOh14GgXlHf357JM0sp3qvQgvu0DzlW-ufwS48UOIFekkA=s64",
      "userId": "16208742544136185697"
     },
     "user_tz": -60
    },
    "id": "-uXwSJCACABU",
    "outputId": "afa5b85c-cb64-4d99-ac8d-995f1f2f322d"
   },
   "outputs": [],
   "source": [
    "# mean title length (characters)\n",
    "print('Mean number of character per title')\n",
    "print( colored('BBCNews', 'blue'), df.title.drop_duplicates().apply(len).mean())\n",
    "print( colored('Amazon ', 'yellow'), amazon_df_en.review_title.drop_duplicates().apply(lambda x: len(str(x))).mean())"
   ]
  },
  {
   "cell_type": "markdown",
   "metadata": {
    "id": "G7ZhaKtNRauL"
   },
   "source": [
    "### ![programming(3).png](data:image/png;base64,iVBORw0KGgoAAAANSUhEUgAAACAAAAAgCAYAAABzenr0AAAABHNCSVQICAgIfAhkiAAAAAlwSFlzAAAA3QAAAN0BcFOiBwAAABl0RVh0U29mdHdhcmUAd3d3Lmlua3NjYXBlLm9yZ5vuPBoAAAR7SURBVFiFtZdvaFVlHMc/z3PPuefuz825XWV3m5mWU1MLSVEyRoqKk2iLWBCT2uyFpTSIoCCHL0SDXkgUavhKCU3EpGmlorYSShtWig6M1M25gVPb3da2e6/3z3l6cf9u996d42pfOC/O8+/3+f2e5/f8EUopbKnplEHEtwpFDYj5gDf+AdyNfeo6guNoxa18Xv3QzrDCEmDTQS8OuQ1FPeC2R8sQgkNEze3s23B3YgCNB1y49GYQ7wH5Ng2PlR/UpwTDO9jfELQPsOVoKSrUghLLJmh4rJU2hLOWPXW91gCbDi1CipNAxf9iPKUeTLWeffXXcgNsOVqKGb40CcZTEFJfmh4JmaxqPOBChVom0ThABSrUQuMBV6JAS1a59Ob0OQ8J+MsYP0MUMDgwOL5JE5ZINy6XI95JLIstbpohMQWbDnqR8iZpq/1vB3xYalq6dPHXS5Ztzv4xl/K1UyBPJIr8mOZT7NtwNzYFDrmNCabawvmV6Jo2fqMBBd8GIJCMaH7cJpKmU0Z8k7GlaUVu1ixdAIBT19n6/mZ0Xefl6tWUTvfk7ugzR0Mo6mk6ZUgivlXY3OGmFblpqluDkLFQTvNM5f6DPvyBAFIKtn3wrjXEiSSEm4hvlYzt7faN/3LtBmfa2gGY7imho6sbgJbvz3Lu/AVriP40CEWNjB8slsp3OTGcGgPD/mTZdE8xnXEAgP7+QQzDoKDAYjklIIZ5VpI60cZVV28fu7/+gVeqnmP5wieTAB23YwArX1hO/Ws17Ny1l1udd6wH7Dfhu8Bi2wAAd+71sfvYOcpKitA1jalTHqOzqweAGeVePt61l47bNown9I9pWORPprrv+ei+50PXNc6cv8iIPzYlXx755lGHAimUJHaZeGSFwxH+vNExka4puYhocYA5Y+sK8gxerywHp4YyNNA1lFMDZ+r4UAqenjMr1UmBDEaQIxFkIIz0R3CMhHG3DUAgnAlgyIAG6jqIqgw4p8bzLy23dMI7u9La0cOHgSwABaJHIjhuOcJkyS2OaGjFrYT7hxi7GwYjaMduQDDzRAzNcBOa6SZUWsBgTz+uwQiFD4IU3s9660KOZPFeEwpX4Wex03DzV1+geDujUXcUTgcgOrq48/B6hlbGrg1tV28CUPGbj+qPrthwO65ZjnY63loUW1FRczvgz2g0wwHr8iB+lEdXlhP8qRbPkmJmmmEeJ8LiMi+Ly7x4187j5slahqvKrY1rQJHYAOlXsncO7QCxNWuHeCSUJx/zmZJksdIEgYejpyivvQ/tfqYvozRbu8CtjSsSLDEFwzvI01dnvQnHIyFO+3GcHT243YdCUiVyGC/rEr+ppN7fEEQ4a4GerB3HTMeE5BImFc4qft44lAkAsKeuF1OtnxSIAhFlnnyVK29cTi+e2MMkR3bkVJHw84S+gssNGWkis7VnT10vgfCLoHZiIztySgPm6q0scJRmMw7/9XGaKxKGUJQ52il0NHL1zd/HG94aIKFcz/M7UQc/BnUK5TCFohunOIFHfZK+0MbTvx9ltLez/h/sAAAAAElFTkSuQmCC) **TODO!** Concatenate both dataframes into one, with the following mapping."
   ]
  },
  {
   "cell_type": "code",
   "execution_count": null,
   "metadata": {
    "id": "yBhps-yaCv3d"
   },
   "outputs": [],
   "source": [
    "columns_to_keep = ['review_id', 'review_body', 'review_title', 'product_category']\n",
    "columns_newnames = {'review_id':'filename','review_body':'content','review_title':'title', 'product_category':'category'}\n",
    "bbcamazon = pd.concat([df,amazon_df_en[columns_to_keep].rename(columns=columns_newnames)], ignore_index=True)"
   ]
  },
  {
   "cell_type": "code",
   "execution_count": null,
   "metadata": {
    "colab": {
     "base_uri": "https://localhost:8080/",
     "height": 424
    },
    "executionInfo": {
     "elapsed": 6,
     "status": "ok",
     "timestamp": 1644876769814,
     "user": {
      "displayName": "Gael Guibon",
      "photoUrl": "https://lh3.googleusercontent.com/a-/AOh14GgXlHf357JM0sp3qvQgvu0DzlW-ufwS48UOIFekkA=s64",
      "userId": "16208742544136185697"
     },
     "user_tz": -60
    },
    "id": "mFJCZg3vEAJl",
    "outputId": "cae5fadc-c126-47b0-885f-e8b90ecdc1cd"
   },
   "outputs": [],
   "source": [
    "bbcamazon"
   ]
  },
  {
   "cell_type": "code",
   "execution_count": null,
   "metadata": {
    "id": "RxQrmrY5FDVS"
   },
   "outputs": [],
   "source": [
    "# let's save some RAM\n",
    "del df\n",
    "del amazon_df_en"
   ]
  },
  {
   "cell_type": "markdown",
   "metadata": {
    "id": "bUKvdIaKRxLx"
   },
   "source": [
    "### ![programming(3).png](data:image/png;base64,iVBORw0KGgoAAAANSUhEUgAAACAAAAAgCAYAAABzenr0AAAABHNCSVQICAgIfAhkiAAAAAlwSFlzAAAA3QAAAN0BcFOiBwAAABl0RVh0U29mdHdhcmUAd3d3Lmlua3NjYXBlLm9yZ5vuPBoAAAR7SURBVFiFtZdvaFVlHMc/z3PPuefuz825XWV3m5mWU1MLSVEyRoqKk2iLWBCT2uyFpTSIoCCHL0SDXkgUavhKCU3EpGmlorYSShtWig6M1M25gVPb3da2e6/3z3l6cf9u996d42pfOC/O8+/3+f2e5/f8EUopbKnplEHEtwpFDYj5gDf+AdyNfeo6guNoxa18Xv3QzrDCEmDTQS8OuQ1FPeC2R8sQgkNEze3s23B3YgCNB1y49GYQ7wH5Ng2PlR/UpwTDO9jfELQPsOVoKSrUghLLJmh4rJU2hLOWPXW91gCbDi1CipNAxf9iPKUeTLWeffXXcgNsOVqKGb40CcZTEFJfmh4JmaxqPOBChVom0ThABSrUQuMBV6JAS1a59Ob0OQ8J+MsYP0MUMDgwOL5JE5ZINy6XI95JLIstbpohMQWbDnqR8iZpq/1vB3xYalq6dPHXS5Ztzv4xl/K1UyBPJIr8mOZT7NtwNzYFDrmNCabawvmV6Jo2fqMBBd8GIJCMaH7cJpKmU0Z8k7GlaUVu1ixdAIBT19n6/mZ0Xefl6tWUTvfk7ugzR0Mo6mk6ZUgivlXY3OGmFblpqluDkLFQTvNM5f6DPvyBAFIKtn3wrjXEiSSEm4hvlYzt7faN/3LtBmfa2gGY7imho6sbgJbvz3Lu/AVriP40CEWNjB8slsp3OTGcGgPD/mTZdE8xnXEAgP7+QQzDoKDAYjklIIZ5VpI60cZVV28fu7/+gVeqnmP5wieTAB23YwArX1hO/Ws17Ny1l1udd6wH7Dfhu8Bi2wAAd+71sfvYOcpKitA1jalTHqOzqweAGeVePt61l47bNown9I9pWORPprrv+ei+50PXNc6cv8iIPzYlXx755lGHAimUJHaZeGSFwxH+vNExka4puYhocYA5Y+sK8gxerywHp4YyNNA1lFMDZ+r4UAqenjMr1UmBDEaQIxFkIIz0R3CMhHG3DUAgnAlgyIAG6jqIqgw4p8bzLy23dMI7u9La0cOHgSwABaJHIjhuOcJkyS2OaGjFrYT7hxi7GwYjaMduQDDzRAzNcBOa6SZUWsBgTz+uwQiFD4IU3s9660KOZPFeEwpX4Wex03DzV1+geDujUXcUTgcgOrq48/B6hlbGrg1tV28CUPGbj+qPrthwO65ZjnY63loUW1FRczvgz2g0wwHr8iB+lEdXlhP8qRbPkmJmmmEeJ8LiMi+Ly7x4187j5slahqvKrY1rQJHYAOlXsncO7QCxNWuHeCSUJx/zmZJksdIEgYejpyivvQ/tfqYvozRbu8CtjSsSLDEFwzvI01dnvQnHIyFO+3GcHT243YdCUiVyGC/rEr+ppN7fEEQ4a4GerB3HTMeE5BImFc4qft44lAkAsKeuF1OtnxSIAhFlnnyVK29cTi+e2MMkR3bkVJHw84S+gssNGWkis7VnT10vgfCLoHZiIztySgPm6q0scJRmMw7/9XGaKxKGUJQ52il0NHL1zd/HG94aIKFcz/M7UQc/BnUK5TCFohunOIFHfZK+0MbTvx9ltLez/h/sAAAAAElFTkSuQmCC) **TODO!** Add columns `content_len` and `title_len` dedicated to store the content length from better tokenized text \n",
    "\n",
    "Tip: use `TweetTokenizer()` from nltk and `.apply()` function from Pandas"
   ]
  },
  {
   "cell_type": "code",
   "execution_count": null,
   "metadata": {
    "id": "dusrgrad7ekK"
   },
   "outputs": [],
   "source": [
    "from nltk.tokenize import TweetTokenizer\n",
    "\n",
    "# Apply the tokenizer to the text and create a column dedicated to it. Same goes for the title.\n",
    "tokenizer = TweetTokenizer()\n",
    "bbcamazon['content_tokenized'] = bbcamazon.content.apply(lambda x: tokenizer.tokenize(x))\n",
    "bbcamazon['title_tokenized'] = bbcamazon.title.apply(lambda x: tokenizer.tokenize(str(x)))"
   ]
  },
  {
   "cell_type": "code",
   "execution_count": null,
   "metadata": {
    "id": "8hcdo3oF-FOE"
   },
   "outputs": [],
   "source": [
    "# Replace text len using the tokenized values\n",
    "bbcamazon['content_len_tokenized'] = bbcamazon.content_tokenized.apply(lambda x: len(x))\n",
    "bbcamazon['title_len_tokenized'] = bbcamazon.title_tokenized.apply(lambda x: len(x))"
   ]
  },
  {
   "cell_type": "code",
   "execution_count": null,
   "metadata": {
    "id": "6mUnRoL2-skD"
   },
   "outputs": [],
   "source": [
    "# Recalculate the title_len and content_len for all elements\n",
    "bbcamazon['content_len'] = bbcamazon.content.apply(lambda x: len(x.split(' ')))\n",
    "bbcamazon['title_len'] = bbcamazon.title.apply(lambda x: len(x.split(' ')))"
   ]
  },
  {
   "cell_type": "markdown",
   "metadata": {
    "id": "7vo1ECqVSKrh"
   },
   "source": [
    "### ![programming(3).png](data:image/png;base64,iVBORw0KGgoAAAANSUhEUgAAACAAAAAgCAYAAABzenr0AAAABHNCSVQICAgIfAhkiAAAAAlwSFlzAAAA3QAAAN0BcFOiBwAAABl0RVh0U29mdHdhcmUAd3d3Lmlua3NjYXBlLm9yZ5vuPBoAAAR7SURBVFiFtZdvaFVlHMc/z3PPuefuz825XWV3m5mWU1MLSVEyRoqKk2iLWBCT2uyFpTSIoCCHL0SDXkgUavhKCU3EpGmlorYSShtWig6M1M25gVPb3da2e6/3z3l6cf9u996d42pfOC/O8+/3+f2e5/f8EUopbKnplEHEtwpFDYj5gDf+AdyNfeo6guNoxa18Xv3QzrDCEmDTQS8OuQ1FPeC2R8sQgkNEze3s23B3YgCNB1y49GYQ7wH5Ng2PlR/UpwTDO9jfELQPsOVoKSrUghLLJmh4rJU2hLOWPXW91gCbDi1CipNAxf9iPKUeTLWeffXXcgNsOVqKGb40CcZTEFJfmh4JmaxqPOBChVom0ThABSrUQuMBV6JAS1a59Ob0OQ8J+MsYP0MUMDgwOL5JE5ZINy6XI95JLIstbpohMQWbDnqR8iZpq/1vB3xYalq6dPHXS5Ztzv4xl/K1UyBPJIr8mOZT7NtwNzYFDrmNCabawvmV6Jo2fqMBBd8GIJCMaH7cJpKmU0Z8k7GlaUVu1ixdAIBT19n6/mZ0Xefl6tWUTvfk7ugzR0Mo6mk6ZUgivlXY3OGmFblpqluDkLFQTvNM5f6DPvyBAFIKtn3wrjXEiSSEm4hvlYzt7faN/3LtBmfa2gGY7imho6sbgJbvz3Lu/AVriP40CEWNjB8slsp3OTGcGgPD/mTZdE8xnXEAgP7+QQzDoKDAYjklIIZ5VpI60cZVV28fu7/+gVeqnmP5wieTAB23YwArX1hO/Ws17Ny1l1udd6wH7Dfhu8Bi2wAAd+71sfvYOcpKitA1jalTHqOzqweAGeVePt61l47bNown9I9pWORPprrv+ei+50PXNc6cv8iIPzYlXx755lGHAimUJHaZeGSFwxH+vNExka4puYhocYA5Y+sK8gxerywHp4YyNNA1lFMDZ+r4UAqenjMr1UmBDEaQIxFkIIz0R3CMhHG3DUAgnAlgyIAG6jqIqgw4p8bzLy23dMI7u9La0cOHgSwABaJHIjhuOcJkyS2OaGjFrYT7hxi7GwYjaMduQDDzRAzNcBOa6SZUWsBgTz+uwQiFD4IU3s9660KOZPFeEwpX4Wex03DzV1+geDujUXcUTgcgOrq48/B6hlbGrg1tV28CUPGbj+qPrthwO65ZjnY63loUW1FRczvgz2g0wwHr8iB+lEdXlhP8qRbPkmJmmmEeJ8LiMi+Ly7x4187j5slahqvKrY1rQJHYAOlXsncO7QCxNWuHeCSUJx/zmZJksdIEgYejpyivvQ/tfqYvozRbu8CtjSsSLDEFwzvI01dnvQnHIyFO+3GcHT243YdCUiVyGC/rEr+ppN7fEEQ4a4GerB3HTMeE5BImFc4qft44lAkAsKeuF1OtnxSIAhFlnnyVK29cTi+e2MMkR3bkVJHw84S+gssNGWkis7VnT10vgfCLoHZiIztySgPm6q0scJRmMw7/9XGaKxKGUJQ52il0NHL1zd/HG94aIKFcz/M7UQc/BnUK5TCFohunOIFHfZK+0MbTvx9ltLez/h/sAAAAAElFTkSuQmCC) **TODO!** Add a `source` column specifying whether an article is from Amazon or BBC News"
   ]
  },
  {
   "cell_type": "code",
   "execution_count": null,
   "metadata": {
    "id": "kSs84oi5_P3L"
   },
   "outputs": [],
   "source": [
    "# Let's add an indication about the source using the filename type\n",
    "bbcamazon['source'] = bbcamazon.filename.apply(lambda x: 'bbcnews' if '.txt' in x else 'amazon')"
   ]
  },
  {
   "cell_type": "markdown",
   "metadata": {
    "id": "at8589i0_Nlz"
   },
   "source": [
    "Now let's have a glimpse of our concatenated and enriched data."
   ]
  },
  {
   "cell_type": "code",
   "execution_count": null,
   "metadata": {
    "colab": {
     "base_uri": "https://localhost:8080/",
     "height": 337
    },
    "executionInfo": {
     "elapsed": 23,
     "status": "ok",
     "timestamp": 1644876794737,
     "user": {
      "displayName": "Gael Guibon",
      "photoUrl": "https://lh3.googleusercontent.com/a-/AOh14GgXlHf357JM0sp3qvQgvu0DzlW-ufwS48UOIFekkA=s64",
      "userId": "16208742544136185697"
     },
     "user_tz": -60
    },
    "id": "8FdllS59ADEA",
    "outputId": "063e0f0e-0d90-485f-a241-77ec37751d35"
   },
   "outputs": [],
   "source": [
    "bbcamazon.head()"
   ]
  },
  {
   "cell_type": "markdown",
   "metadata": {
    "id": "oGePaXJoAOTf"
   },
   "source": [
    "Can you see the difference? A good tokenization can take into account several factors such as contractions: `I'm` should become `I am`. Hence, `content_len_tokenized` should almost always be higher than `content_len`."
   ]
  },
  {
   "cell_type": "markdown",
   "metadata": {
    "id": "M1A7tsisLllG"
   },
   "source": [
    "### ![programming(3).png](data:image/png;base64,iVBORw0KGgoAAAANSUhEUgAAACAAAAAgCAYAAABzenr0AAAABHNCSVQICAgIfAhkiAAAAAlwSFlzAAAA3QAAAN0BcFOiBwAAABl0RVh0U29mdHdhcmUAd3d3Lmlua3NjYXBlLm9yZ5vuPBoAAAR7SURBVFiFtZdvaFVlHMc/z3PPuefuz825XWV3m5mWU1MLSVEyRoqKk2iLWBCT2uyFpTSIoCCHL0SDXkgUavhKCU3EpGmlorYSShtWig6M1M25gVPb3da2e6/3z3l6cf9u996d42pfOC/O8+/3+f2e5/f8EUopbKnplEHEtwpFDYj5gDf+AdyNfeo6guNoxa18Xv3QzrDCEmDTQS8OuQ1FPeC2R8sQgkNEze3s23B3YgCNB1y49GYQ7wH5Ng2PlR/UpwTDO9jfELQPsOVoKSrUghLLJmh4rJU2hLOWPXW91gCbDi1CipNAxf9iPKUeTLWeffXXcgNsOVqKGb40CcZTEFJfmh4JmaxqPOBChVom0ThABSrUQuMBV6JAS1a59Ob0OQ8J+MsYP0MUMDgwOL5JE5ZINy6XI95JLIstbpohMQWbDnqR8iZpq/1vB3xYalq6dPHXS5Ztzv4xl/K1UyBPJIr8mOZT7NtwNzYFDrmNCabawvmV6Jo2fqMBBd8GIJCMaH7cJpKmU0Z8k7GlaUVu1ixdAIBT19n6/mZ0Xefl6tWUTvfk7ugzR0Mo6mk6ZUgivlXY3OGmFblpqluDkLFQTvNM5f6DPvyBAFIKtn3wrjXEiSSEm4hvlYzt7faN/3LtBmfa2gGY7imho6sbgJbvz3Lu/AVriP40CEWNjB8slsp3OTGcGgPD/mTZdE8xnXEAgP7+QQzDoKDAYjklIIZ5VpI60cZVV28fu7/+gVeqnmP5wieTAB23YwArX1hO/Ws17Ny1l1udd6wH7Dfhu8Bi2wAAd+71sfvYOcpKitA1jalTHqOzqweAGeVePt61l47bNown9I9pWORPprrv+ei+50PXNc6cv8iIPzYlXx755lGHAimUJHaZeGSFwxH+vNExka4puYhocYA5Y+sK8gxerywHp4YyNNA1lFMDZ+r4UAqenjMr1UmBDEaQIxFkIIz0R3CMhHG3DUAgnAlgyIAG6jqIqgw4p8bzLy23dMI7u9La0cOHgSwABaJHIjhuOcJkyS2OaGjFrYT7hxi7GwYjaMduQDDzRAzNcBOa6SZUWsBgTz+uwQiFD4IU3s9660KOZPFeEwpX4Wex03DzV1+geDujUXcUTgcgOrq48/B6hlbGrg1tV28CUPGbj+qPrthwO65ZjnY63loUW1FRczvgz2g0wwHr8iB+lEdXlhP8qRbPkmJmmmEeJ8LiMi+Ly7x4187j5slahqvKrY1rQJHYAOlXsncO7QCxNWuHeCSUJx/zmZJksdIEgYejpyivvQ/tfqYvozRbu8CtjSsSLDEFwzvI01dnvQnHIyFO+3GcHT243YdCUiVyGC/rEr+ppN7fEEQ4a4GerB3HTMeE5BImFc4qft44lAkAsKeuF1OtnxSIAhFlnnyVK29cTi+e2MMkR3bkVJHw84S+gssNGWkis7VnT10vgfCLoHZiIztySgPm6q0scJRmMw7/9XGaKxKGUJQ52il0NHL1zd/HG94aIKFcz/M7UQc/BnUK5TCFohunOIFHfZK+0MbTvx9ltLez/h/sAAAAAElFTkSuQmCC) **TODO!** Check Zipf's law for BBC News and Amazon Reviews."
   ]
  },
  {
   "cell_type": "code",
   "execution_count": null,
   "metadata": {
    "colab": {
     "base_uri": "https://localhost:8080/"
    },
    "executionInfo": {
     "elapsed": 22,
     "status": "ok",
     "timestamp": 1644876794738,
     "user": {
      "displayName": "Gael Guibon",
      "photoUrl": "https://lh3.googleusercontent.com/a-/AOh14GgXlHf357JM0sp3qvQgvu0DzlW-ufwS48UOIFekkA=s64",
      "userId": "16208742544136185697"
     },
     "user_tz": -60
    },
    "id": "QiGiakLFMM76",
    "outputId": "d54cdbdd-009e-44b8-c002-398415c69da2"
   },
   "outputs": [],
   "source": [
    "sources = bbcamazon.source.drop_duplicates().tolist()\n",
    "sources"
   ]
  },
  {
   "cell_type": "code",
   "execution_count": null,
   "metadata": {
    "colab": {
     "base_uri": "https://localhost:8080/",
     "height": 636
    },
    "executionInfo": {
     "elapsed": 7897,
     "status": "ok",
     "timestamp": 1644876802622,
     "user": {
      "displayName": "Gael Guibon",
      "photoUrl": "https://lh3.googleusercontent.com/a-/AOh14GgXlHf357JM0sp3qvQgvu0DzlW-ufwS48UOIFekkA=s64",
      "userId": "16208742544136185697"
     },
     "user_tz": -60
    },
    "id": "t5cgJ632Lrrh",
    "outputId": "3e36b18d-0ef2-498e-afa7-2727cddc3f42",
    "scrolled": true
   },
   "outputs": [],
   "source": [
    "for source in sources:\n",
    "  arr = bbcamazon[bbcamazon['source']==source].content_tokenized.array\n",
    "  arr = [ x for X in arr for x in X] \n",
    "  c = Counter(arr)\n",
    "  print(c)\n",
    "  # Formating the counter object to a proper dataset\n",
    "  d = pd.DataFrame(c, index=['occurrences']).transpose().reset_index()\n",
    "  d.columns=['word', 'occurences']\n",
    "  # Computing frequencies instead of occurences\n",
    "  nb_total = d.occurences.sum()\n",
    "  d['freq'] = d.occurences.apply(lambda x: x/nb_total)\n",
    "  # Sorting by frequency, most frequent word at the top of the df\n",
    "  d = d.sort_values('freq', ascending=False)\n",
    "  plt.figure()\n",
    "  plt.grid()\n",
    "  plt.xscale('log')  # Using log scale\n",
    "  plt.yscale('log')  # Using log scale\n",
    "  plt.xlabel('log(rank)')\n",
    "  plt.ylabel('log(frequency)')\n",
    "  plt.title(\"Source: {0}\".format(source))\n",
    "  x = list(range(d.shape[0]))\n",
    "  plt.plot(x, d.freq)\n",
    "  plt.show()"
   ]
  },
  {
   "cell_type": "markdown",
   "metadata": {
    "id": "_96l46ftSo2Y"
   },
   "source": [
    "### ![programming(3).png](data:image/png;base64,iVBORw0KGgoAAAANSUhEUgAAACAAAAAgCAYAAABzenr0AAAABHNCSVQICAgIfAhkiAAAAAlwSFlzAAAA3QAAAN0BcFOiBwAAABl0RVh0U29mdHdhcmUAd3d3Lmlua3NjYXBlLm9yZ5vuPBoAAAR7SURBVFiFtZdvaFVlHMc/z3PPuefuz825XWV3m5mWU1MLSVEyRoqKk2iLWBCT2uyFpTSIoCCHL0SDXkgUavhKCU3EpGmlorYSShtWig6M1M25gVPb3da2e6/3z3l6cf9u996d42pfOC/O8+/3+f2e5/f8EUopbKnplEHEtwpFDYj5gDf+AdyNfeo6guNoxa18Xv3QzrDCEmDTQS8OuQ1FPeC2R8sQgkNEze3s23B3YgCNB1y49GYQ7wH5Ng2PlR/UpwTDO9jfELQPsOVoKSrUghLLJmh4rJU2hLOWPXW91gCbDi1CipNAxf9iPKUeTLWeffXXcgNsOVqKGb40CcZTEFJfmh4JmaxqPOBChVom0ThABSrUQuMBV6JAS1a59Ob0OQ8J+MsYP0MUMDgwOL5JE5ZINy6XI95JLIstbpohMQWbDnqR8iZpq/1vB3xYalq6dPHXS5Ztzv4xl/K1UyBPJIr8mOZT7NtwNzYFDrmNCabawvmV6Jo2fqMBBd8GIJCMaH7cJpKmU0Z8k7GlaUVu1ixdAIBT19n6/mZ0Xefl6tWUTvfk7ugzR0Mo6mk6ZUgivlXY3OGmFblpqluDkLFQTvNM5f6DPvyBAFIKtn3wrjXEiSSEm4hvlYzt7faN/3LtBmfa2gGY7imho6sbgJbvz3Lu/AVriP40CEWNjB8slsp3OTGcGgPD/mTZdE8xnXEAgP7+QQzDoKDAYjklIIZ5VpI60cZVV28fu7/+gVeqnmP5wieTAB23YwArX1hO/Ws17Ny1l1udd6wH7Dfhu8Bi2wAAd+71sfvYOcpKitA1jalTHqOzqweAGeVePt61l47bNown9I9pWORPprrv+ei+50PXNc6cv8iIPzYlXx755lGHAimUJHaZeGSFwxH+vNExka4puYhocYA5Y+sK8gxerywHp4YyNNA1lFMDZ+r4UAqenjMr1UmBDEaQIxFkIIz0R3CMhHG3DUAgnAlgyIAG6jqIqgw4p8bzLy23dMI7u9La0cOHgSwABaJHIjhuOcJkyS2OaGjFrYT7hxi7GwYjaMduQDDzRAzNcBOa6SZUWsBgTz+uwQiFD4IU3s9660KOZPFeEwpX4Wex03DzV1+geDujUXcUTgcgOrq48/B6hlbGrg1tV28CUPGbj+qPrthwO65ZjnY63loUW1FRczvgz2g0wwHr8iB+lEdXlhP8qRbPkmJmmmEeJ8LiMi+Ly7x4187j5slahqvKrY1rQJHYAOlXsncO7QCxNWuHeCSUJx/zmZJksdIEgYejpyivvQ/tfqYvozRbu8CtjSsSLDEFwzvI01dnvQnHIyFO+3GcHT243YdCUiVyGC/rEr+ppN7fEEQ4a4GerB3HTMeE5BImFc4qft44lAkAsKeuF1OtnxSIAhFlnnyVK29cTi+e2MMkR3bkVJHw84S+gssNGWkis7VnT10vgfCLoHZiIztySgPm6q0scJRmMw7/9XGaKxKGUJQ52il0NHL1zd/HG94aIKFcz/M7UQc/BnUK5TCFohunOIFHfZK+0MbTvx9ltLez/h/sAAAAAElFTkSuQmCC) **TODO!** Create a report of the concatenated dataframe\n",
    "\n",
    "Tip: to save some RAM, create a mini dataframe ignoring text columns such as `content_tokenized`"
   ]
  },
  {
   "cell_type": "markdown",
   "metadata": {
    "id": "0mm4F9riAr-D"
   },
   "source": [
    "Now let's create a report again. As our dataset is bigger, the iframe creation should take too much time. Let's use a version without the tokenized content and tokenized title."
   ]
  },
  {
   "cell_type": "code",
   "execution_count": null,
   "metadata": {
    "id": "g5DfLNxpGI6r"
   },
   "outputs": [],
   "source": [
    "# We remove the text columns because generating the iframe takes a lot of time and RAM\n",
    "mini_bbcamazon = bbcamazon.drop(columns=['content_tokenized', 'title_tokenized', 'content', 'title'])"
   ]
  },
  {
   "cell_type": "code",
   "execution_count": null,
   "metadata": {
    "id": "owbHxZxJ9lu9"
   },
   "outputs": [],
   "source": [
    "# Let's create an automatic and interactive report of the BBCAmazon dataframe\n",
    "profile = ProfileReport(mini_bbcamazon, title=\"BBC News x Amazon\", html={\"style\": {\"full_width\": True}})"
   ]
  },
  {
   "cell_type": "code",
   "execution_count": null,
   "metadata": {
    "colab": {
     "base_uri": "https://localhost:8080/",
     "height": 917,
     "referenced_widgets": [
      "a67c508eaab14ba896eef4d5d5dbb6fb",
      "dd36d12645b5469da951edb424b8d707",
      "5ca619a93c704d2cacb689b241a30496",
      "7933ff28ac36476b8b4b5a3522bb863d",
      "153c9f5e3b7e44ffacd690f7cf257fa4",
      "889435da49434977a8c05d3a7e44a9d2",
      "24b815bdd1044d74aca9f2fd6c2380e0",
      "f7b9c170ca0f40c7a7d6997f2a36b831",
      "8f5112d31c21491bba185404b4bd456d",
      "d3d7ef3806854333a2f2948477fbf487",
      "60eea4f122664dc197b09124cd22109b",
      "0942fc8eb3d54d4cb81c15427b391f9f",
      "6aff1f7bbb564e76b142dc1745ab3dc3",
      "582c27222ceb437da23f5d95bb8d8f76",
      "0eec88ae7ae34ef593bed588302bc8f8",
      "ed5ed47a1fd44159afc3fb406f7474b7",
      "2095cc05cf374b479f297e4ce15f76b1",
      "c4afaa51416544a590da2a57da2fd768",
      "ae1ebf534b8e4d3fbadbf570f5738757",
      "d8d0377d4c554f4fb447975012f8222c",
      "dd497ac25583497eb97ef60e708286c0",
      "1ae6e49487114d7e858243517e8829be",
      "a9b287d726874f65b4726288dc64e995",
      "4f9c97b89a924684bb137610f98ce740",
      "db46faa17f564d22ac09090c29c0c38f",
      "180e4e6760224333908444f4aa1b2152",
      "beb01308cb15417ab8500bf981720f2f",
      "c206436d9fcb4728838f08b11905bfb6",
      "742ef264db3e4d6d8abe5fb843257c1f",
      "a3be212203e94e87a20c88ee8bd05add",
      "6fde762831964c8e90fc0cc24e16dc0a",
      "8134ed8526024017a3805ba7752f6ee1",
      "e6a4e09034394534b698f1f0d83e160e"
     ]
    },
    "executionInfo": {
     "elapsed": 17041,
     "status": "ok",
     "timestamp": 1644876819631,
     "user": {
      "displayName": "Gael Guibon",
      "photoUrl": "https://lh3.googleusercontent.com/a-/AOh14GgXlHf357JM0sp3qvQgvu0DzlW-ufwS48UOIFekkA=s64",
      "userId": "16208742544136185697"
     },
     "user_tz": -60
    },
    "id": "GcgzeVxq9lvK",
    "outputId": "acbe4a55-4838-468b-a1c9-bb26f7d71e6f"
   },
   "outputs": [],
   "source": [
    "profile.to_notebook_iframe()"
   ]
  },
  {
   "cell_type": "markdown",
   "metadata": {
    "id": "KUc-MzKjIM4_"
   },
   "source": [
    "Take a look at the correlations, which correlation metric is the best one to differenciate the different content and title lengths?"
   ]
  },
  {
   "cell_type": "markdown",
   "metadata": {
    "id": "2IQ81PmjIxx7"
   },
   "source": [
    "The Kendall's correlation shows a slight difference between content tokenized and not tokenized based on their lengths."
   ]
  },
  {
   "cell_type": "markdown",
   "metadata": {
    "id": "xyjQLbgyJC3M"
   },
   "source": [
    "![image.png](data:image/png;base64,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)"
   ]
  },
  {
   "cell_type": "code",
   "execution_count": null,
   "metadata": {
    "id": "lrJI9IMrKtCI"
   },
   "outputs": [],
   "source": [
    "# let's save some RAM\n",
    "del mini_bbcamazon"
   ]
  },
  {
   "cell_type": "markdown",
   "metadata": {
    "id": "vhYoGMHTPe2Y"
   },
   "source": [
    "\n",
    "# <font color=\"chillipepper\">**Classic NLP pipeline**</font>\n",
    "\n",
    "Here you can see a classic NLP pipeline applied on titles from BBC News (in order to gain some time).\n",
    "\n",
    "Don't hesitate to change to scope afterwards: apply it on content from BBC News for instance.\n"
   ]
  },
  {
   "cell_type": "markdown",
   "metadata": {
    "id": "3PsY9r7rrfwo"
   },
   "source": [
    "### ![programming(3).png](data:image/png;base64,iVBORw0KGgoAAAANSUhEUgAAACAAAAAgCAYAAABzenr0AAAABHNCSVQICAgIfAhkiAAAAAlwSFlzAAAA3QAAAN0BcFOiBwAAABl0RVh0U29mdHdhcmUAd3d3Lmlua3NjYXBlLm9yZ5vuPBoAAAR7SURBVFiFtZdvaFVlHMc/z3PPuefuz825XWV3m5mWU1MLSVEyRoqKk2iLWBCT2uyFpTSIoCCHL0SDXkgUavhKCU3EpGmlorYSShtWig6M1M25gVPb3da2e6/3z3l6cf9u996d42pfOC/O8+/3+f2e5/f8EUopbKnplEHEtwpFDYj5gDf+AdyNfeo6guNoxa18Xv3QzrDCEmDTQS8OuQ1FPeC2R8sQgkNEze3s23B3YgCNB1y49GYQ7wH5Ng2PlR/UpwTDO9jfELQPsOVoKSrUghLLJmh4rJU2hLOWPXW91gCbDi1CipNAxf9iPKUeTLWeffXXcgNsOVqKGb40CcZTEFJfmh4JmaxqPOBChVom0ThABSrUQuMBV6JAS1a59Ob0OQ8J+MsYP0MUMDgwOL5JE5ZINy6XI95JLIstbpohMQWbDnqR8iZpq/1vB3xYalq6dPHXS5Ztzv4xl/K1UyBPJIr8mOZT7NtwNzYFDrmNCabawvmV6Jo2fqMBBd8GIJCMaH7cJpKmU0Z8k7GlaUVu1ixdAIBT19n6/mZ0Xefl6tWUTvfk7ugzR0Mo6mk6ZUgivlXY3OGmFblpqluDkLFQTvNM5f6DPvyBAFIKtn3wrjXEiSSEm4hvlYzt7faN/3LtBmfa2gGY7imho6sbgJbvz3Lu/AVriP40CEWNjB8slsp3OTGcGgPD/mTZdE8xnXEAgP7+QQzDoKDAYjklIIZ5VpI60cZVV28fu7/+gVeqnmP5wieTAB23YwArX1hO/Ws17Ny1l1udd6wH7Dfhu8Bi2wAAd+71sfvYOcpKitA1jalTHqOzqweAGeVePt61l47bNown9I9pWORPprrv+ei+50PXNc6cv8iIPzYlXx755lGHAimUJHaZeGSFwxH+vNExka4puYhocYA5Y+sK8gxerywHp4YyNNA1lFMDZ+r4UAqenjMr1UmBDEaQIxFkIIz0R3CMhHG3DUAgnAlgyIAG6jqIqgw4p8bzLy23dMI7u9La0cOHgSwABaJHIjhuOcJkyS2OaGjFrYT7hxi7GwYjaMduQDDzRAzNcBOa6SZUWsBgTz+uwQiFD4IU3s9660KOZPFeEwpX4Wex03DzV1+geDujUXcUTgcgOrq48/B6hlbGrg1tV28CUPGbj+qPrthwO65ZjnY63loUW1FRczvgz2g0wwHr8iB+lEdXlhP8qRbPkmJmmmEeJ8LiMi+Ly7x4187j5slahqvKrY1rQJHYAOlXsncO7QCxNWuHeCSUJx/zmZJksdIEgYejpyivvQ/tfqYvozRbu8CtjSsSLDEFwzvI01dnvQnHIyFO+3GcHT243YdCUiVyGC/rEr+ppN7fEEQ4a4GerB3HTMeE5BImFc4qft44lAkAsKeuF1OtnxSIAhFlnnyVK29cTi+e2MMkR3bkVJHw84S+gssNGWkis7VnT10vgfCLoHZiIztySgPm6q0scJRmMw7/9XGaKxKGUJQ52il0NHL1zd/HG94aIKFcz/M7UQc/BnUK5TCFohunOIFHfZK+0MbTvx9ltLez/h/sAAAAAElFTkSuQmCC) **TODO!** Re-tokenize using spacy\n",
    "\n",
    "It is useful to take a look at spacy's [tokenizer documentation](https://spacy.io/usage/spacy-101#annotations-token)"
   ]
  },
  {
   "cell_type": "code",
   "execution_count": null,
   "metadata": {
    "colab": {
     "base_uri": "https://localhost:8080/"
    },
    "executionInfo": {
     "elapsed": 353,
     "status": "ok",
     "timestamp": 1644876819974,
     "user": {
      "displayName": "Gael Guibon",
      "photoUrl": "https://lh3.googleusercontent.com/a-/AOh14GgXlHf357JM0sp3qvQgvu0DzlW-ufwS48UOIFekkA=s64",
      "userId": "16208742544136185697"
     },
     "user_tz": -60
    },
    "id": "sCyLnL3cPtvM",
    "outputId": "f93b044d-6ca1-4ef9-8a1e-d5332af1d0f8"
   },
   "outputs": [],
   "source": [
    "from spacy.tokenizer import Tokenizer\n",
    "from spacy.lang.en import English\n",
    "nlp = English()\n",
    "\n",
    "# Instanciating the tokenizer\n",
    "tokenizer = Tokenizer(nlp.vocab)\n",
    "\n",
    "# Repeating the earlier vocabulary count\n",
    "arr = bbcamazon[bbcamazon.source=='bbcnews'].title.apply(lambda x: [w.text for w in tokenizer(x)]).array\n",
    "arr = [ x for X in arr for x in X]\n",
    "print(\"Vocabulary size with Spacy's tokenizer: {}\".format(len(set(arr))))\n",
    "\n",
    "# Inspecting a tokenization sample\n",
    "tokenization_sample = bbcamazon[bbcamazon.source=='bbcnews'].title.head().apply(lambda x: \n",
    "                                              [w.text for w in tokenizer(x)])\n",
    "print(\"Tokenization sample:\\n {}\".format(tokenization_sample))"
   ]
  },
  {
   "cell_type": "markdown",
   "metadata": {
    "id": "v6h2udnJrRNY"
   },
   "source": [
    "The tokenizer doesn't seem to do better than nltk's tokenizers, in terms of vocabulary size.\n"
   ]
  },
  {
   "cell_type": "markdown",
   "metadata": {
    "id": "F2BCX2wSt9VA"
   },
   "source": [
    "\n",
    "# <font color=\"chillipepper\">**Topic Modelling**</font>\n",
    "\n",
    "In this part you don't need to do anything. Just analyze the following code as an example given to you.\n"
   ]
  },
  {
   "cell_type": "markdown",
   "metadata": {
    "id": "NqzXrw-Tt_0Y"
   },
   "source": [
    "### Use Gensim's LDA to compute a topic model. \n"
   ]
  },
  {
   "cell_type": "code",
   "execution_count": null,
   "metadata": {
    "colab": {
     "base_uri": "https://localhost:8080/"
    },
    "executionInfo": {
     "elapsed": 10853,
     "status": "ok",
     "timestamp": 1644876872349,
     "user": {
      "displayName": "Gael Guibon",
      "photoUrl": "https://lh3.googleusercontent.com/a-/AOh14GgXlHf357JM0sp3qvQgvu0DzlW-ufwS48UOIFekkA=s64",
      "userId": "16208742544136185697"
     },
     "user_tz": -60
    },
    "id": "Lub0yYsGuOP0",
    "outputId": "6f6aaa0e-054b-4f9f-93c9-e554ae112313"
   },
   "outputs": [],
   "source": [
    "from gensim.models import LdaModel\n",
    "from gensim import corpora\n",
    "import nltk\n",
    "from string import punctuation\n",
    "\n",
    "nltk.download('stopwords')\n",
    "en_stop = set(nltk.corpus.stopwords.words('english'))\n",
    "to_be_removed = list(en_stop) + list(punctuation)\n",
    "\n",
    "tok = TreebankWordTokenizer()\n",
    "# Tokenizing + removing stopwords\n",
    "text_data = list(bbcamazon[bbcamazon.source=='bbcnews'].content.apply(lambda x: list(filter(lambda a: a.lower() not in to_be_removed,tok.tokenize(x)))).array)\n",
    "print(text_data[0])\n",
    "dictionary = corpora.Dictionary(text_data)\n",
    "corpus = [dictionary.doc2bow(text) for text in text_data]\n",
    "\n",
    "ldamodel = LdaModel(corpus, id2word=dictionary, num_topics=4)"
   ]
  },
  {
   "cell_type": "markdown",
   "metadata": {
    "id": "XtaxXtE4uCPE"
   },
   "source": [
    "### Use PyLDAvis to visualise the topic model. What are the different topic clusters?\n"
   ]
  },
  {
   "cell_type": "code",
   "execution_count": null,
   "metadata": {
    "colab": {
     "base_uri": "https://localhost:8080/"
    },
    "executionInfo": {
     "elapsed": 5435,
     "status": "ok",
     "timestamp": 1644876877748,
     "user": {
      "displayName": "Gael Guibon",
      "photoUrl": "https://lh3.googleusercontent.com/a-/AOh14GgXlHf357JM0sp3qvQgvu0DzlW-ufwS48UOIFekkA=s64",
      "userId": "16208742544136185697"
     },
     "user_tz": -60
    },
    "id": "aCgSmv9TyDfI",
    "outputId": "d962f9f9-75f6-4f53-9f0f-0dba257f3f7f"
   },
   "outputs": [],
   "source": [
    "!pip install pyLDAvis"
   ]
  },
  {
   "cell_type": "code",
   "execution_count": null,
   "metadata": {
    "colab": {
     "base_uri": "https://localhost:8080/",
     "height": 861
    },
    "executionInfo": {
     "elapsed": 9093,
     "status": "ok",
     "timestamp": 1644877229604,
     "user": {
      "displayName": "Gael Guibon",
      "photoUrl": "https://lh3.googleusercontent.com/a-/AOh14GgXlHf357JM0sp3qvQgvu0DzlW-ufwS48UOIFekkA=s64",
      "userId": "16208742544136185697"
     },
     "user_tz": -60
    },
    "id": "UnKdkGV0ylQE",
    "outputId": "622e3650-626d-47c1-dad8-afc12d131eec"
   },
   "outputs": [],
   "source": [
    "import pyLDAvis.gensim_models as gensimvis\n",
    "import pyLDAvis\n",
    "\n",
    "lda_display = gensimvis.prepare(ldamodel, corpus, dictionary)\n",
    "pyLDAvis.display(lda_display)"
   ]
  },
  {
   "cell_type": "markdown",
   "metadata": {
    "id": "yiMLEy5FC7DU"
   },
   "source": [
    "Topic modelling not very relevant here."
   ]
  },
  {
   "cell_type": "code",
   "execution_count": null,
   "metadata": {},
   "outputs": [],
   "source": []
  },
  {
   "cell_type": "code",
   "execution_count": null,
   "metadata": {},
   "outputs": [],
   "source": []
  },
  {
   "cell_type": "code",
   "execution_count": null,
   "metadata": {},
   "outputs": [],
   "source": []
  },
  {
   "cell_type": "code",
   "execution_count": null,
   "metadata": {},
   "outputs": [],
   "source": []
  }
 ],
 "metadata": {
  "colab": {
   "collapsed_sections": [
    "gQGgZ8Aa94sF",
    "dy0f0eM--GhQ",
    "RzAUg6JW99B9",
    "KcXyIq9I9tqz",
    "omVMvmwuBvDk",
    "tS-Acps5pELT",
    "vhYoGMHTPe2Y"
   ],
   "name": "ENSAE_ML4NLP2022_lab1_correction.ipynb",
   "provenance": [],
   "toc_visible": true
  },
  "kernelspec": {
   "display_name": "Python 3 (ipykernel)",
   "language": "python",
   "name": "python3"
  },
  "language_info": {
   "codemirror_mode": {
    "name": "ipython",
    "version": 3
   },
   "file_extension": ".py",
   "mimetype": "text/x-python",
   "name": "python",
   "nbconvert_exporter": "python",
   "pygments_lexer": "ipython3",
   "version": "3.10.13"
  },
  "widgets": {
   "application/vnd.jupyter.widget-state+json": {
    "075fa95ca22f497fa46b741138811840": {
     "model_module": "@jupyter-widgets/controls",
     "model_module_version": "1.5.0",
     "model_name": "FloatProgressModel",
     "state": {
      "_dom_classes": [],
      "_model_module": "@jupyter-widgets/controls",
      "_model_module_version": "1.5.0",
      "_model_name": "FloatProgressModel",
      "_view_count": null,
      "_view_module": "@jupyter-widgets/controls",
      "_view_module_version": "1.5.0",
      "_view_name": "ProgressView",
      "bar_style": "success",
      "description": "",
      "description_tooltip": null,
      "layout": "IPY_MODEL_0ed39fa6e024474daf161e182511c6e6",
      "max": 1,
      "min": 0,
      "orientation": "horizontal",
      "style": "IPY_MODEL_0936393bf1184914a7d1929bf120f8d6",
      "value": 1
     }
    },
    "0936393bf1184914a7d1929bf120f8d6": {
     "model_module": "@jupyter-widgets/controls",
     "model_module_version": "1.5.0",
     "model_name": "ProgressStyleModel",
     "state": {
      "_model_module": "@jupyter-widgets/controls",
      "_model_module_version": "1.5.0",
      "_model_name": "ProgressStyleModel",
      "_view_count": null,
      "_view_module": "@jupyter-widgets/base",
      "_view_module_version": "1.2.0",
      "_view_name": "StyleView",
      "bar_color": null,
      "description_width": ""
     }
    },
    "0942fc8eb3d54d4cb81c15427b391f9f": {
     "model_module": "@jupyter-widgets/controls",
     "model_module_version": "1.5.0",
     "model_name": "HBoxModel",
     "state": {
      "_dom_classes": [],
      "_model_module": "@jupyter-widgets/controls",
      "_model_module_version": "1.5.0",
      "_model_name": "HBoxModel",
      "_view_count": null,
      "_view_module": "@jupyter-widgets/controls",
      "_view_module_version": "1.5.0",
      "_view_name": "HBoxView",
      "box_style": "",
      "children": [
       "IPY_MODEL_582c27222ceb437da23f5d95bb8d8f76",
       "IPY_MODEL_0eec88ae7ae34ef593bed588302bc8f8",
       "IPY_MODEL_ed5ed47a1fd44159afc3fb406f7474b7"
      ],
      "layout": "IPY_MODEL_6aff1f7bbb564e76b142dc1745ab3dc3"
     }
    },
    "0a44b6c5698741ee8a07a5bc28b22bb3": {
     "model_module": "@jupyter-widgets/base",
     "model_module_version": "1.2.0",
     "model_name": "LayoutModel",
     "state": {
      "_model_module": "@jupyter-widgets/base",
      "_model_module_version": "1.2.0",
      "_model_name": "LayoutModel",
      "_view_count": null,
      "_view_module": "@jupyter-widgets/base",
      "_view_module_version": "1.2.0",
      "_view_name": "LayoutView",
      "align_content": null,
      "align_items": null,
      "align_self": null,
      "border": null,
      "bottom": null,
      "display": null,
      "flex": null,
      "flex_flow": null,
      "grid_area": null,
      "grid_auto_columns": null,
      "grid_auto_flow": null,
      "grid_auto_rows": null,
      "grid_column": null,
      "grid_gap": null,
      "grid_row": null,
      "grid_template_areas": null,
      "grid_template_columns": null,
      "grid_template_rows": null,
      "height": null,
      "justify_content": null,
      "justify_items": null,
      "left": null,
      "margin": null,
      "max_height": null,
      "max_width": null,
      "min_height": null,
      "min_width": null,
      "object_fit": null,
      "object_position": null,
      "order": null,
      "overflow": null,
      "overflow_x": null,
      "overflow_y": null,
      "padding": null,
      "right": null,
      "top": null,
      "visibility": null,
      "width": null
     }
    },
    "0ed39fa6e024474daf161e182511c6e6": {
     "model_module": "@jupyter-widgets/base",
     "model_module_version": "1.2.0",
     "model_name": "LayoutModel",
     "state": {
      "_model_module": "@jupyter-widgets/base",
      "_model_module_version": "1.2.0",
      "_model_name": "LayoutModel",
      "_view_count": null,
      "_view_module": "@jupyter-widgets/base",
      "_view_module_version": "1.2.0",
      "_view_name": "LayoutView",
      "align_content": null,
      "align_items": null,
      "align_self": null,
      "border": null,
      "bottom": null,
      "display": null,
      "flex": null,
      "flex_flow": null,
      "grid_area": null,
      "grid_auto_columns": null,
      "grid_auto_flow": null,
      "grid_auto_rows": null,
      "grid_column": null,
      "grid_gap": null,
      "grid_row": null,
      "grid_template_areas": null,
      "grid_template_columns": null,
      "grid_template_rows": null,
      "height": null,
      "justify_content": null,
      "justify_items": null,
      "left": null,
      "margin": null,
      "max_height": null,
      "max_width": null,
      "min_height": null,
      "min_width": null,
      "object_fit": null,
      "object_position": null,
      "order": null,
      "overflow": null,
      "overflow_x": null,
      "overflow_y": null,
      "padding": null,
      "right": null,
      "top": null,
      "visibility": null,
      "width": null
     }
    },
    "0eec88ae7ae34ef593bed588302bc8f8": {
     "model_module": "@jupyter-widgets/controls",
     "model_module_version": "1.5.0",
     "model_name": "FloatProgressModel",
     "state": {
      "_dom_classes": [],
      "_model_module": "@jupyter-widgets/controls",
      "_model_module_version": "1.5.0",
      "_model_name": "FloatProgressModel",
      "_view_count": null,
      "_view_module": "@jupyter-widgets/controls",
      "_view_module_version": "1.5.0",
      "_view_name": "ProgressView",
      "bar_style": "success",
      "description": "",
      "description_tooltip": null,
      "layout": "IPY_MODEL_d8d0377d4c554f4fb447975012f8222c",
      "max": 1,
      "min": 0,
      "orientation": "horizontal",
      "style": "IPY_MODEL_ae1ebf534b8e4d3fbadbf570f5738757",
      "value": 1
     }
    },
    "0f34bafeb5074e68acfcf4fc330ab7df": {
     "model_module": "@jupyter-widgets/controls",
     "model_module_version": "1.5.0",
     "model_name": "HTMLModel",
     "state": {
      "_dom_classes": [],
      "_model_module": "@jupyter-widgets/controls",
      "_model_module_version": "1.5.0",
      "_model_name": "HTMLModel",
      "_view_count": null,
      "_view_module": "@jupyter-widgets/controls",
      "_view_module_version": "1.5.0",
      "_view_name": "HTMLView",
      "description": "",
      "description_tooltip": null,
      "layout": "IPY_MODEL_81c0745910774ff38978fc5f9003af80",
      "placeholder": "​",
      "style": "IPY_MODEL_a622b3591aa74726ab8797edfa4ee687",
      "value": "Generate report structure: 100%"
     }
    },
    "153c9f5e3b7e44ffacd690f7cf257fa4": {
     "model_module": "@jupyter-widgets/controls",
     "model_module_version": "1.5.0",
     "model_name": "HTMLModel",
     "state": {
      "_dom_classes": [],
      "_model_module": "@jupyter-widgets/controls",
      "_model_module_version": "1.5.0",
      "_model_name": "HTMLModel",
      "_view_count": null,
      "_view_module": "@jupyter-widgets/controls",
      "_view_module_version": "1.5.0",
      "_view_name": "HTMLView",
      "description": "",
      "description_tooltip": null,
      "layout": "IPY_MODEL_60eea4f122664dc197b09124cd22109b",
      "placeholder": "​",
      "style": "IPY_MODEL_d3d7ef3806854333a2f2948477fbf487",
      "value": " 36/36 [00:11&lt;00:00,  4.73it/s, Completed]"
     }
    },
    "180e4e6760224333908444f4aa1b2152": {
     "model_module": "@jupyter-widgets/controls",
     "model_module_version": "1.5.0",
     "model_name": "FloatProgressModel",
     "state": {
      "_dom_classes": [],
      "_model_module": "@jupyter-widgets/controls",
      "_model_module_version": "1.5.0",
      "_model_name": "FloatProgressModel",
      "_view_count": null,
      "_view_module": "@jupyter-widgets/controls",
      "_view_module_version": "1.5.0",
      "_view_name": "ProgressView",
      "bar_style": "success",
      "description": "",
      "description_tooltip": null,
      "layout": "IPY_MODEL_6fde762831964c8e90fc0cc24e16dc0a",
      "max": 1,
      "min": 0,
      "orientation": "horizontal",
      "style": "IPY_MODEL_a3be212203e94e87a20c88ee8bd05add",
      "value": 1
     }
    },
    "1ae6e49487114d7e858243517e8829be": {
     "model_module": "@jupyter-widgets/base",
     "model_module_version": "1.2.0",
     "model_name": "LayoutModel",
     "state": {
      "_model_module": "@jupyter-widgets/base",
      "_model_module_version": "1.2.0",
      "_model_name": "LayoutModel",
      "_view_count": null,
      "_view_module": "@jupyter-widgets/base",
      "_view_module_version": "1.2.0",
      "_view_name": "LayoutView",
      "align_content": null,
      "align_items": null,
      "align_self": null,
      "border": null,
      "bottom": null,
      "display": null,
      "flex": null,
      "flex_flow": null,
      "grid_area": null,
      "grid_auto_columns": null,
      "grid_auto_flow": null,
      "grid_auto_rows": null,
      "grid_column": null,
      "grid_gap": null,
      "grid_row": null,
      "grid_template_areas": null,
      "grid_template_columns": null,
      "grid_template_rows": null,
      "height": null,
      "justify_content": null,
      "justify_items": null,
      "left": null,
      "margin": null,
      "max_height": null,
      "max_width": null,
      "min_height": null,
      "min_width": null,
      "object_fit": null,
      "object_position": null,
      "order": null,
      "overflow": null,
      "overflow_x": null,
      "overflow_y": null,
      "padding": null,
      "right": null,
      "top": null,
      "visibility": null,
      "width": null
     }
    },
    "1b03e1ae1ae24e638ea68cffbd02387a": {
     "model_module": "@jupyter-widgets/base",
     "model_module_version": "1.2.0",
     "model_name": "LayoutModel",
     "state": {
      "_model_module": "@jupyter-widgets/base",
      "_model_module_version": "1.2.0",
      "_model_name": "LayoutModel",
      "_view_count": null,
      "_view_module": "@jupyter-widgets/base",
      "_view_module_version": "1.2.0",
      "_view_name": "LayoutView",
      "align_content": null,
      "align_items": null,
      "align_self": null,
      "border": null,
      "bottom": null,
      "display": null,
      "flex": null,
      "flex_flow": null,
      "grid_area": null,
      "grid_auto_columns": null,
      "grid_auto_flow": null,
      "grid_auto_rows": null,
      "grid_column": null,
      "grid_gap": null,
      "grid_row": null,
      "grid_template_areas": null,
      "grid_template_columns": null,
      "grid_template_rows": null,
      "height": null,
      "justify_content": null,
      "justify_items": null,
      "left": null,
      "margin": null,
      "max_height": null,
      "max_width": null,
      "min_height": null,
      "min_width": null,
      "object_fit": null,
      "object_position": null,
      "order": null,
      "overflow": null,
      "overflow_x": null,
      "overflow_y": null,
      "padding": null,
      "right": null,
      "top": null,
      "visibility": null,
      "width": null
     }
    },
    "2095cc05cf374b479f297e4ce15f76b1": {
     "model_module": "@jupyter-widgets/controls",
     "model_module_version": "1.5.0",
     "model_name": "DescriptionStyleModel",
     "state": {
      "_model_module": "@jupyter-widgets/controls",
      "_model_module_version": "1.5.0",
      "_model_name": "DescriptionStyleModel",
      "_view_count": null,
      "_view_module": "@jupyter-widgets/base",
      "_view_module_version": "1.2.0",
      "_view_name": "StyleView",
      "description_width": ""
     }
    },
    "24b815bdd1044d74aca9f2fd6c2380e0": {
     "model_module": "@jupyter-widgets/base",
     "model_module_version": "1.2.0",
     "model_name": "LayoutModel",
     "state": {
      "_model_module": "@jupyter-widgets/base",
      "_model_module_version": "1.2.0",
      "_model_name": "LayoutModel",
      "_view_count": null,
      "_view_module": "@jupyter-widgets/base",
      "_view_module_version": "1.2.0",
      "_view_name": "LayoutView",
      "align_content": null,
      "align_items": null,
      "align_self": null,
      "border": null,
      "bottom": null,
      "display": null,
      "flex": null,
      "flex_flow": null,
      "grid_area": null,
      "grid_auto_columns": null,
      "grid_auto_flow": null,
      "grid_auto_rows": null,
      "grid_column": null,
      "grid_gap": null,
      "grid_row": null,
      "grid_template_areas": null,
      "grid_template_columns": null,
      "grid_template_rows": null,
      "height": null,
      "justify_content": null,
      "justify_items": null,
      "left": null,
      "margin": null,
      "max_height": null,
      "max_width": null,
      "min_height": null,
      "min_width": null,
      "object_fit": null,
      "object_position": null,
      "order": null,
      "overflow": null,
      "overflow_x": null,
      "overflow_y": null,
      "padding": null,
      "right": null,
      "top": null,
      "visibility": null,
      "width": null
     }
    },
    "282381a8417c497bae69ec64431b3289": {
     "model_module": "@jupyter-widgets/controls",
     "model_module_version": "1.5.0",
     "model_name": "HTMLModel",
     "state": {
      "_dom_classes": [],
      "_model_module": "@jupyter-widgets/controls",
      "_model_module_version": "1.5.0",
      "_model_name": "HTMLModel",
      "_view_count": null,
      "_view_module": "@jupyter-widgets/controls",
      "_view_module_version": "1.5.0",
      "_view_name": "HTMLView",
      "description": "",
      "description_tooltip": null,
      "layout": "IPY_MODEL_dfcb89d019be4f71aadad2c307645473",
      "placeholder": "​",
      "style": "IPY_MODEL_79be690d75fb46beb4733ff35591a9f8",
      "value": " 3/3 [00:06&lt;00:00,  2.11s/it]"
     }
    },
    "2cfd09a8c9354fe8bbba89f08f3479f5": {
     "model_module": "@jupyter-widgets/controls",
     "model_module_version": "1.5.0",
     "model_name": "DescriptionStyleModel",
     "state": {
      "_model_module": "@jupyter-widgets/controls",
      "_model_module_version": "1.5.0",
      "_model_name": "DescriptionStyleModel",
      "_view_count": null,
      "_view_module": "@jupyter-widgets/base",
      "_view_module_version": "1.2.0",
      "_view_name": "StyleView",
      "description_width": ""
     }
    },
    "42a60adcab3e4358a84a1a93ca5f9f1c": {
     "model_module": "@jupyter-widgets/base",
     "model_module_version": "1.2.0",
     "model_name": "LayoutModel",
     "state": {
      "_model_module": "@jupyter-widgets/base",
      "_model_module_version": "1.2.0",
      "_model_name": "LayoutModel",
      "_view_count": null,
      "_view_module": "@jupyter-widgets/base",
      "_view_module_version": "1.2.0",
      "_view_name": "LayoutView",
      "align_content": null,
      "align_items": null,
      "align_self": null,
      "border": null,
      "bottom": null,
      "display": null,
      "flex": null,
      "flex_flow": null,
      "grid_area": null,
      "grid_auto_columns": null,
      "grid_auto_flow": null,
      "grid_auto_rows": null,
      "grid_column": null,
      "grid_gap": null,
      "grid_row": null,
      "grid_template_areas": null,
      "grid_template_columns": null,
      "grid_template_rows": null,
      "height": null,
      "justify_content": null,
      "justify_items": null,
      "left": null,
      "margin": null,
      "max_height": null,
      "max_width": null,
      "min_height": null,
      "min_width": null,
      "object_fit": null,
      "object_position": null,
      "order": null,
      "overflow": null,
      "overflow_x": null,
      "overflow_y": null,
      "padding": null,
      "right": null,
      "top": null,
      "visibility": null,
      "width": null
     }
    },
    "443116099660425e9fa88e37da20bef9": {
     "model_module": "@jupyter-widgets/base",
     "model_module_version": "1.2.0",
     "model_name": "LayoutModel",
     "state": {
      "_model_module": "@jupyter-widgets/base",
      "_model_module_version": "1.2.0",
      "_model_name": "LayoutModel",
      "_view_count": null,
      "_view_module": "@jupyter-widgets/base",
      "_view_module_version": "1.2.0",
      "_view_name": "LayoutView",
      "align_content": null,
      "align_items": null,
      "align_self": null,
      "border": null,
      "bottom": null,
      "display": null,
      "flex": null,
      "flex_flow": null,
      "grid_area": null,
      "grid_auto_columns": null,
      "grid_auto_flow": null,
      "grid_auto_rows": null,
      "grid_column": null,
      "grid_gap": null,
      "grid_row": null,
      "grid_template_areas": null,
      "grid_template_columns": null,
      "grid_template_rows": null,
      "height": null,
      "justify_content": null,
      "justify_items": null,
      "left": null,
      "margin": null,
      "max_height": null,
      "max_width": null,
      "min_height": null,
      "min_width": null,
      "object_fit": null,
      "object_position": null,
      "order": null,
      "overflow": null,
      "overflow_x": null,
      "overflow_y": null,
      "padding": null,
      "right": null,
      "top": null,
      "visibility": null,
      "width": null
     }
    },
    "4f9c97b89a924684bb137610f98ce740": {
     "model_module": "@jupyter-widgets/base",
     "model_module_version": "1.2.0",
     "model_name": "LayoutModel",
     "state": {
      "_model_module": "@jupyter-widgets/base",
      "_model_module_version": "1.2.0",
      "_model_name": "LayoutModel",
      "_view_count": null,
      "_view_module": "@jupyter-widgets/base",
      "_view_module_version": "1.2.0",
      "_view_name": "LayoutView",
      "align_content": null,
      "align_items": null,
      "align_self": null,
      "border": null,
      "bottom": null,
      "display": null,
      "flex": null,
      "flex_flow": null,
      "grid_area": null,
      "grid_auto_columns": null,
      "grid_auto_flow": null,
      "grid_auto_rows": null,
      "grid_column": null,
      "grid_gap": null,
      "grid_row": null,
      "grid_template_areas": null,
      "grid_template_columns": null,
      "grid_template_rows": null,
      "height": null,
      "justify_content": null,
      "justify_items": null,
      "left": null,
      "margin": null,
      "max_height": null,
      "max_width": null,
      "min_height": null,
      "min_width": null,
      "object_fit": null,
      "object_position": null,
      "order": null,
      "overflow": null,
      "overflow_x": null,
      "overflow_y": null,
      "padding": null,
      "right": null,
      "top": null,
      "visibility": null,
      "width": null
     }
    },
    "56ee6eb9dddd4b5ba4685af261494a3f": {
     "model_module": "@jupyter-widgets/base",
     "model_module_version": "1.2.0",
     "model_name": "LayoutModel",
     "state": {
      "_model_module": "@jupyter-widgets/base",
      "_model_module_version": "1.2.0",
      "_model_name": "LayoutModel",
      "_view_count": null,
      "_view_module": "@jupyter-widgets/base",
      "_view_module_version": "1.2.0",
      "_view_name": "LayoutView",
      "align_content": null,
      "align_items": null,
      "align_self": null,
      "border": null,
      "bottom": null,
      "display": null,
      "flex": null,
      "flex_flow": null,
      "grid_area": null,
      "grid_auto_columns": null,
      "grid_auto_flow": null,
      "grid_auto_rows": null,
      "grid_column": null,
      "grid_gap": null,
      "grid_row": null,
      "grid_template_areas": null,
      "grid_template_columns": null,
      "grid_template_rows": null,
      "height": null,
      "justify_content": null,
      "justify_items": null,
      "left": null,
      "margin": null,
      "max_height": null,
      "max_width": null,
      "min_height": null,
      "min_width": null,
      "object_fit": null,
      "object_position": null,
      "order": null,
      "overflow": null,
      "overflow_x": null,
      "overflow_y": null,
      "padding": null,
      "right": null,
      "top": null,
      "visibility": null,
      "width": null
     }
    },
    "582c27222ceb437da23f5d95bb8d8f76": {
     "model_module": "@jupyter-widgets/controls",
     "model_module_version": "1.5.0",
     "model_name": "HTMLModel",
     "state": {
      "_dom_classes": [],
      "_model_module": "@jupyter-widgets/controls",
      "_model_module_version": "1.5.0",
      "_model_name": "HTMLModel",
      "_view_count": null,
      "_view_module": "@jupyter-widgets/controls",
      "_view_module_version": "1.5.0",
      "_view_name": "HTMLView",
      "description": "",
      "description_tooltip": null,
      "layout": "IPY_MODEL_c4afaa51416544a590da2a57da2fd768",
      "placeholder": "​",
      "style": "IPY_MODEL_2095cc05cf374b479f297e4ce15f76b1",
      "value": "Generate report structure: 100%"
     }
    },
    "5b4cba52d9c04dc2a6587cdd1a1d2bff": {
     "model_module": "@jupyter-widgets/controls",
     "model_module_version": "1.5.0",
     "model_name": "HTMLModel",
     "state": {
      "_dom_classes": [],
      "_model_module": "@jupyter-widgets/controls",
      "_model_module_version": "1.5.0",
      "_model_name": "HTMLModel",
      "_view_count": null,
      "_view_module": "@jupyter-widgets/controls",
      "_view_module_version": "1.5.0",
      "_view_name": "HTMLView",
      "description": "",
      "description_tooltip": null,
      "layout": "IPY_MODEL_78d2d26df8f340cfb6f93cace88dd7b3",
      "placeholder": "​",
      "style": "IPY_MODEL_6f185848b2b241859cab1f14d2b100dc",
      "value": " 3/3 [00:12&lt;00:00,  4.22s/it]"
     }
    },
    "5ca619a93c704d2cacb689b241a30496": {
     "model_module": "@jupyter-widgets/controls",
     "model_module_version": "1.5.0",
     "model_name": "HTMLModel",
     "state": {
      "_dom_classes": [],
      "_model_module": "@jupyter-widgets/controls",
      "_model_module_version": "1.5.0",
      "_model_name": "HTMLModel",
      "_view_count": null,
      "_view_module": "@jupyter-widgets/controls",
      "_view_module_version": "1.5.0",
      "_view_name": "HTMLView",
      "description": "",
      "description_tooltip": null,
      "layout": "IPY_MODEL_24b815bdd1044d74aca9f2fd6c2380e0",
      "placeholder": "​",
      "style": "IPY_MODEL_889435da49434977a8c05d3a7e44a9d2",
      "value": "Summarize dataset: 100%"
     }
    },
    "5e54152314f74b09a8c519c354809099": {
     "model_module": "@jupyter-widgets/base",
     "model_module_version": "1.2.0",
     "model_name": "LayoutModel",
     "state": {
      "_model_module": "@jupyter-widgets/base",
      "_model_module_version": "1.2.0",
      "_model_name": "LayoutModel",
      "_view_count": null,
      "_view_module": "@jupyter-widgets/base",
      "_view_module_version": "1.2.0",
      "_view_name": "LayoutView",
      "align_content": null,
      "align_items": null,
      "align_self": null,
      "border": null,
      "bottom": null,
      "display": null,
      "flex": null,
      "flex_flow": null,
      "grid_area": null,
      "grid_auto_columns": null,
      "grid_auto_flow": null,
      "grid_auto_rows": null,
      "grid_column": null,
      "grid_gap": null,
      "grid_row": null,
      "grid_template_areas": null,
      "grid_template_columns": null,
      "grid_template_rows": null,
      "height": null,
      "justify_content": null,
      "justify_items": null,
      "left": null,
      "margin": null,
      "max_height": null,
      "max_width": null,
      "min_height": null,
      "min_width": null,
      "object_fit": null,
      "object_position": null,
      "order": null,
      "overflow": null,
      "overflow_x": null,
      "overflow_y": null,
      "padding": null,
      "right": null,
      "top": null,
      "visibility": null,
      "width": null
     }
    },
    "60eea4f122664dc197b09124cd22109b": {
     "model_module": "@jupyter-widgets/base",
     "model_module_version": "1.2.0",
     "model_name": "LayoutModel",
     "state": {
      "_model_module": "@jupyter-widgets/base",
      "_model_module_version": "1.2.0",
      "_model_name": "LayoutModel",
      "_view_count": null,
      "_view_module": "@jupyter-widgets/base",
      "_view_module_version": "1.2.0",
      "_view_name": "LayoutView",
      "align_content": null,
      "align_items": null,
      "align_self": null,
      "border": null,
      "bottom": null,
      "display": null,
      "flex": null,
      "flex_flow": null,
      "grid_area": null,
      "grid_auto_columns": null,
      "grid_auto_flow": null,
      "grid_auto_rows": null,
      "grid_column": null,
      "grid_gap": null,
      "grid_row": null,
      "grid_template_areas": null,
      "grid_template_columns": null,
      "grid_template_rows": null,
      "height": null,
      "justify_content": null,
      "justify_items": null,
      "left": null,
      "margin": null,
      "max_height": null,
      "max_width": null,
      "min_height": null,
      "min_width": null,
      "object_fit": null,
      "object_position": null,
      "order": null,
      "overflow": null,
      "overflow_x": null,
      "overflow_y": null,
      "padding": null,
      "right": null,
      "top": null,
      "visibility": null,
      "width": null
     }
    },
    "65ffa229985e44b69031956adc25b241": {
     "model_module": "@jupyter-widgets/base",
     "model_module_version": "1.2.0",
     "model_name": "LayoutModel",
     "state": {
      "_model_module": "@jupyter-widgets/base",
      "_model_module_version": "1.2.0",
      "_model_name": "LayoutModel",
      "_view_count": null,
      "_view_module": "@jupyter-widgets/base",
      "_view_module_version": "1.2.0",
      "_view_name": "LayoutView",
      "align_content": null,
      "align_items": null,
      "align_self": null,
      "border": null,
      "bottom": null,
      "display": null,
      "flex": null,
      "flex_flow": null,
      "grid_area": null,
      "grid_auto_columns": null,
      "grid_auto_flow": null,
      "grid_auto_rows": null,
      "grid_column": null,
      "grid_gap": null,
      "grid_row": null,
      "grid_template_areas": null,
      "grid_template_columns": null,
      "grid_template_rows": null,
      "height": null,
      "justify_content": null,
      "justify_items": null,
      "left": null,
      "margin": null,
      "max_height": null,
      "max_width": null,
      "min_height": null,
      "min_width": null,
      "object_fit": null,
      "object_position": null,
      "order": null,
      "overflow": null,
      "overflow_x": null,
      "overflow_y": null,
      "padding": null,
      "right": null,
      "top": null,
      "visibility": null,
      "width": null
     }
    },
    "6616fba1da6946c4977a94e115c81cf3": {
     "model_module": "@jupyter-widgets/controls",
     "model_module_version": "1.5.0",
     "model_name": "FloatProgressModel",
     "state": {
      "_dom_classes": [],
      "_model_module": "@jupyter-widgets/controls",
      "_model_module_version": "1.5.0",
      "_model_name": "FloatProgressModel",
      "_view_count": null,
      "_view_module": "@jupyter-widgets/controls",
      "_view_module_version": "1.5.0",
      "_view_name": "ProgressView",
      "bar_style": "success",
      "description": "",
      "description_tooltip": null,
      "layout": "IPY_MODEL_989e623968884420b05466517fdd7fd4",
      "max": 3,
      "min": 0,
      "orientation": "horizontal",
      "style": "IPY_MODEL_fa7fb7cfc3394d5eb960cafb24b7babb",
      "value": 3
     }
    },
    "67dad5ee422043f78c7441874341e05e": {
     "model_module": "@jupyter-widgets/controls",
     "model_module_version": "1.5.0",
     "model_name": "FloatProgressModel",
     "state": {
      "_dom_classes": [],
      "_model_module": "@jupyter-widgets/controls",
      "_model_module_version": "1.5.0",
      "_model_name": "FloatProgressModel",
      "_view_count": null,
      "_view_module": "@jupyter-widgets/controls",
      "_view_module_version": "1.5.0",
      "_view_name": "ProgressView",
      "bar_style": "success",
      "description": "",
      "description_tooltip": null,
      "layout": "IPY_MODEL_dc1d055757e3429c8712af12e551da82",
      "max": 1,
      "min": 0,
      "orientation": "horizontal",
      "style": "IPY_MODEL_fa64ee0be3b84df1a0daf41fd305cae8",
      "value": 1
     }
    },
    "68eca806a75e46ac816b1ffcee2ceec3": {
     "model_module": "@jupyter-widgets/controls",
     "model_module_version": "1.5.0",
     "model_name": "HTMLModel",
     "state": {
      "_dom_classes": [],
      "_model_module": "@jupyter-widgets/controls",
      "_model_module_version": "1.5.0",
      "_model_name": "HTMLModel",
      "_view_count": null,
      "_view_module": "@jupyter-widgets/controls",
      "_view_module_version": "1.5.0",
      "_view_name": "HTMLView",
      "description": "",
      "description_tooltip": null,
      "layout": "IPY_MODEL_f7c4bba33db64d56a5ae287e393c4e5d",
      "placeholder": "​",
      "style": "IPY_MODEL_f5af225d7add4578af67e932774d2cc9",
      "value": " 1/1 [00:02&lt;00:00,  2.67s/it]"
     }
    },
    "6a2709b4af494b16b3ec1a8288783e00": {
     "model_module": "@jupyter-widgets/controls",
     "model_module_version": "1.5.0",
     "model_name": "HBoxModel",
     "state": {
      "_dom_classes": [],
      "_model_module": "@jupyter-widgets/controls",
      "_model_module_version": "1.5.0",
      "_model_name": "HBoxModel",
      "_view_count": null,
      "_view_module": "@jupyter-widgets/controls",
      "_view_module_version": "1.5.0",
      "_view_name": "HBoxView",
      "box_style": "",
      "children": [
       "IPY_MODEL_0f34bafeb5074e68acfcf4fc330ab7df",
       "IPY_MODEL_075fa95ca22f497fa46b741138811840",
       "IPY_MODEL_68eca806a75e46ac816b1ffcee2ceec3"
      ],
      "layout": "IPY_MODEL_a6e787a011494392acc70f27c2c73c80"
     }
    },
    "6aff1f7bbb564e76b142dc1745ab3dc3": {
     "model_module": "@jupyter-widgets/base",
     "model_module_version": "1.2.0",
     "model_name": "LayoutModel",
     "state": {
      "_model_module": "@jupyter-widgets/base",
      "_model_module_version": "1.2.0",
      "_model_name": "LayoutModel",
      "_view_count": null,
      "_view_module": "@jupyter-widgets/base",
      "_view_module_version": "1.2.0",
      "_view_name": "LayoutView",
      "align_content": null,
      "align_items": null,
      "align_self": null,
      "border": null,
      "bottom": null,
      "display": null,
      "flex": null,
      "flex_flow": null,
      "grid_area": null,
      "grid_auto_columns": null,
      "grid_auto_flow": null,
      "grid_auto_rows": null,
      "grid_column": null,
      "grid_gap": null,
      "grid_row": null,
      "grid_template_areas": null,
      "grid_template_columns": null,
      "grid_template_rows": null,
      "height": null,
      "justify_content": null,
      "justify_items": null,
      "left": null,
      "margin": null,
      "max_height": null,
      "max_width": null,
      "min_height": null,
      "min_width": null,
      "object_fit": null,
      "object_position": null,
      "order": null,
      "overflow": null,
      "overflow_x": null,
      "overflow_y": null,
      "padding": null,
      "right": null,
      "top": null,
      "visibility": null,
      "width": null
     }
    },
    "6f185848b2b241859cab1f14d2b100dc": {
     "model_module": "@jupyter-widgets/controls",
     "model_module_version": "1.5.0",
     "model_name": "DescriptionStyleModel",
     "state": {
      "_model_module": "@jupyter-widgets/controls",
      "_model_module_version": "1.5.0",
      "_model_name": "DescriptionStyleModel",
      "_view_count": null,
      "_view_module": "@jupyter-widgets/base",
      "_view_module_version": "1.2.0",
      "_view_name": "StyleView",
      "description_width": ""
     }
    },
    "6fde762831964c8e90fc0cc24e16dc0a": {
     "model_module": "@jupyter-widgets/base",
     "model_module_version": "1.2.0",
     "model_name": "LayoutModel",
     "state": {
      "_model_module": "@jupyter-widgets/base",
      "_model_module_version": "1.2.0",
      "_model_name": "LayoutModel",
      "_view_count": null,
      "_view_module": "@jupyter-widgets/base",
      "_view_module_version": "1.2.0",
      "_view_name": "LayoutView",
      "align_content": null,
      "align_items": null,
      "align_self": null,
      "border": null,
      "bottom": null,
      "display": null,
      "flex": null,
      "flex_flow": null,
      "grid_area": null,
      "grid_auto_columns": null,
      "grid_auto_flow": null,
      "grid_auto_rows": null,
      "grid_column": null,
      "grid_gap": null,
      "grid_row": null,
      "grid_template_areas": null,
      "grid_template_columns": null,
      "grid_template_rows": null,
      "height": null,
      "justify_content": null,
      "justify_items": null,
      "left": null,
      "margin": null,
      "max_height": null,
      "max_width": null,
      "min_height": null,
      "min_width": null,
      "object_fit": null,
      "object_position": null,
      "order": null,
      "overflow": null,
      "overflow_x": null,
      "overflow_y": null,
      "padding": null,
      "right": null,
      "top": null,
      "visibility": null,
      "width": null
     }
    },
    "70fabc1a9cf947bbac79e50e85c37fdf": {
     "model_module": "@jupyter-widgets/controls",
     "model_module_version": "1.5.0",
     "model_name": "ProgressStyleModel",
     "state": {
      "_model_module": "@jupyter-widgets/controls",
      "_model_module_version": "1.5.0",
      "_model_name": "ProgressStyleModel",
      "_view_count": null,
      "_view_module": "@jupyter-widgets/base",
      "_view_module_version": "1.2.0",
      "_view_name": "StyleView",
      "bar_color": null,
      "description_width": ""
     }
    },
    "742ef264db3e4d6d8abe5fb843257c1f": {
     "model_module": "@jupyter-widgets/base",
     "model_module_version": "1.2.0",
     "model_name": "LayoutModel",
     "state": {
      "_model_module": "@jupyter-widgets/base",
      "_model_module_version": "1.2.0",
      "_model_name": "LayoutModel",
      "_view_count": null,
      "_view_module": "@jupyter-widgets/base",
      "_view_module_version": "1.2.0",
      "_view_name": "LayoutView",
      "align_content": null,
      "align_items": null,
      "align_self": null,
      "border": null,
      "bottom": null,
      "display": null,
      "flex": null,
      "flex_flow": null,
      "grid_area": null,
      "grid_auto_columns": null,
      "grid_auto_flow": null,
      "grid_auto_rows": null,
      "grid_column": null,
      "grid_gap": null,
      "grid_row": null,
      "grid_template_areas": null,
      "grid_template_columns": null,
      "grid_template_rows": null,
      "height": null,
      "justify_content": null,
      "justify_items": null,
      "left": null,
      "margin": null,
      "max_height": null,
      "max_width": null,
      "min_height": null,
      "min_width": null,
      "object_fit": null,
      "object_position": null,
      "order": null,
      "overflow": null,
      "overflow_x": null,
      "overflow_y": null,
      "padding": null,
      "right": null,
      "top": null,
      "visibility": null,
      "width": null
     }
    },
    "75b706b1f5ad41dfb4fd3a048a8550cb": {
     "model_module": "@jupyter-widgets/controls",
     "model_module_version": "1.5.0",
     "model_name": "HBoxModel",
     "state": {
      "_dom_classes": [],
      "_model_module": "@jupyter-widgets/controls",
      "_model_module_version": "1.5.0",
      "_model_name": "HBoxModel",
      "_view_count": null,
      "_view_module": "@jupyter-widgets/controls",
      "_view_module_version": "1.5.0",
      "_view_name": "HBoxView",
      "box_style": "",
      "children": [
       "IPY_MODEL_c31125494b054bafb6e76e53446f1b7f",
       "IPY_MODEL_67dad5ee422043f78c7441874341e05e",
       "IPY_MODEL_c0aa37733b974b5389ed9e959710d2e0"
      ],
      "layout": "IPY_MODEL_7a2f7c0bcfcb4b03b07c0bc2c1cca139"
     }
    },
    "7806c110ce1342af9d11564b0cba6bf9": {
     "model_module": "@jupyter-widgets/controls",
     "model_module_version": "1.5.0",
     "model_name": "ProgressStyleModel",
     "state": {
      "_model_module": "@jupyter-widgets/controls",
      "_model_module_version": "1.5.0",
      "_model_name": "ProgressStyleModel",
      "_view_count": null,
      "_view_module": "@jupyter-widgets/base",
      "_view_module_version": "1.2.0",
      "_view_name": "StyleView",
      "bar_color": null,
      "description_width": ""
     }
    },
    "78d2d26df8f340cfb6f93cace88dd7b3": {
     "model_module": "@jupyter-widgets/base",
     "model_module_version": "1.2.0",
     "model_name": "LayoutModel",
     "state": {
      "_model_module": "@jupyter-widgets/base",
      "_model_module_version": "1.2.0",
      "_model_name": "LayoutModel",
      "_view_count": null,
      "_view_module": "@jupyter-widgets/base",
      "_view_module_version": "1.2.0",
      "_view_name": "LayoutView",
      "align_content": null,
      "align_items": null,
      "align_self": null,
      "border": null,
      "bottom": null,
      "display": null,
      "flex": null,
      "flex_flow": null,
      "grid_area": null,
      "grid_auto_columns": null,
      "grid_auto_flow": null,
      "grid_auto_rows": null,
      "grid_column": null,
      "grid_gap": null,
      "grid_row": null,
      "grid_template_areas": null,
      "grid_template_columns": null,
      "grid_template_rows": null,
      "height": null,
      "justify_content": null,
      "justify_items": null,
      "left": null,
      "margin": null,
      "max_height": null,
      "max_width": null,
      "min_height": null,
      "min_width": null,
      "object_fit": null,
      "object_position": null,
      "order": null,
      "overflow": null,
      "overflow_x": null,
      "overflow_y": null,
      "padding": null,
      "right": null,
      "top": null,
      "visibility": null,
      "width": null
     }
    },
    "7933ff28ac36476b8b4b5a3522bb863d": {
     "model_module": "@jupyter-widgets/controls",
     "model_module_version": "1.5.0",
     "model_name": "FloatProgressModel",
     "state": {
      "_dom_classes": [],
      "_model_module": "@jupyter-widgets/controls",
      "_model_module_version": "1.5.0",
      "_model_name": "FloatProgressModel",
      "_view_count": null,
      "_view_module": "@jupyter-widgets/controls",
      "_view_module_version": "1.5.0",
      "_view_name": "ProgressView",
      "bar_style": "success",
      "description": "",
      "description_tooltip": null,
      "layout": "IPY_MODEL_8f5112d31c21491bba185404b4bd456d",
      "max": 5,
      "min": 0,
      "orientation": "horizontal",
      "style": "IPY_MODEL_f7b9c170ca0f40c7a7d6997f2a36b831",
      "value": 5
     }
    },
    "79be690d75fb46beb4733ff35591a9f8": {
     "model_module": "@jupyter-widgets/controls",
     "model_module_version": "1.5.0",
     "model_name": "DescriptionStyleModel",
     "state": {
      "_model_module": "@jupyter-widgets/controls",
      "_model_module_version": "1.5.0",
      "_model_name": "DescriptionStyleModel",
      "_view_count": null,
      "_view_module": "@jupyter-widgets/base",
      "_view_module_version": "1.2.0",
      "_view_name": "StyleView",
      "description_width": ""
     }
    },
    "7a2f7c0bcfcb4b03b07c0bc2c1cca139": {
     "model_module": "@jupyter-widgets/base",
     "model_module_version": "1.2.0",
     "model_name": "LayoutModel",
     "state": {
      "_model_module": "@jupyter-widgets/base",
      "_model_module_version": "1.2.0",
      "_model_name": "LayoutModel",
      "_view_count": null,
      "_view_module": "@jupyter-widgets/base",
      "_view_module_version": "1.2.0",
      "_view_name": "LayoutView",
      "align_content": null,
      "align_items": null,
      "align_self": null,
      "border": null,
      "bottom": null,
      "display": null,
      "flex": null,
      "flex_flow": null,
      "grid_area": null,
      "grid_auto_columns": null,
      "grid_auto_flow": null,
      "grid_auto_rows": null,
      "grid_column": null,
      "grid_gap": null,
      "grid_row": null,
      "grid_template_areas": null,
      "grid_template_columns": null,
      "grid_template_rows": null,
      "height": null,
      "justify_content": null,
      "justify_items": null,
      "left": null,
      "margin": null,
      "max_height": null,
      "max_width": null,
      "min_height": null,
      "min_width": null,
      "object_fit": null,
      "object_position": null,
      "order": null,
      "overflow": null,
      "overflow_x": null,
      "overflow_y": null,
      "padding": null,
      "right": null,
      "top": null,
      "visibility": null,
      "width": null
     }
    },
    "8134ed8526024017a3805ba7752f6ee1": {
     "model_module": "@jupyter-widgets/controls",
     "model_module_version": "1.5.0",
     "model_name": "DescriptionStyleModel",
     "state": {
      "_model_module": "@jupyter-widgets/controls",
      "_model_module_version": "1.5.0",
      "_model_name": "DescriptionStyleModel",
      "_view_count": null,
      "_view_module": "@jupyter-widgets/base",
      "_view_module_version": "1.2.0",
      "_view_name": "StyleView",
      "description_width": ""
     }
    },
    "81c0745910774ff38978fc5f9003af80": {
     "model_module": "@jupyter-widgets/base",
     "model_module_version": "1.2.0",
     "model_name": "LayoutModel",
     "state": {
      "_model_module": "@jupyter-widgets/base",
      "_model_module_version": "1.2.0",
      "_model_name": "LayoutModel",
      "_view_count": null,
      "_view_module": "@jupyter-widgets/base",
      "_view_module_version": "1.2.0",
      "_view_name": "LayoutView",
      "align_content": null,
      "align_items": null,
      "align_self": null,
      "border": null,
      "bottom": null,
      "display": null,
      "flex": null,
      "flex_flow": null,
      "grid_area": null,
      "grid_auto_columns": null,
      "grid_auto_flow": null,
      "grid_auto_rows": null,
      "grid_column": null,
      "grid_gap": null,
      "grid_row": null,
      "grid_template_areas": null,
      "grid_template_columns": null,
      "grid_template_rows": null,
      "height": null,
      "justify_content": null,
      "justify_items": null,
      "left": null,
      "margin": null,
      "max_height": null,
      "max_width": null,
      "min_height": null,
      "min_width": null,
      "object_fit": null,
      "object_position": null,
      "order": null,
      "overflow": null,
      "overflow_x": null,
      "overflow_y": null,
      "padding": null,
      "right": null,
      "top": null,
      "visibility": null,
      "width": null
     }
    },
    "83c311a2025a473c9c556ab1e07f4938": {
     "model_module": "@jupyter-widgets/controls",
     "model_module_version": "1.5.0",
     "model_name": "DescriptionStyleModel",
     "state": {
      "_model_module": "@jupyter-widgets/controls",
      "_model_module_version": "1.5.0",
      "_model_name": "DescriptionStyleModel",
      "_view_count": null,
      "_view_module": "@jupyter-widgets/base",
      "_view_module_version": "1.2.0",
      "_view_name": "StyleView",
      "description_width": ""
     }
    },
    "889435da49434977a8c05d3a7e44a9d2": {
     "model_module": "@jupyter-widgets/controls",
     "model_module_version": "1.5.0",
     "model_name": "DescriptionStyleModel",
     "state": {
      "_model_module": "@jupyter-widgets/controls",
      "_model_module_version": "1.5.0",
      "_model_name": "DescriptionStyleModel",
      "_view_count": null,
      "_view_module": "@jupyter-widgets/base",
      "_view_module_version": "1.2.0",
      "_view_name": "StyleView",
      "description_width": ""
     }
    },
    "8f4750c71cff4c358539fd52c9a44a58": {
     "model_module": "@jupyter-widgets/controls",
     "model_module_version": "1.5.0",
     "model_name": "DescriptionStyleModel",
     "state": {
      "_model_module": "@jupyter-widgets/controls",
      "_model_module_version": "1.5.0",
      "_model_name": "DescriptionStyleModel",
      "_view_count": null,
      "_view_module": "@jupyter-widgets/base",
      "_view_module_version": "1.2.0",
      "_view_name": "StyleView",
      "description_width": ""
     }
    },
    "8f5112d31c21491bba185404b4bd456d": {
     "model_module": "@jupyter-widgets/base",
     "model_module_version": "1.2.0",
     "model_name": "LayoutModel",
     "state": {
      "_model_module": "@jupyter-widgets/base",
      "_model_module_version": "1.2.0",
      "_model_name": "LayoutModel",
      "_view_count": null,
      "_view_module": "@jupyter-widgets/base",
      "_view_module_version": "1.2.0",
      "_view_name": "LayoutView",
      "align_content": null,
      "align_items": null,
      "align_self": null,
      "border": null,
      "bottom": null,
      "display": null,
      "flex": null,
      "flex_flow": null,
      "grid_area": null,
      "grid_auto_columns": null,
      "grid_auto_flow": null,
      "grid_auto_rows": null,
      "grid_column": null,
      "grid_gap": null,
      "grid_row": null,
      "grid_template_areas": null,
      "grid_template_columns": null,
      "grid_template_rows": null,
      "height": null,
      "justify_content": null,
      "justify_items": null,
      "left": null,
      "margin": null,
      "max_height": null,
      "max_width": null,
      "min_height": null,
      "min_width": null,
      "object_fit": null,
      "object_position": null,
      "order": null,
      "overflow": null,
      "overflow_x": null,
      "overflow_y": null,
      "padding": null,
      "right": null,
      "top": null,
      "visibility": null,
      "width": null
     }
    },
    "946c6752cc98472891313b4ecbd6c571": {
     "model_module": "@jupyter-widgets/controls",
     "model_module_version": "1.5.0",
     "model_name": "HTMLModel",
     "state": {
      "_dom_classes": [],
      "_model_module": "@jupyter-widgets/controls",
      "_model_module_version": "1.5.0",
      "_model_name": "HTMLModel",
      "_view_count": null,
      "_view_module": "@jupyter-widgets/controls",
      "_view_module_version": "1.5.0",
      "_view_name": "HTMLView",
      "description": "",
      "description_tooltip": null,
      "layout": "IPY_MODEL_5e54152314f74b09a8c519c354809099",
      "placeholder": "​",
      "style": "IPY_MODEL_83c311a2025a473c9c556ab1e07f4938",
      "value": " 23/23 [00:05&lt;00:00,  4.60it/s, Completed]"
     }
    },
    "989e623968884420b05466517fdd7fd4": {
     "model_module": "@jupyter-widgets/base",
     "model_module_version": "1.2.0",
     "model_name": "LayoutModel",
     "state": {
      "_model_module": "@jupyter-widgets/base",
      "_model_module_version": "1.2.0",
      "_model_name": "LayoutModel",
      "_view_count": null,
      "_view_module": "@jupyter-widgets/base",
      "_view_module_version": "1.2.0",
      "_view_name": "LayoutView",
      "align_content": null,
      "align_items": null,
      "align_self": null,
      "border": null,
      "bottom": null,
      "display": null,
      "flex": null,
      "flex_flow": null,
      "grid_area": null,
      "grid_auto_columns": null,
      "grid_auto_flow": null,
      "grid_auto_rows": null,
      "grid_column": null,
      "grid_gap": null,
      "grid_row": null,
      "grid_template_areas": null,
      "grid_template_columns": null,
      "grid_template_rows": null,
      "height": null,
      "justify_content": null,
      "justify_items": null,
      "left": null,
      "margin": null,
      "max_height": null,
      "max_width": null,
      "min_height": null,
      "min_width": null,
      "object_fit": null,
      "object_position": null,
      "order": null,
      "overflow": null,
      "overflow_x": null,
      "overflow_y": null,
      "padding": null,
      "right": null,
      "top": null,
      "visibility": null,
      "width": null
     }
    },
    "9e3336fae4dc45c6b6c0ca8f7d5f67eb": {
     "model_module": "@jupyter-widgets/controls",
     "model_module_version": "1.5.0",
     "model_name": "HBoxModel",
     "state": {
      "_dom_classes": [],
      "_model_module": "@jupyter-widgets/controls",
      "_model_module_version": "1.5.0",
      "_model_name": "HBoxModel",
      "_view_count": null,
      "_view_module": "@jupyter-widgets/controls",
      "_view_module_version": "1.5.0",
      "_view_name": "HBoxView",
      "box_style": "",
      "children": [
       "IPY_MODEL_9edd039cea554faba11fe74ae8e47ebf",
       "IPY_MODEL_9f2a1a324ebc4696af4cfb0624a9bb9f",
       "IPY_MODEL_5b4cba52d9c04dc2a6587cdd1a1d2bff"
      ],
      "layout": "IPY_MODEL_e45fbc18868047b7aa1acdd9d27dadc3"
     }
    },
    "9edd039cea554faba11fe74ae8e47ebf": {
     "model_module": "@jupyter-widgets/controls",
     "model_module_version": "1.5.0",
     "model_name": "HTMLModel",
     "state": {
      "_dom_classes": [],
      "_model_module": "@jupyter-widgets/controls",
      "_model_module_version": "1.5.0",
      "_model_name": "HTMLModel",
      "_view_count": null,
      "_view_module": "@jupyter-widgets/controls",
      "_view_module_version": "1.5.0",
      "_view_name": "HTMLView",
      "description": "",
      "description_tooltip": null,
      "layout": "IPY_MODEL_42a60adcab3e4358a84a1a93ca5f9f1c",
      "placeholder": "​",
      "style": "IPY_MODEL_c56128ce3e54470c84c7cccde600de0e",
      "value": "100%"
     }
    },
    "9f2a1a324ebc4696af4cfb0624a9bb9f": {
     "model_module": "@jupyter-widgets/controls",
     "model_module_version": "1.5.0",
     "model_name": "FloatProgressModel",
     "state": {
      "_dom_classes": [],
      "_model_module": "@jupyter-widgets/controls",
      "_model_module_version": "1.5.0",
      "_model_name": "FloatProgressModel",
      "_view_count": null,
      "_view_module": "@jupyter-widgets/controls",
      "_view_module_version": "1.5.0",
      "_view_name": "ProgressView",
      "bar_style": "success",
      "description": "",
      "description_tooltip": null,
      "layout": "IPY_MODEL_cba5155c15bb477fbf0fda1affc33ebe",
      "max": 3,
      "min": 0,
      "orientation": "horizontal",
      "style": "IPY_MODEL_70fabc1a9cf947bbac79e50e85c37fdf",
      "value": 3
     }
    },
    "a269ba70a5944305a7636009ee041005": {
     "model_module": "@jupyter-widgets/controls",
     "model_module_version": "1.5.0",
     "model_name": "HTMLModel",
     "state": {
      "_dom_classes": [],
      "_model_module": "@jupyter-widgets/controls",
      "_model_module_version": "1.5.0",
      "_model_name": "HTMLModel",
      "_view_count": null,
      "_view_module": "@jupyter-widgets/controls",
      "_view_module_version": "1.5.0",
      "_view_name": "HTMLView",
      "description": "",
      "description_tooltip": null,
      "layout": "IPY_MODEL_65ffa229985e44b69031956adc25b241",
      "placeholder": "​",
      "style": "IPY_MODEL_2cfd09a8c9354fe8bbba89f08f3479f5",
      "value": "100%"
     }
    },
    "a3be212203e94e87a20c88ee8bd05add": {
     "model_module": "@jupyter-widgets/controls",
     "model_module_version": "1.5.0",
     "model_name": "ProgressStyleModel",
     "state": {
      "_model_module": "@jupyter-widgets/controls",
      "_model_module_version": "1.5.0",
      "_model_name": "ProgressStyleModel",
      "_view_count": null,
      "_view_module": "@jupyter-widgets/base",
      "_view_module_version": "1.2.0",
      "_view_name": "StyleView",
      "bar_color": null,
      "description_width": ""
     }
    },
    "a622b3591aa74726ab8797edfa4ee687": {
     "model_module": "@jupyter-widgets/controls",
     "model_module_version": "1.5.0",
     "model_name": "DescriptionStyleModel",
     "state": {
      "_model_module": "@jupyter-widgets/controls",
      "_model_module_version": "1.5.0",
      "_model_name": "DescriptionStyleModel",
      "_view_count": null,
      "_view_module": "@jupyter-widgets/base",
      "_view_module_version": "1.2.0",
      "_view_name": "StyleView",
      "description_width": ""
     }
    },
    "a67c508eaab14ba896eef4d5d5dbb6fb": {
     "model_module": "@jupyter-widgets/controls",
     "model_module_version": "1.5.0",
     "model_name": "HBoxModel",
     "state": {
      "_dom_classes": [],
      "_model_module": "@jupyter-widgets/controls",
      "_model_module_version": "1.5.0",
      "_model_name": "HBoxModel",
      "_view_count": null,
      "_view_module": "@jupyter-widgets/controls",
      "_view_module_version": "1.5.0",
      "_view_name": "HBoxView",
      "box_style": "",
      "children": [
       "IPY_MODEL_5ca619a93c704d2cacb689b241a30496",
       "IPY_MODEL_7933ff28ac36476b8b4b5a3522bb863d",
       "IPY_MODEL_153c9f5e3b7e44ffacd690f7cf257fa4"
      ],
      "layout": "IPY_MODEL_dd36d12645b5469da951edb424b8d707"
     }
    },
    "a6e787a011494392acc70f27c2c73c80": {
     "model_module": "@jupyter-widgets/base",
     "model_module_version": "1.2.0",
     "model_name": "LayoutModel",
     "state": {
      "_model_module": "@jupyter-widgets/base",
      "_model_module_version": "1.2.0",
      "_model_name": "LayoutModel",
      "_view_count": null,
      "_view_module": "@jupyter-widgets/base",
      "_view_module_version": "1.2.0",
      "_view_name": "LayoutView",
      "align_content": null,
      "align_items": null,
      "align_self": null,
      "border": null,
      "bottom": null,
      "display": null,
      "flex": null,
      "flex_flow": null,
      "grid_area": null,
      "grid_auto_columns": null,
      "grid_auto_flow": null,
      "grid_auto_rows": null,
      "grid_column": null,
      "grid_gap": null,
      "grid_row": null,
      "grid_template_areas": null,
      "grid_template_columns": null,
      "grid_template_rows": null,
      "height": null,
      "justify_content": null,
      "justify_items": null,
      "left": null,
      "margin": null,
      "max_height": null,
      "max_width": null,
      "min_height": null,
      "min_width": null,
      "object_fit": null,
      "object_position": null,
      "order": null,
      "overflow": null,
      "overflow_x": null,
      "overflow_y": null,
      "padding": null,
      "right": null,
      "top": null,
      "visibility": null,
      "width": null
     }
    },
    "a7dfafcdf31a4ad1a55c79e66bfd06cf": {
     "model_module": "@jupyter-widgets/controls",
     "model_module_version": "1.5.0",
     "model_name": "DescriptionStyleModel",
     "state": {
      "_model_module": "@jupyter-widgets/controls",
      "_model_module_version": "1.5.0",
      "_model_name": "DescriptionStyleModel",
      "_view_count": null,
      "_view_module": "@jupyter-widgets/base",
      "_view_module_version": "1.2.0",
      "_view_name": "StyleView",
      "description_width": ""
     }
    },
    "a9b287d726874f65b4726288dc64e995": {
     "model_module": "@jupyter-widgets/controls",
     "model_module_version": "1.5.0",
     "model_name": "HBoxModel",
     "state": {
      "_dom_classes": [],
      "_model_module": "@jupyter-widgets/controls",
      "_model_module_version": "1.5.0",
      "_model_name": "HBoxModel",
      "_view_count": null,
      "_view_module": "@jupyter-widgets/controls",
      "_view_module_version": "1.5.0",
      "_view_name": "HBoxView",
      "box_style": "",
      "children": [
       "IPY_MODEL_db46faa17f564d22ac09090c29c0c38f",
       "IPY_MODEL_180e4e6760224333908444f4aa1b2152",
       "IPY_MODEL_beb01308cb15417ab8500bf981720f2f"
      ],
      "layout": "IPY_MODEL_4f9c97b89a924684bb137610f98ce740"
     }
    },
    "ae1ebf534b8e4d3fbadbf570f5738757": {
     "model_module": "@jupyter-widgets/controls",
     "model_module_version": "1.5.0",
     "model_name": "ProgressStyleModel",
     "state": {
      "_model_module": "@jupyter-widgets/controls",
      "_model_module_version": "1.5.0",
      "_model_name": "ProgressStyleModel",
      "_view_count": null,
      "_view_module": "@jupyter-widgets/base",
      "_view_module_version": "1.2.0",
      "_view_name": "StyleView",
      "bar_color": null,
      "description_width": ""
     }
    },
    "ae42294356224fdb8703232992edf2cb": {
     "model_module": "@jupyter-widgets/controls",
     "model_module_version": "1.5.0",
     "model_name": "HBoxModel",
     "state": {
      "_dom_classes": [],
      "_model_module": "@jupyter-widgets/controls",
      "_model_module_version": "1.5.0",
      "_model_name": "HBoxModel",
      "_view_count": null,
      "_view_module": "@jupyter-widgets/controls",
      "_view_module_version": "1.5.0",
      "_view_name": "HBoxView",
      "box_style": "",
      "children": [
       "IPY_MODEL_a269ba70a5944305a7636009ee041005",
       "IPY_MODEL_6616fba1da6946c4977a94e115c81cf3",
       "IPY_MODEL_282381a8417c497bae69ec64431b3289"
      ],
      "layout": "IPY_MODEL_1b03e1ae1ae24e638ea68cffbd02387a"
     }
    },
    "bc50e1268d85420fa9f38a158c29d9a5": {
     "model_module": "@jupyter-widgets/base",
     "model_module_version": "1.2.0",
     "model_name": "LayoutModel",
     "state": {
      "_model_module": "@jupyter-widgets/base",
      "_model_module_version": "1.2.0",
      "_model_name": "LayoutModel",
      "_view_count": null,
      "_view_module": "@jupyter-widgets/base",
      "_view_module_version": "1.2.0",
      "_view_name": "LayoutView",
      "align_content": null,
      "align_items": null,
      "align_self": null,
      "border": null,
      "bottom": null,
      "display": null,
      "flex": null,
      "flex_flow": null,
      "grid_area": null,
      "grid_auto_columns": null,
      "grid_auto_flow": null,
      "grid_auto_rows": null,
      "grid_column": null,
      "grid_gap": null,
      "grid_row": null,
      "grid_template_areas": null,
      "grid_template_columns": null,
      "grid_template_rows": null,
      "height": null,
      "justify_content": null,
      "justify_items": null,
      "left": null,
      "margin": null,
      "max_height": null,
      "max_width": null,
      "min_height": null,
      "min_width": null,
      "object_fit": null,
      "object_position": null,
      "order": null,
      "overflow": null,
      "overflow_x": null,
      "overflow_y": null,
      "padding": null,
      "right": null,
      "top": null,
      "visibility": null,
      "width": null
     }
    },
    "beb01308cb15417ab8500bf981720f2f": {
     "model_module": "@jupyter-widgets/controls",
     "model_module_version": "1.5.0",
     "model_name": "HTMLModel",
     "state": {
      "_dom_classes": [],
      "_model_module": "@jupyter-widgets/controls",
      "_model_module_version": "1.5.0",
      "_model_name": "HTMLModel",
      "_view_count": null,
      "_view_module": "@jupyter-widgets/controls",
      "_view_module_version": "1.5.0",
      "_view_name": "HTMLView",
      "description": "",
      "description_tooltip": null,
      "layout": "IPY_MODEL_e6a4e09034394534b698f1f0d83e160e",
      "placeholder": "​",
      "style": "IPY_MODEL_8134ed8526024017a3805ba7752f6ee1",
      "value": " 1/1 [00:01&lt;00:00,  1.02s/it]"
     }
    },
    "c0aa37733b974b5389ed9e959710d2e0": {
     "model_module": "@jupyter-widgets/controls",
     "model_module_version": "1.5.0",
     "model_name": "HTMLModel",
     "state": {
      "_dom_classes": [],
      "_model_module": "@jupyter-widgets/controls",
      "_model_module_version": "1.5.0",
      "_model_name": "HTMLModel",
      "_view_count": null,
      "_view_module": "@jupyter-widgets/controls",
      "_view_module_version": "1.5.0",
      "_view_name": "HTMLView",
      "description": "",
      "description_tooltip": null,
      "layout": "IPY_MODEL_56ee6eb9dddd4b5ba4685af261494a3f",
      "placeholder": "​",
      "style": "IPY_MODEL_a7dfafcdf31a4ad1a55c79e66bfd06cf",
      "value": " 1/1 [00:00&lt;00:00,  1.27it/s]"
     }
    },
    "c0bf79cd0859414dbde8fdd2b7444b70": {
     "model_module": "@jupyter-widgets/base",
     "model_module_version": "1.2.0",
     "model_name": "LayoutModel",
     "state": {
      "_model_module": "@jupyter-widgets/base",
      "_model_module_version": "1.2.0",
      "_model_name": "LayoutModel",
      "_view_count": null,
      "_view_module": "@jupyter-widgets/base",
      "_view_module_version": "1.2.0",
      "_view_name": "LayoutView",
      "align_content": null,
      "align_items": null,
      "align_self": null,
      "border": null,
      "bottom": null,
      "display": null,
      "flex": null,
      "flex_flow": null,
      "grid_area": null,
      "grid_auto_columns": null,
      "grid_auto_flow": null,
      "grid_auto_rows": null,
      "grid_column": null,
      "grid_gap": null,
      "grid_row": null,
      "grid_template_areas": null,
      "grid_template_columns": null,
      "grid_template_rows": null,
      "height": null,
      "justify_content": null,
      "justify_items": null,
      "left": null,
      "margin": null,
      "max_height": null,
      "max_width": null,
      "min_height": null,
      "min_width": null,
      "object_fit": null,
      "object_position": null,
      "order": null,
      "overflow": null,
      "overflow_x": null,
      "overflow_y": null,
      "padding": null,
      "right": null,
      "top": null,
      "visibility": null,
      "width": null
     }
    },
    "c206436d9fcb4728838f08b11905bfb6": {
     "model_module": "@jupyter-widgets/controls",
     "model_module_version": "1.5.0",
     "model_name": "DescriptionStyleModel",
     "state": {
      "_model_module": "@jupyter-widgets/controls",
      "_model_module_version": "1.5.0",
      "_model_name": "DescriptionStyleModel",
      "_view_count": null,
      "_view_module": "@jupyter-widgets/base",
      "_view_module_version": "1.2.0",
      "_view_name": "StyleView",
      "description_width": ""
     }
    },
    "c31125494b054bafb6e76e53446f1b7f": {
     "model_module": "@jupyter-widgets/controls",
     "model_module_version": "1.5.0",
     "model_name": "HTMLModel",
     "state": {
      "_dom_classes": [],
      "_model_module": "@jupyter-widgets/controls",
      "_model_module_version": "1.5.0",
      "_model_name": "HTMLModel",
      "_view_count": null,
      "_view_module": "@jupyter-widgets/controls",
      "_view_module_version": "1.5.0",
      "_view_name": "HTMLView",
      "description": "",
      "description_tooltip": null,
      "layout": "IPY_MODEL_0a44b6c5698741ee8a07a5bc28b22bb3",
      "placeholder": "​",
      "style": "IPY_MODEL_f3cafee7bf564222ba3e811068cb0a1f",
      "value": "Render HTML: 100%"
     }
    },
    "c3c6f49684e5424d8cb6aa9529890dec": {
     "model_module": "@jupyter-widgets/controls",
     "model_module_version": "1.5.0",
     "model_name": "HTMLModel",
     "state": {
      "_dom_classes": [],
      "_model_module": "@jupyter-widgets/controls",
      "_model_module_version": "1.5.0",
      "_model_name": "HTMLModel",
      "_view_count": null,
      "_view_module": "@jupyter-widgets/controls",
      "_view_module_version": "1.5.0",
      "_view_name": "HTMLView",
      "description": "",
      "description_tooltip": null,
      "layout": "IPY_MODEL_c0bf79cd0859414dbde8fdd2b7444b70",
      "placeholder": "​",
      "style": "IPY_MODEL_8f4750c71cff4c358539fd52c9a44a58",
      "value": "Summarize dataset: 100%"
     }
    },
    "c4afaa51416544a590da2a57da2fd768": {
     "model_module": "@jupyter-widgets/base",
     "model_module_version": "1.2.0",
     "model_name": "LayoutModel",
     "state": {
      "_model_module": "@jupyter-widgets/base",
      "_model_module_version": "1.2.0",
      "_model_name": "LayoutModel",
      "_view_count": null,
      "_view_module": "@jupyter-widgets/base",
      "_view_module_version": "1.2.0",
      "_view_name": "LayoutView",
      "align_content": null,
      "align_items": null,
      "align_self": null,
      "border": null,
      "bottom": null,
      "display": null,
      "flex": null,
      "flex_flow": null,
      "grid_area": null,
      "grid_auto_columns": null,
      "grid_auto_flow": null,
      "grid_auto_rows": null,
      "grid_column": null,
      "grid_gap": null,
      "grid_row": null,
      "grid_template_areas": null,
      "grid_template_columns": null,
      "grid_template_rows": null,
      "height": null,
      "justify_content": null,
      "justify_items": null,
      "left": null,
      "margin": null,
      "max_height": null,
      "max_width": null,
      "min_height": null,
      "min_width": null,
      "object_fit": null,
      "object_position": null,
      "order": null,
      "overflow": null,
      "overflow_x": null,
      "overflow_y": null,
      "padding": null,
      "right": null,
      "top": null,
      "visibility": null,
      "width": null
     }
    },
    "c56128ce3e54470c84c7cccde600de0e": {
     "model_module": "@jupyter-widgets/controls",
     "model_module_version": "1.5.0",
     "model_name": "DescriptionStyleModel",
     "state": {
      "_model_module": "@jupyter-widgets/controls",
      "_model_module_version": "1.5.0",
      "_model_name": "DescriptionStyleModel",
      "_view_count": null,
      "_view_module": "@jupyter-widgets/base",
      "_view_module_version": "1.2.0",
      "_view_name": "StyleView",
      "description_width": ""
     }
    },
    "cba5155c15bb477fbf0fda1affc33ebe": {
     "model_module": "@jupyter-widgets/base",
     "model_module_version": "1.2.0",
     "model_name": "LayoutModel",
     "state": {
      "_model_module": "@jupyter-widgets/base",
      "_model_module_version": "1.2.0",
      "_model_name": "LayoutModel",
      "_view_count": null,
      "_view_module": "@jupyter-widgets/base",
      "_view_module_version": "1.2.0",
      "_view_name": "LayoutView",
      "align_content": null,
      "align_items": null,
      "align_self": null,
      "border": null,
      "bottom": null,
      "display": null,
      "flex": null,
      "flex_flow": null,
      "grid_area": null,
      "grid_auto_columns": null,
      "grid_auto_flow": null,
      "grid_auto_rows": null,
      "grid_column": null,
      "grid_gap": null,
      "grid_row": null,
      "grid_template_areas": null,
      "grid_template_columns": null,
      "grid_template_rows": null,
      "height": null,
      "justify_content": null,
      "justify_items": null,
      "left": null,
      "margin": null,
      "max_height": null,
      "max_width": null,
      "min_height": null,
      "min_width": null,
      "object_fit": null,
      "object_position": null,
      "order": null,
      "overflow": null,
      "overflow_x": null,
      "overflow_y": null,
      "padding": null,
      "right": null,
      "top": null,
      "visibility": null,
      "width": null
     }
    },
    "d3d7ef3806854333a2f2948477fbf487": {
     "model_module": "@jupyter-widgets/controls",
     "model_module_version": "1.5.0",
     "model_name": "DescriptionStyleModel",
     "state": {
      "_model_module": "@jupyter-widgets/controls",
      "_model_module_version": "1.5.0",
      "_model_name": "DescriptionStyleModel",
      "_view_count": null,
      "_view_module": "@jupyter-widgets/base",
      "_view_module_version": "1.2.0",
      "_view_name": "StyleView",
      "description_width": ""
     }
    },
    "d8d0377d4c554f4fb447975012f8222c": {
     "model_module": "@jupyter-widgets/base",
     "model_module_version": "1.2.0",
     "model_name": "LayoutModel",
     "state": {
      "_model_module": "@jupyter-widgets/base",
      "_model_module_version": "1.2.0",
      "_model_name": "LayoutModel",
      "_view_count": null,
      "_view_module": "@jupyter-widgets/base",
      "_view_module_version": "1.2.0",
      "_view_name": "LayoutView",
      "align_content": null,
      "align_items": null,
      "align_self": null,
      "border": null,
      "bottom": null,
      "display": null,
      "flex": null,
      "flex_flow": null,
      "grid_area": null,
      "grid_auto_columns": null,
      "grid_auto_flow": null,
      "grid_auto_rows": null,
      "grid_column": null,
      "grid_gap": null,
      "grid_row": null,
      "grid_template_areas": null,
      "grid_template_columns": null,
      "grid_template_rows": null,
      "height": null,
      "justify_content": null,
      "justify_items": null,
      "left": null,
      "margin": null,
      "max_height": null,
      "max_width": null,
      "min_height": null,
      "min_width": null,
      "object_fit": null,
      "object_position": null,
      "order": null,
      "overflow": null,
      "overflow_x": null,
      "overflow_y": null,
      "padding": null,
      "right": null,
      "top": null,
      "visibility": null,
      "width": null
     }
    },
    "db46faa17f564d22ac09090c29c0c38f": {
     "model_module": "@jupyter-widgets/controls",
     "model_module_version": "1.5.0",
     "model_name": "HTMLModel",
     "state": {
      "_dom_classes": [],
      "_model_module": "@jupyter-widgets/controls",
      "_model_module_version": "1.5.0",
      "_model_name": "HTMLModel",
      "_view_count": null,
      "_view_module": "@jupyter-widgets/controls",
      "_view_module_version": "1.5.0",
      "_view_name": "HTMLView",
      "description": "",
      "description_tooltip": null,
      "layout": "IPY_MODEL_742ef264db3e4d6d8abe5fb843257c1f",
      "placeholder": "​",
      "style": "IPY_MODEL_c206436d9fcb4728838f08b11905bfb6",
      "value": "Render HTML: 100%"
     }
    },
    "dc1d055757e3429c8712af12e551da82": {
     "model_module": "@jupyter-widgets/base",
     "model_module_version": "1.2.0",
     "model_name": "LayoutModel",
     "state": {
      "_model_module": "@jupyter-widgets/base",
      "_model_module_version": "1.2.0",
      "_model_name": "LayoutModel",
      "_view_count": null,
      "_view_module": "@jupyter-widgets/base",
      "_view_module_version": "1.2.0",
      "_view_name": "LayoutView",
      "align_content": null,
      "align_items": null,
      "align_self": null,
      "border": null,
      "bottom": null,
      "display": null,
      "flex": null,
      "flex_flow": null,
      "grid_area": null,
      "grid_auto_columns": null,
      "grid_auto_flow": null,
      "grid_auto_rows": null,
      "grid_column": null,
      "grid_gap": null,
      "grid_row": null,
      "grid_template_areas": null,
      "grid_template_columns": null,
      "grid_template_rows": null,
      "height": null,
      "justify_content": null,
      "justify_items": null,
      "left": null,
      "margin": null,
      "max_height": null,
      "max_width": null,
      "min_height": null,
      "min_width": null,
      "object_fit": null,
      "object_position": null,
      "order": null,
      "overflow": null,
      "overflow_x": null,
      "overflow_y": null,
      "padding": null,
      "right": null,
      "top": null,
      "visibility": null,
      "width": null
     }
    },
    "dd36d12645b5469da951edb424b8d707": {
     "model_module": "@jupyter-widgets/base",
     "model_module_version": "1.2.0",
     "model_name": "LayoutModel",
     "state": {
      "_model_module": "@jupyter-widgets/base",
      "_model_module_version": "1.2.0",
      "_model_name": "LayoutModel",
      "_view_count": null,
      "_view_module": "@jupyter-widgets/base",
      "_view_module_version": "1.2.0",
      "_view_name": "LayoutView",
      "align_content": null,
      "align_items": null,
      "align_self": null,
      "border": null,
      "bottom": null,
      "display": null,
      "flex": null,
      "flex_flow": null,
      "grid_area": null,
      "grid_auto_columns": null,
      "grid_auto_flow": null,
      "grid_auto_rows": null,
      "grid_column": null,
      "grid_gap": null,
      "grid_row": null,
      "grid_template_areas": null,
      "grid_template_columns": null,
      "grid_template_rows": null,
      "height": null,
      "justify_content": null,
      "justify_items": null,
      "left": null,
      "margin": null,
      "max_height": null,
      "max_width": null,
      "min_height": null,
      "min_width": null,
      "object_fit": null,
      "object_position": null,
      "order": null,
      "overflow": null,
      "overflow_x": null,
      "overflow_y": null,
      "padding": null,
      "right": null,
      "top": null,
      "visibility": null,
      "width": null
     }
    },
    "dd497ac25583497eb97ef60e708286c0": {
     "model_module": "@jupyter-widgets/controls",
     "model_module_version": "1.5.0",
     "model_name": "DescriptionStyleModel",
     "state": {
      "_model_module": "@jupyter-widgets/controls",
      "_model_module_version": "1.5.0",
      "_model_name": "DescriptionStyleModel",
      "_view_count": null,
      "_view_module": "@jupyter-widgets/base",
      "_view_module_version": "1.2.0",
      "_view_name": "StyleView",
      "description_width": ""
     }
    },
    "dfcb89d019be4f71aadad2c307645473": {
     "model_module": "@jupyter-widgets/base",
     "model_module_version": "1.2.0",
     "model_name": "LayoutModel",
     "state": {
      "_model_module": "@jupyter-widgets/base",
      "_model_module_version": "1.2.0",
      "_model_name": "LayoutModel",
      "_view_count": null,
      "_view_module": "@jupyter-widgets/base",
      "_view_module_version": "1.2.0",
      "_view_name": "LayoutView",
      "align_content": null,
      "align_items": null,
      "align_self": null,
      "border": null,
      "bottom": null,
      "display": null,
      "flex": null,
      "flex_flow": null,
      "grid_area": null,
      "grid_auto_columns": null,
      "grid_auto_flow": null,
      "grid_auto_rows": null,
      "grid_column": null,
      "grid_gap": null,
      "grid_row": null,
      "grid_template_areas": null,
      "grid_template_columns": null,
      "grid_template_rows": null,
      "height": null,
      "justify_content": null,
      "justify_items": null,
      "left": null,
      "margin": null,
      "max_height": null,
      "max_width": null,
      "min_height": null,
      "min_width": null,
      "object_fit": null,
      "object_position": null,
      "order": null,
      "overflow": null,
      "overflow_x": null,
      "overflow_y": null,
      "padding": null,
      "right": null,
      "top": null,
      "visibility": null,
      "width": null
     }
    },
    "e2d9a3f7c4f946889abc286512dcc917": {
     "model_module": "@jupyter-widgets/controls",
     "model_module_version": "1.5.0",
     "model_name": "FloatProgressModel",
     "state": {
      "_dom_classes": [],
      "_model_module": "@jupyter-widgets/controls",
      "_model_module_version": "1.5.0",
      "_model_name": "FloatProgressModel",
      "_view_count": null,
      "_view_module": "@jupyter-widgets/controls",
      "_view_module_version": "1.5.0",
      "_view_name": "ProgressView",
      "bar_style": "success",
      "description": "",
      "description_tooltip": null,
      "layout": "IPY_MODEL_bc50e1268d85420fa9f38a158c29d9a5",
      "max": 5,
      "min": 0,
      "orientation": "horizontal",
      "style": "IPY_MODEL_7806c110ce1342af9d11564b0cba6bf9",
      "value": 5
     }
    },
    "e45fbc18868047b7aa1acdd9d27dadc3": {
     "model_module": "@jupyter-widgets/base",
     "model_module_version": "1.2.0",
     "model_name": "LayoutModel",
     "state": {
      "_model_module": "@jupyter-widgets/base",
      "_model_module_version": "1.2.0",
      "_model_name": "LayoutModel",
      "_view_count": null,
      "_view_module": "@jupyter-widgets/base",
      "_view_module_version": "1.2.0",
      "_view_name": "LayoutView",
      "align_content": null,
      "align_items": null,
      "align_self": null,
      "border": null,
      "bottom": null,
      "display": null,
      "flex": null,
      "flex_flow": null,
      "grid_area": null,
      "grid_auto_columns": null,
      "grid_auto_flow": null,
      "grid_auto_rows": null,
      "grid_column": null,
      "grid_gap": null,
      "grid_row": null,
      "grid_template_areas": null,
      "grid_template_columns": null,
      "grid_template_rows": null,
      "height": null,
      "justify_content": null,
      "justify_items": null,
      "left": null,
      "margin": null,
      "max_height": null,
      "max_width": null,
      "min_height": null,
      "min_width": null,
      "object_fit": null,
      "object_position": null,
      "order": null,
      "overflow": null,
      "overflow_x": null,
      "overflow_y": null,
      "padding": null,
      "right": null,
      "top": null,
      "visibility": null,
      "width": null
     }
    },
    "e6a4e09034394534b698f1f0d83e160e": {
     "model_module": "@jupyter-widgets/base",
     "model_module_version": "1.2.0",
     "model_name": "LayoutModel",
     "state": {
      "_model_module": "@jupyter-widgets/base",
      "_model_module_version": "1.2.0",
      "_model_name": "LayoutModel",
      "_view_count": null,
      "_view_module": "@jupyter-widgets/base",
      "_view_module_version": "1.2.0",
      "_view_name": "LayoutView",
      "align_content": null,
      "align_items": null,
      "align_self": null,
      "border": null,
      "bottom": null,
      "display": null,
      "flex": null,
      "flex_flow": null,
      "grid_area": null,
      "grid_auto_columns": null,
      "grid_auto_flow": null,
      "grid_auto_rows": null,
      "grid_column": null,
      "grid_gap": null,
      "grid_row": null,
      "grid_template_areas": null,
      "grid_template_columns": null,
      "grid_template_rows": null,
      "height": null,
      "justify_content": null,
      "justify_items": null,
      "left": null,
      "margin": null,
      "max_height": null,
      "max_width": null,
      "min_height": null,
      "min_width": null,
      "object_fit": null,
      "object_position": null,
      "order": null,
      "overflow": null,
      "overflow_x": null,
      "overflow_y": null,
      "padding": null,
      "right": null,
      "top": null,
      "visibility": null,
      "width": null
     }
    },
    "ed5ed47a1fd44159afc3fb406f7474b7": {
     "model_module": "@jupyter-widgets/controls",
     "model_module_version": "1.5.0",
     "model_name": "HTMLModel",
     "state": {
      "_dom_classes": [],
      "_model_module": "@jupyter-widgets/controls",
      "_model_module_version": "1.5.0",
      "_model_name": "HTMLModel",
      "_view_count": null,
      "_view_module": "@jupyter-widgets/controls",
      "_view_module_version": "1.5.0",
      "_view_name": "HTMLView",
      "description": "",
      "description_tooltip": null,
      "layout": "IPY_MODEL_1ae6e49487114d7e858243517e8829be",
      "placeholder": "​",
      "style": "IPY_MODEL_dd497ac25583497eb97ef60e708286c0",
      "value": " 1/1 [00:03&lt;00:00,  3.64s/it]"
     }
    },
    "f12a89fad8ca4abbb6c8373eb6fff194": {
     "model_module": "@jupyter-widgets/controls",
     "model_module_version": "1.5.0",
     "model_name": "HBoxModel",
     "state": {
      "_dom_classes": [],
      "_model_module": "@jupyter-widgets/controls",
      "_model_module_version": "1.5.0",
      "_model_name": "HBoxModel",
      "_view_count": null,
      "_view_module": "@jupyter-widgets/controls",
      "_view_module_version": "1.5.0",
      "_view_name": "HBoxView",
      "box_style": "",
      "children": [
       "IPY_MODEL_c3c6f49684e5424d8cb6aa9529890dec",
       "IPY_MODEL_e2d9a3f7c4f946889abc286512dcc917",
       "IPY_MODEL_946c6752cc98472891313b4ecbd6c571"
      ],
      "layout": "IPY_MODEL_443116099660425e9fa88e37da20bef9"
     }
    },
    "f3cafee7bf564222ba3e811068cb0a1f": {
     "model_module": "@jupyter-widgets/controls",
     "model_module_version": "1.5.0",
     "model_name": "DescriptionStyleModel",
     "state": {
      "_model_module": "@jupyter-widgets/controls",
      "_model_module_version": "1.5.0",
      "_model_name": "DescriptionStyleModel",
      "_view_count": null,
      "_view_module": "@jupyter-widgets/base",
      "_view_module_version": "1.2.0",
      "_view_name": "StyleView",
      "description_width": ""
     }
    },
    "f5af225d7add4578af67e932774d2cc9": {
     "model_module": "@jupyter-widgets/controls",
     "model_module_version": "1.5.0",
     "model_name": "DescriptionStyleModel",
     "state": {
      "_model_module": "@jupyter-widgets/controls",
      "_model_module_version": "1.5.0",
      "_model_name": "DescriptionStyleModel",
      "_view_count": null,
      "_view_module": "@jupyter-widgets/base",
      "_view_module_version": "1.2.0",
      "_view_name": "StyleView",
      "description_width": ""
     }
    },
    "f7b9c170ca0f40c7a7d6997f2a36b831": {
     "model_module": "@jupyter-widgets/controls",
     "model_module_version": "1.5.0",
     "model_name": "ProgressStyleModel",
     "state": {
      "_model_module": "@jupyter-widgets/controls",
      "_model_module_version": "1.5.0",
      "_model_name": "ProgressStyleModel",
      "_view_count": null,
      "_view_module": "@jupyter-widgets/base",
      "_view_module_version": "1.2.0",
      "_view_name": "StyleView",
      "bar_color": null,
      "description_width": ""
     }
    },
    "f7c4bba33db64d56a5ae287e393c4e5d": {
     "model_module": "@jupyter-widgets/base",
     "model_module_version": "1.2.0",
     "model_name": "LayoutModel",
     "state": {
      "_model_module": "@jupyter-widgets/base",
      "_model_module_version": "1.2.0",
      "_model_name": "LayoutModel",
      "_view_count": null,
      "_view_module": "@jupyter-widgets/base",
      "_view_module_version": "1.2.0",
      "_view_name": "LayoutView",
      "align_content": null,
      "align_items": null,
      "align_self": null,
      "border": null,
      "bottom": null,
      "display": null,
      "flex": null,
      "flex_flow": null,
      "grid_area": null,
      "grid_auto_columns": null,
      "grid_auto_flow": null,
      "grid_auto_rows": null,
      "grid_column": null,
      "grid_gap": null,
      "grid_row": null,
      "grid_template_areas": null,
      "grid_template_columns": null,
      "grid_template_rows": null,
      "height": null,
      "justify_content": null,
      "justify_items": null,
      "left": null,
      "margin": null,
      "max_height": null,
      "max_width": null,
      "min_height": null,
      "min_width": null,
      "object_fit": null,
      "object_position": null,
      "order": null,
      "overflow": null,
      "overflow_x": null,
      "overflow_y": null,
      "padding": null,
      "right": null,
      "top": null,
      "visibility": null,
      "width": null
     }
    },
    "fa64ee0be3b84df1a0daf41fd305cae8": {
     "model_module": "@jupyter-widgets/controls",
     "model_module_version": "1.5.0",
     "model_name": "ProgressStyleModel",
     "state": {
      "_model_module": "@jupyter-widgets/controls",
      "_model_module_version": "1.5.0",
      "_model_name": "ProgressStyleModel",
      "_view_count": null,
      "_view_module": "@jupyter-widgets/base",
      "_view_module_version": "1.2.0",
      "_view_name": "StyleView",
      "bar_color": null,
      "description_width": ""
     }
    },
    "fa7fb7cfc3394d5eb960cafb24b7babb": {
     "model_module": "@jupyter-widgets/controls",
     "model_module_version": "1.5.0",
     "model_name": "ProgressStyleModel",
     "state": {
      "_model_module": "@jupyter-widgets/controls",
      "_model_module_version": "1.5.0",
      "_model_name": "ProgressStyleModel",
      "_view_count": null,
      "_view_module": "@jupyter-widgets/base",
      "_view_module_version": "1.2.0",
      "_view_name": "StyleView",
      "bar_color": null,
      "description_width": ""
     }
    }
   }
  }
 },
 "nbformat": 4,
 "nbformat_minor": 4
}
